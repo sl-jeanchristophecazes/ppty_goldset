{
 "cells": [
  {
   "cell_type": "markdown",
   "metadata": {},
   "source": [
    "# Get data"
   ]
  },
  {
   "cell_type": "code",
   "execution_count": 1,
   "metadata": {},
   "outputs": [],
   "source": [
    "import warnings \n",
    "import numpy as np\n",
    "\n",
    "warnings.filterwarnings(\"ignore\")"
   ]
  },
  {
   "cell_type": "markdown",
   "metadata": {},
   "source": [
    "## Retrieve the data from S3"
   ]
  },
  {
   "cell_type": "code",
   "execution_count": 2,
   "metadata": {
    "ExecuteTime": {
     "end_time": "2020-02-24T12:58:16.057228Z",
     "start_time": "2020-02-24T12:58:15.656132Z"
    }
   },
   "outputs": [],
   "source": [
    "from common_tools.aws.s3 import S3Client\n",
    "import pandas as pd \n",
    "s3_client = S3Client()\n",
    "data_path = s3_client.download_file('seloger-data-developers-dev','alaborde/data/data_query_20200220.csv')\n",
    "data = pd.read_csv(data_path)"
   ]
  },
  {
   "cell_type": "markdown",
   "metadata": {},
   "source": [
    "## Retrieve the ref_geo from S3"
   ]
  },
  {
   "cell_type": "code",
   "execution_count": 3,
   "metadata": {
    "ExecuteTime": {
     "end_time": "2020-02-24T12:58:30.396109Z",
     "start_time": "2020-02-24T12:58:26.495690Z"
    },
    "scrolled": true
   },
   "outputs": [],
   "source": [
    "from common_tools.aws.s3 import S3Client\n",
    "import pandas as pd\n",
    "s3_client = S3Client()\n",
    "ref_geo_path = s3_client.download_file('seloger-data-developers-dev','alaborde/data/ref_geo.csv')\n",
    "ref_geo = pd.read_csv(ref_geo_path)"
   ]
  },
  {
   "cell_type": "markdown",
   "metadata": {},
   "source": [
    "# Prepare data"
   ]
  },
  {
   "cell_type": "code",
   "execution_count": 4,
   "metadata": {
    "ExecuteTime": {
     "end_time": "2020-02-24T12:59:16.845816Z",
     "start_time": "2020-02-24T12:59:16.828597Z"
    }
   },
   "outputs": [],
   "source": [
    "data_prep = data[['idannonce','cp','ville','codeinsee','descriptif_fr',\n",
    "             'px', 'surface','annee_construct','nb_pieces', 'latitude', 'longitude']].copy()"
   ]
  },
  {
   "cell_type": "markdown",
   "metadata": {},
   "source": [
    "## Ads localization"
   ]
  },
  {
   "cell_type": "markdown",
   "metadata": {},
   "source": [
    "### Geo mapper CP --> City"
   ]
  },
  {
   "cell_type": "code",
   "execution_count": 5,
   "metadata": {
    "ExecuteTime": {
     "end_time": "2020-02-24T13:20:20.990269Z",
     "start_time": "2020-02-24T13:20:20.849411Z"
    }
   },
   "outputs": [],
   "source": [
    "key_city = ['city_name','city_id','city_code_insee_sl']\n",
    "geomap_cp = ref_geo.drop_duplicates(subset=key_city).dropna(subset=key_city)[key_city]\n",
    "geomap_cp = geomap_cp.rename(columns={'city_code_insee_sl': 'codeinsee'})"
   ]
  },
  {
   "cell_type": "code",
   "execution_count": 6,
   "metadata": {
    "ExecuteTime": {
     "end_time": "2020-02-24T13:03:03.224573Z",
     "start_time": "2020-02-24T13:03:03.141801Z"
    }
   },
   "outputs": [],
   "source": [
    "data_prep_code_insee = data_prep.merge(geomap_cp, how='left',on=['codeinsee'])\n",
    "data_prep_code_insee = data_prep_code_insee.rename(columns={\n",
    "    \"city_name\": \"city_name_by_code_insee\",\n",
    "    \"city_id\": 'city_id_by_code_insee'\n",
    "})"
   ]
  },
  {
   "cell_type": "markdown",
   "metadata": {},
   "source": [
    "### Project in Polygon"
   ]
  },
  {
   "cell_type": "code",
   "execution_count": 7,
   "metadata": {
    "ExecuteTime": {
     "end_time": "2020-02-24T13:06:05.952083Z",
     "start_time": "2020-02-24T13:06:05.948394Z"
    }
   },
   "outputs": [],
   "source": [
    "import sys\n",
    "sys.path.append('/home/jeanchristophe/codeFolder/sl_data-science-models/pricemap/src')\n",
    "sys.path.append('/home/jeanchristophe/codeFolder/sl_data-science-models/priceml/src')\n",
    "from pricemap.localization.looker import PolygonLookup\n",
    "from pricemap.localization.utils import looker_dict, build_geo_mapper\n",
    "from pricemap.filter.filters import lat_long_filter\n",
    "\n",
    "iris_dict, _, _ = looker_dict(ref_geo)\n",
    "iris_lookup = PolygonLookup(iris_dict)"
   ]
  },
  {
   "cell_type": "code",
   "execution_count": 8,
   "metadata": {},
   "outputs": [],
   "source": [
    "def localize(df: pd.DataFrame,\n",
    "             looker_iris: PolygonLookup,\n",
    "             ref_geo: pd.DataFrame) -> pd.DataFrame:\n",
    "    df_to_localize = df.copy()\n",
    "    df_to_localize.index.name = 'index'\n",
    "    geo_map_iris, _, geo_map_city = build_geo_mapper(ref_geo)\n",
    "    # Get dataframe with lat/lon information\n",
    "    df_with_latlon = df_to_localize.dropna(subset=['latitude', 'longitude']).copy()\n",
    "\n",
    "    # Look at the IRIS level\n",
    "    iris_id_from_latlon = looker_iris.lookup(df_with_latlon[['latitude', 'longitude']])\n",
    "    # Get projection table iris_id => dataframe index\n",
    "    index_to_id_iris = iris_id_from_latlon.to_frame().dropna()\n",
    "    index_to_id_iris.columns = ['iris_id']\n",
    "    index_to_id_iris.index.name = 'index'\n",
    "    # Merge dataframe with district id\n",
    "    dataframe_with_idiris = df_to_localize.merge(index_to_id_iris, how='right', on='index')\n",
    "    # And add the geo info\n",
    "    geo_map_iris['iris_id'] = geo_map_iris['iris_id'].astype(int)\n",
    "    dataframe_with_idiris = dataframe_with_idiris.merge(geo_map_iris, how='left', on='iris_id')\n",
    "    return dataframe_with_idiris"
   ]
  },
  {
   "cell_type": "code",
   "execution_count": 9,
   "metadata": {},
   "outputs": [],
   "source": [
    "data_prep_code_insee_filt = lat_long_filter(data_prep_code_insee, 'latitude', 'longitude', False)\n",
    "data_loc = localize(data_prep_code_insee_filt, iris_lookup, ref_geo)"
   ]
  },
  {
   "cell_type": "code",
   "execution_count": 10,
   "metadata": {
    "ExecuteTime": {
     "end_time": "2020-02-24T13:21:14.316124Z",
     "start_time": "2020-02-24T13:21:14.304397Z"
    }
   },
   "outputs": [],
   "source": [
    "geomap_cp_bis = geomap_cp.rename(columns={\"codeinsee\": \"city_code_insee_sl\",\n",
    "                                         'city_id': 'city_id_from_latlon'})\n",
    "data_loc = data_loc.merge(geomap_cp_bis, how='left', on=['city_code_insee_sl'])"
   ]
  },
  {
   "cell_type": "code",
   "execution_count": 11,
   "metadata": {
    "ExecuteTime": {
     "end_time": "2020-02-24T13:25:47.906421Z",
     "start_time": "2020-02-24T13:25:47.801730Z"
    }
   },
   "outputs": [],
   "source": [
    "data_localized = pd.concat([data_loc, data_prep_code_insee_filt], sort=False).drop_duplicates(subset=['idannonce'], keep='first')"
   ]
  },
  {
   "cell_type": "code",
   "execution_count": 12,
   "metadata": {
    "ExecuteTime": {
     "end_time": "2020-02-24T13:38:55.575421Z",
     "start_time": "2020-02-24T13:38:55.510865Z"
    }
   },
   "outputs": [],
   "source": [
    "districts_mapper = ref_geo.dropna(subset=['districts_id','districts_name']).drop_duplicates(subset=['districts_id','districts_name'])\n",
    "districts_mapper = districts_mapper[['districts_id','districts_name']].copy()"
   ]
  },
  {
   "cell_type": "code",
   "execution_count": 13,
   "metadata": {
    "ExecuteTime": {
     "end_time": "2020-02-24T13:39:43.214818Z",
     "start_time": "2020-02-24T13:39:43.056443Z"
    }
   },
   "outputs": [],
   "source": [
    "data_localized_keep = data_localized[(data_localized['city_id_by_code_insee'] ==data_localized['city_id_from_latlon'])\n",
    "              | (data_localized['city_id_from_latlon'].isna())]\n",
    "data_localized_keep = data_localized_keep.merge(districts_mapper, how='left', on=['districts_id'])\n",
    "data_localized_keep = data_localized_keep.drop(columns=['city_name', 'city_id_from_latlon','iris_id',\n",
    "                                                       'department_id','region_id','country_id'])\n",
    "data_loc = data_localized_keep.rename(columns={\n",
    "    \"city_name_by_code_insee\": 'city_name',\n",
    "    'city_id_by_code_insee': 'city_id',\n",
    "    \n",
    "}).copy()"
   ]
  },
  {
   "cell_type": "code",
   "execution_count": 14,
   "metadata": {
    "scrolled": true
   },
   "outputs": [
    {
     "data": {
      "text/html": [
       "<div>\n",
       "<style scoped>\n",
       "    .dataframe tbody tr th:only-of-type {\n",
       "        vertical-align: middle;\n",
       "    }\n",
       "\n",
       "    .dataframe tbody tr th {\n",
       "        vertical-align: top;\n",
       "    }\n",
       "\n",
       "    .dataframe thead th {\n",
       "        text-align: right;\n",
       "    }\n",
       "</style>\n",
       "<table border=\"1\" class=\"dataframe\">\n",
       "  <thead>\n",
       "    <tr style=\"text-align: right;\">\n",
       "      <th></th>\n",
       "      <th>idannonce</th>\n",
       "      <th>cp</th>\n",
       "      <th>ville</th>\n",
       "      <th>codeinsee</th>\n",
       "      <th>descriptif_fr</th>\n",
       "      <th>px</th>\n",
       "      <th>surface</th>\n",
       "      <th>annee_construct</th>\n",
       "      <th>nb_pieces</th>\n",
       "      <th>latitude</th>\n",
       "      <th>longitude</th>\n",
       "      <th>city_name</th>\n",
       "      <th>city_id</th>\n",
       "      <th>districts_id</th>\n",
       "      <th>city_code_insee_sl</th>\n",
       "      <th>districts_name</th>\n",
       "    </tr>\n",
       "  </thead>\n",
       "  <tbody>\n",
       "    <tr>\n",
       "      <th>0</th>\n",
       "      <td>153921147</td>\n",
       "      <td>83270</td>\n",
       "      <td>Saint Cyr sur Mer</td>\n",
       "      <td>830112.0</td>\n",
       "      <td>Les Lecques - en première ligne - proche mer e...</td>\n",
       "      <td>300000.0</td>\n",
       "      <td>37.70</td>\n",
       "      <td>NaN</td>\n",
       "      <td>2.0</td>\n",
       "      <td>43.179253</td>\n",
       "      <td>5.688592</td>\n",
       "      <td>Saint-Cyr-sur-Mer</td>\n",
       "      <td>35973.0</td>\n",
       "      <td>46103.0</td>\n",
       "      <td>830112.0</td>\n",
       "      <td>Les Lecques-Banette-Bourrasque-Pradeaux</td>\n",
       "    </tr>\n",
       "    <tr>\n",
       "      <th>1</th>\n",
       "      <td>149065527</td>\n",
       "      <td>83700</td>\n",
       "      <td>Saint Raphael</td>\n",
       "      <td>830118.0</td>\n",
       "      <td>L'agence WF KING de Valescure vous propose dan...</td>\n",
       "      <td>277000.0</td>\n",
       "      <td>55.00</td>\n",
       "      <td>2018.0</td>\n",
       "      <td>2.0</td>\n",
       "      <td>43.418758</td>\n",
       "      <td>6.796278</td>\n",
       "      <td>Saint-Raphaël</td>\n",
       "      <td>35979.0</td>\n",
       "      <td>46123.0</td>\n",
       "      <td>830118.0</td>\n",
       "      <td>Boulouris</td>\n",
       "    </tr>\n",
       "    <tr>\n",
       "      <th>2</th>\n",
       "      <td>146323453</td>\n",
       "      <td>78610</td>\n",
       "      <td>Saint-Leger-en-Yvelines</td>\n",
       "      <td>780562.0</td>\n",
       "      <td>Venez découvrir à mes côtés ce bien rare et at...</td>\n",
       "      <td>170000.0</td>\n",
       "      <td>57.00</td>\n",
       "      <td>1800.0</td>\n",
       "      <td>3.0</td>\n",
       "      <td>48.721718</td>\n",
       "      <td>1.764741</td>\n",
       "      <td>Saint-Léger-en-Yvelines</td>\n",
       "      <td>34117.0</td>\n",
       "      <td>NaN</td>\n",
       "      <td>780562.0</td>\n",
       "      <td>NaN</td>\n",
       "    </tr>\n",
       "    <tr>\n",
       "      <th>3</th>\n",
       "      <td>152749001</td>\n",
       "      <td>93140</td>\n",
       "      <td>Bondy</td>\n",
       "      <td>930010.0</td>\n",
       "      <td>Situé dans le nouvel éco quartier de Bondy en ...</td>\n",
       "      <td>213218.0</td>\n",
       "      <td>43.00</td>\n",
       "      <td>NaN</td>\n",
       "      <td>2.0</td>\n",
       "      <td>48.903725</td>\n",
       "      <td>2.485260</td>\n",
       "      <td>Bondy</td>\n",
       "      <td>38353.0</td>\n",
       "      <td>47200.0</td>\n",
       "      <td>930010.0</td>\n",
       "      <td>Le Saule Blanc</td>\n",
       "    </tr>\n",
       "    <tr>\n",
       "      <th>4</th>\n",
       "      <td>154493689</td>\n",
       "      <td>69100</td>\n",
       "      <td>Villeurbanne</td>\n",
       "      <td>690266.0</td>\n",
       "      <td>Château Gaillard, en étage élevé d'une future ...</td>\n",
       "      <td>498000.0</td>\n",
       "      <td>95.82</td>\n",
       "      <td>2021.0</td>\n",
       "      <td>4.0</td>\n",
       "      <td>45.773087</td>\n",
       "      <td>4.889020</td>\n",
       "      <td>Villeurbanne</td>\n",
       "      <td>30327.0</td>\n",
       "      <td>44571.0</td>\n",
       "      <td>690266.0</td>\n",
       "      <td>Les Poulettes</td>\n",
       "    </tr>\n",
       "    <tr>\n",
       "      <th>...</th>\n",
       "      <td>...</td>\n",
       "      <td>...</td>\n",
       "      <td>...</td>\n",
       "      <td>...</td>\n",
       "      <td>...</td>\n",
       "      <td>...</td>\n",
       "      <td>...</td>\n",
       "      <td>...</td>\n",
       "      <td>...</td>\n",
       "      <td>...</td>\n",
       "      <td>...</td>\n",
       "      <td>...</td>\n",
       "      <td>...</td>\n",
       "      <td>...</td>\n",
       "      <td>...</td>\n",
       "      <td>...</td>\n",
       "    </tr>\n",
       "    <tr>\n",
       "      <th>95407</th>\n",
       "      <td>152667559</td>\n",
       "      <td>69330</td>\n",
       "      <td>Meyzieu</td>\n",
       "      <td>690282.0</td>\n",
       "      <td>Appartement 4 pièces d'environ 66m² à vendre s...</td>\n",
       "      <td>103000.0</td>\n",
       "      <td>66.00</td>\n",
       "      <td>NaN</td>\n",
       "      <td>4.0</td>\n",
       "      <td>NaN</td>\n",
       "      <td>NaN</td>\n",
       "      <td>Meyzieu</td>\n",
       "      <td>30343.0</td>\n",
       "      <td>NaN</td>\n",
       "      <td>NaN</td>\n",
       "      <td>NaN</td>\n",
       "    </tr>\n",
       "    <tr>\n",
       "      <th>95408</th>\n",
       "      <td>152582881</td>\n",
       "      <td>01200</td>\n",
       "      <td>Lancrans</td>\n",
       "      <td>10205.0</td>\n",
       "      <td>Joli appartement de 84 m² situé au centre de l...</td>\n",
       "      <td>135000.0</td>\n",
       "      <td>84.00</td>\n",
       "      <td>1940.0</td>\n",
       "      <td>3.0</td>\n",
       "      <td>NaN</td>\n",
       "      <td>NaN</td>\n",
       "      <td>Lancrans</td>\n",
       "      <td>559.0</td>\n",
       "      <td>NaN</td>\n",
       "      <td>NaN</td>\n",
       "      <td>NaN</td>\n",
       "    </tr>\n",
       "    <tr>\n",
       "      <th>95409</th>\n",
       "      <td>153475491</td>\n",
       "      <td>33000</td>\n",
       "      <td>Bordeaux</td>\n",
       "      <td>330063.0</td>\n",
       "      <td>Entre Chartrons et Quinconces.Dans petites cop...</td>\n",
       "      <td>560000.0</td>\n",
       "      <td>74.00</td>\n",
       "      <td>NaN</td>\n",
       "      <td>3.0</td>\n",
       "      <td>NaN</td>\n",
       "      <td>NaN</td>\n",
       "      <td>Bordeaux</td>\n",
       "      <td>13950.0</td>\n",
       "      <td>NaN</td>\n",
       "      <td>NaN</td>\n",
       "      <td>NaN</td>\n",
       "    </tr>\n",
       "    <tr>\n",
       "      <th>95410</th>\n",
       "      <td>153486885</td>\n",
       "      <td>78100</td>\n",
       "      <td>St Germain en Laye</td>\n",
       "      <td>780551.0</td>\n",
       "      <td>ST GERMAIN Centre 5'RER, Calme Dans résidence ...</td>\n",
       "      <td>777000.0</td>\n",
       "      <td>97.37</td>\n",
       "      <td>NaN</td>\n",
       "      <td>4.0</td>\n",
       "      <td>NaN</td>\n",
       "      <td>NaN</td>\n",
       "      <td>Saint-Germain-en-Laye</td>\n",
       "      <td>34112.0</td>\n",
       "      <td>NaN</td>\n",
       "      <td>NaN</td>\n",
       "      <td>NaN</td>\n",
       "    </tr>\n",
       "    <tr>\n",
       "      <th>95411</th>\n",
       "      <td>146633713</td>\n",
       "      <td>65200</td>\n",
       "      <td>La Mongie</td>\n",
       "      <td>650901.0</td>\n",
       "      <td>En pied des pistes et proximité de tout commer...</td>\n",
       "      <td>38700.0</td>\n",
       "      <td>22.93</td>\n",
       "      <td>NaN</td>\n",
       "      <td>1.0</td>\n",
       "      <td>NaN</td>\n",
       "      <td>NaN</td>\n",
       "      <td>La Mongie</td>\n",
       "      <td>28840.0</td>\n",
       "      <td>NaN</td>\n",
       "      <td>NaN</td>\n",
       "      <td>NaN</td>\n",
       "    </tr>\n",
       "  </tbody>\n",
       "</table>\n",
       "<p>95412 rows × 16 columns</p>\n",
       "</div>"
      ],
      "text/plain": [
       "       idannonce     cp                    ville  codeinsee  \\\n",
       "0      153921147  83270        Saint Cyr sur Mer   830112.0   \n",
       "1      149065527  83700            Saint Raphael   830118.0   \n",
       "2      146323453  78610  Saint-Leger-en-Yvelines   780562.0   \n",
       "3      152749001  93140                    Bondy   930010.0   \n",
       "4      154493689  69100             Villeurbanne   690266.0   \n",
       "...          ...    ...                      ...        ...   \n",
       "95407  152667559  69330                  Meyzieu   690282.0   \n",
       "95408  152582881  01200                 Lancrans    10205.0   \n",
       "95409  153475491  33000                 Bordeaux   330063.0   \n",
       "95410  153486885  78100       St Germain en Laye   780551.0   \n",
       "95411  146633713  65200                La Mongie   650901.0   \n",
       "\n",
       "                                           descriptif_fr        px  surface  \\\n",
       "0      Les Lecques - en première ligne - proche mer e...  300000.0    37.70   \n",
       "1      L'agence WF KING de Valescure vous propose dan...  277000.0    55.00   \n",
       "2      Venez découvrir à mes côtés ce bien rare et at...  170000.0    57.00   \n",
       "3      Situé dans le nouvel éco quartier de Bondy en ...  213218.0    43.00   \n",
       "4      Château Gaillard, en étage élevé d'une future ...  498000.0    95.82   \n",
       "...                                                  ...       ...      ...   \n",
       "95407  Appartement 4 pièces d'environ 66m² à vendre s...  103000.0    66.00   \n",
       "95408  Joli appartement de 84 m² situé au centre de l...  135000.0    84.00   \n",
       "95409  Entre Chartrons et Quinconces.Dans petites cop...  560000.0    74.00   \n",
       "95410  ST GERMAIN Centre 5'RER, Calme Dans résidence ...  777000.0    97.37   \n",
       "95411  En pied des pistes et proximité de tout commer...   38700.0    22.93   \n",
       "\n",
       "       annee_construct  nb_pieces   latitude  longitude  \\\n",
       "0                  NaN        2.0  43.179253   5.688592   \n",
       "1               2018.0        2.0  43.418758   6.796278   \n",
       "2               1800.0        3.0  48.721718   1.764741   \n",
       "3                  NaN        2.0  48.903725   2.485260   \n",
       "4               2021.0        4.0  45.773087   4.889020   \n",
       "...                ...        ...        ...        ...   \n",
       "95407              NaN        4.0        NaN        NaN   \n",
       "95408           1940.0        3.0        NaN        NaN   \n",
       "95409              NaN        3.0        NaN        NaN   \n",
       "95410              NaN        4.0        NaN        NaN   \n",
       "95411              NaN        1.0        NaN        NaN   \n",
       "\n",
       "                     city_name  city_id  districts_id  city_code_insee_sl  \\\n",
       "0            Saint-Cyr-sur-Mer  35973.0       46103.0            830112.0   \n",
       "1                Saint-Raphaël  35979.0       46123.0            830118.0   \n",
       "2      Saint-Léger-en-Yvelines  34117.0           NaN            780562.0   \n",
       "3                        Bondy  38353.0       47200.0            930010.0   \n",
       "4                 Villeurbanne  30327.0       44571.0            690266.0   \n",
       "...                        ...      ...           ...                 ...   \n",
       "95407                  Meyzieu  30343.0           NaN                 NaN   \n",
       "95408                 Lancrans    559.0           NaN                 NaN   \n",
       "95409                 Bordeaux  13950.0           NaN                 NaN   \n",
       "95410    Saint-Germain-en-Laye  34112.0           NaN                 NaN   \n",
       "95411                La Mongie  28840.0           NaN                 NaN   \n",
       "\n",
       "                                districts_name  \n",
       "0      Les Lecques-Banette-Bourrasque-Pradeaux  \n",
       "1                                    Boulouris  \n",
       "2                                          NaN  \n",
       "3                               Le Saule Blanc  \n",
       "4                                Les Poulettes  \n",
       "...                                        ...  \n",
       "95407                                      NaN  \n",
       "95408                                      NaN  \n",
       "95409                                      NaN  \n",
       "95410                                      NaN  \n",
       "95411                                      NaN  \n",
       "\n",
       "[95412 rows x 16 columns]"
      ]
     },
     "execution_count": 14,
     "metadata": {},
     "output_type": "execute_result"
    }
   ],
   "source": [
    "data_loc"
   ]
  },
  {
   "cell_type": "markdown",
   "metadata": {},
   "source": [
    "## Save it locally"
   ]
  },
  {
   "cell_type": "code",
   "execution_count": 15,
   "metadata": {
    "ExecuteTime": {
     "end_time": "2020-02-24T13:40:43.950530Z",
     "start_time": "2020-02-24T13:40:39.613954Z"
    }
   },
   "outputs": [],
   "source": [
    "import pickle\n",
    "with open('/home/jeanchristophe/dataFolder/ppty_goldset/request_ads_2019_2020_iris_localized.pickle','wb') as handle:\n",
    "    pickle.dump(data_loc, handle)"
   ]
  },
  {
   "cell_type": "markdown",
   "metadata": {},
   "source": [
    "# Load it locally"
   ]
  },
  {
   "cell_type": "code",
   "execution_count": 16,
   "metadata": {
    "ExecuteTime": {
     "start_time": "2020-02-24T10:57:22.341Z"
    }
   },
   "outputs": [],
   "source": [
    "import pickle\n",
    "with open('/home/jeanchristophe/dataFolder/ppty_goldset/request_ads_2019_2020_iris_localized.pickle','rb') as handle:\n",
    "    data_loc = pickle.load(handle)"
   ]
  },
  {
   "cell_type": "code",
   "execution_count": 17,
   "metadata": {
    "ExecuteTime": {
     "end_time": "2020-02-24T13:41:44.634582Z",
     "start_time": "2020-02-24T13:41:44.630295Z"
    }
   },
   "outputs": [
    {
     "data": {
      "text/plain": [
       "Index(['idannonce', 'cp', 'ville', 'codeinsee', 'descriptif_fr', 'px',\n",
       "       'surface', 'annee_construct', 'nb_pieces', 'latitude', 'longitude',\n",
       "       'city_name', 'city_id', 'districts_id', 'city_code_insee_sl',\n",
       "       'districts_name'],\n",
       "      dtype='object')"
      ]
     },
     "execution_count": 17,
     "metadata": {},
     "output_type": "execute_result"
    }
   ],
   "source": [
    "data_loc.columns"
   ]
  },
  {
   "cell_type": "markdown",
   "metadata": {},
   "source": [
    "## Focus on Montpellier area"
   ]
  },
  {
   "cell_type": "code",
   "execution_count": 18,
   "metadata": {
    "ExecuteTime": {
     "end_time": "2020-02-24T13:41:15.153938Z",
     "start_time": "2020-02-24T13:41:15.127574Z"
    }
   },
   "outputs": [
    {
     "data": {
      "text/html": [
       "<div>\n",
       "<style scoped>\n",
       "    .dataframe tbody tr th:only-of-type {\n",
       "        vertical-align: middle;\n",
       "    }\n",
       "\n",
       "    .dataframe tbody tr th {\n",
       "        vertical-align: top;\n",
       "    }\n",
       "\n",
       "    .dataframe thead th {\n",
       "        text-align: right;\n",
       "    }\n",
       "</style>\n",
       "<table border=\"1\" class=\"dataframe\">\n",
       "  <thead>\n",
       "    <tr style=\"text-align: right;\">\n",
       "      <th></th>\n",
       "      <th>department_id</th>\n",
       "      <th>department_name</th>\n",
       "    </tr>\n",
       "  </thead>\n",
       "  <tbody>\n",
       "    <tr>\n",
       "      <th>12488</th>\n",
       "      <td>297</td>\n",
       "      <td>Hérault</td>\n",
       "    </tr>\n",
       "  </tbody>\n",
       "</table>\n",
       "</div>"
      ],
      "text/plain": [
       "       department_id department_name\n",
       "12488            297         Hérault"
      ]
     },
     "execution_count": 18,
     "metadata": {},
     "output_type": "execute_result"
    }
   ],
   "source": [
    "# Get department id\n",
    "ref_geo[ref_geo.department_name=='Hérault'].dropna(subset=['department_id']).drop_duplicates('department_name')\\\n",
    "[['department_id','department_name']]"
   ]
  },
  {
   "cell_type": "code",
   "execution_count": 19,
   "metadata": {
    "ExecuteTime": {
     "end_time": "2020-02-24T13:41:16.525651Z",
     "start_time": "2020-02-24T13:41:16.486830Z"
    }
   },
   "outputs": [
    {
     "data": {
      "text/plain": [
       "[14512,\n",
       " 14532,\n",
       " 14571,\n",
       " 14578,\n",
       " 14584,\n",
       " 14589,\n",
       " 14609,\n",
       " 14624,\n",
       " 14695,\n",
       " 14702,\n",
       " 14725,\n",
       " 14627]"
      ]
     },
     "execution_count": 19,
     "metadata": {},
     "output_type": "execute_result"
    }
   ],
   "source": [
    "# Get bordering cities\n",
    "list_id_bordering_montpellier = eval(ref_geo[ref_geo.city_name=='Montpellier'].dropna(subset=['city_id']).drop_duplicates('city_id')\\\n",
    "['city_bordering'].values[0])\n",
    "list_id_montpellier = list_id_bordering_montpellier + list(ref_geo[ref_geo.city_name=='Montpellier'].dropna(subset=['city_id']).drop_duplicates('city_id')\\\n",
    "[['city_id']].values[0])\n",
    "list_id_montpellier"
   ]
  },
  {
   "cell_type": "code",
   "execution_count": 20,
   "metadata": {
    "ExecuteTime": {
     "end_time": "2020-02-24T13:45:00.721320Z",
     "start_time": "2020-02-24T13:45:00.712028Z"
    }
   },
   "outputs": [
    {
     "data": {
      "text/plain": [
       "'1938 ads for Montpellier area'"
      ]
     },
     "execution_count": 20,
     "metadata": {},
     "output_type": "execute_result"
    }
   ],
   "source": [
    "# Filter in Montpellier\n",
    "df_montpellier = data_loc[data_loc.city_id.isin(list_id_montpellier)].copy()\n",
    "f'{df_montpellier.shape[0]} ads for Montpellier area'"
   ]
  },
  {
   "cell_type": "markdown",
   "metadata": {},
   "source": [
    "## Focus on Grenoble area"
   ]
  },
  {
   "cell_type": "code",
   "execution_count": 21,
   "metadata": {
    "ExecuteTime": {
     "end_time": "2020-02-24T13:47:59.833342Z",
     "start_time": "2020-02-24T13:47:59.795515Z"
    }
   },
   "outputs": [
    {
     "data": {
      "text/plain": [
       "[15838, 15845, 15854, 16058, 16096, 16098, 16146, 16155, 16156, 16182, 15869]"
      ]
     },
     "execution_count": 21,
     "metadata": {},
     "output_type": "execute_result"
    }
   ],
   "source": [
    "# Get bordering cities\n",
    "list_id_bordering_grenoble= eval(ref_geo[ref_geo.city_name=='Grenoble'].dropna(subset=['city_id']).drop_duplicates('city_id')\\\n",
    "['city_bordering'].values[0])\n",
    "list_id_grenoble = list_id_bordering_grenoble + list(ref_geo[ref_geo.city_name=='Grenoble'].dropna(subset=['city_id']).drop_duplicates('city_id')\\\n",
    "[['city_id']].values[0])\n",
    "list_id_grenoble"
   ]
  },
  {
   "cell_type": "code",
   "execution_count": 22,
   "metadata": {
    "ExecuteTime": {
     "end_time": "2020-02-24T13:48:01.785586Z",
     "start_time": "2020-02-24T13:48:01.777024Z"
    }
   },
   "outputs": [
    {
     "data": {
      "text/plain": [
       "'882 ads for Grenoble area'"
      ]
     },
     "execution_count": 22,
     "metadata": {},
     "output_type": "execute_result"
    }
   ],
   "source": [
    "# Filter in Grenoble\n",
    "df_grenoble = data_loc[data_loc.city_id.isin(list_id_grenoble)].copy()\n",
    "f'{df_grenoble.shape[0]} ads for Grenoble area'"
   ]
  },
  {
   "cell_type": "markdown",
   "metadata": {},
   "source": [
    "## Focus on Paris"
   ]
  },
  {
   "cell_type": "code",
   "execution_count": 23,
   "metadata": {
    "ExecuteTime": {
     "end_time": "2020-02-24T13:48:13.653763Z",
     "start_time": "2020-02-24T13:48:13.616102Z"
    }
   },
   "outputs": [
    {
     "data": {
      "text/plain": [
       "[32588, 32589, 32590, 32597, 32599, 38348, 38379, 38380, 32598]"
      ]
     },
     "execution_count": 23,
     "metadata": {},
     "output_type": "execute_result"
    }
   ],
   "source": [
    "# Get bordering cities\n",
    "list_id_bordering_paris18 = eval(ref_geo[ref_geo.city_name=='Paris 18ème'].dropna(subset=['city_id']).drop_duplicates('city_id')\\\n",
    "['city_bordering'].values[0])\n",
    "list_id_paris18 = list_id_bordering_paris18 + list(ref_geo[ref_geo.city_name=='Paris 18ème'].dropna(subset=['city_id']).drop_duplicates('city_id')\\\n",
    "[['city_id']].values[0])\n",
    "list_id_paris18"
   ]
  },
  {
   "cell_type": "code",
   "execution_count": 24,
   "metadata": {
    "ExecuteTime": {
     "end_time": "2020-02-24T13:49:53.860736Z",
     "start_time": "2020-02-24T13:49:53.852725Z"
    }
   },
   "outputs": [
    {
     "data": {
      "text/plain": [
       "'968 ads for Paris 18eme area'"
      ]
     },
     "execution_count": 24,
     "metadata": {},
     "output_type": "execute_result"
    }
   ],
   "source": [
    "# Filter in Paris 18eme\n",
    "df_paris18 = data_loc[data_loc.city_id.isin(list_id_paris18)].copy()\n",
    "f'{df_paris18.shape[0]} ads for Paris 18eme area'"
   ]
  },
  {
   "cell_type": "markdown",
   "metadata": {},
   "source": [
    "# Gold set"
   ]
  },
  {
   "cell_type": "code",
   "execution_count": 25,
   "metadata": {
    "ExecuteTime": {
     "end_time": "2020-02-24T13:51:07.461590Z",
     "start_time": "2020-02-24T13:51:07.450066Z"
    }
   },
   "outputs": [],
   "source": [
    "goldset = pd.concat([df_paris18, df_grenoble, df_montpellier], sort=False)"
   ]
  },
  {
   "cell_type": "markdown",
   "metadata": {},
   "source": [
    "## Export goldset"
   ]
  },
  {
   "cell_type": "code",
   "execution_count": 26,
   "metadata": {
    "ExecuteTime": {
     "end_time": "2020-02-24T13:52:12.863020Z",
     "start_time": "2020-02-24T13:52:12.748926Z"
    }
   },
   "outputs": [],
   "source": [
    "goldset.to_csv('/home/jeanchristophe/dataFolder/ppty_goldset/dedup_goldset.csv', index=False)"
   ]
  },
  {
   "cell_type": "markdown",
   "metadata": {},
   "source": [
    "# Text preprocessing "
   ]
  },
  {
   "cell_type": "code",
   "execution_count": 27,
   "metadata": {},
   "outputs": [],
   "source": [
    "import pandas as pd\n",
    "goldset = pd.read_csv('/home/jeanchristophe/dataFolder/ppty_goldset/dedup_goldset.csv')"
   ]
  },
  {
   "cell_type": "code",
   "execution_count": 28,
   "metadata": {},
   "outputs": [],
   "source": [
    "from pricemap.filter.filters import simple_text\n",
    "df_goldset_simpletxt = simple_text(goldset, 'descriptif_fr')"
   ]
  },
  {
   "cell_type": "code",
   "execution_count": 29,
   "metadata": {},
   "outputs": [],
   "source": [
    "data_goldset = df_goldset_simpletxt.copy()"
   ]
  },
  {
   "cell_type": "markdown",
   "metadata": {},
   "source": [
    "# Find similar ads"
   ]
  },
  {
   "cell_type": "markdown",
   "metadata": {},
   "source": [
    "## Geographic groups"
   ]
  },
  {
   "cell_type": "code",
   "execution_count": 30,
   "metadata": {
    "ExecuteTime": {
     "end_time": "2020-02-24T14:01:28.639335Z",
     "start_time": "2020-02-24T14:01:28.539090Z"
    }
   },
   "outputs": [],
   "source": [
    "# Group ads that are around the three targeted area\n",
    "# Method: project in ref geo to get the department and group the ads\n",
    "group_mapper= ['city_id','region_id']\n",
    "depart_mapper = ref_geo.drop_duplicates(subset=group_mapper).dropna(subset=group_mapper)[group_mapper]"
   ]
  },
  {
   "cell_type": "code",
   "execution_count": 31,
   "metadata": {
    "ExecuteTime": {
     "end_time": "2020-02-24T14:01:35.310018Z",
     "start_time": "2020-02-24T14:01:35.290057Z"
    }
   },
   "outputs": [
    {
     "data": {
      "text/plain": [
       "240    1938\n",
       "239     968\n",
       "252     882\n",
       "Name: region_id, dtype: int64"
      ]
     },
     "execution_count": 31,
     "metadata": {},
     "output_type": "execute_result"
    }
   ],
   "source": [
    "data_goldset_depart_code = data_goldset.merge(depart_mapper, how='left', on=['city_id'])\n",
    "data_goldset_depart_code.region_id.value_counts()                      "
   ]
  },
  {
   "cell_type": "markdown",
   "metadata": {},
   "source": [
    "## Rules on descriptive fields"
   ]
  },
  {
   "cell_type": "markdown",
   "metadata": {},
   "source": [
    "### Price"
   ]
  },
  {
   "cell_type": "code",
   "execution_count": null,
   "metadata": {
    "ExecuteTime": {
     "end_time": "2020-02-24T14:04:37.275966Z",
     "start_time": "2020-02-24T14:04:37.269306Z"
    }
   },
   "outputs": [],
   "source": [
    "# Delta price of 5%\n",
    "delta_price = 5\n",
    "# Create max and min bound for each price\n",
    "data_goldset_depart_code['min_px'] = data_goldset_depart_code.px*0.95\n",
    "data_goldset_depart_code['max_px'] = data_goldset_depart_code.px*1.05\n"
   ]
  },
  {
   "cell_type": "code",
   "execution_count": null,
   "metadata": {
    "ExecuteTime": {
     "end_time": "2020-02-24T14:05:55.326254Z",
     "start_time": "2020-02-24T14:05:55.292682Z"
    },
    "scrolled": true
   },
   "outputs": [],
   "source": [
    "# Test for ads of one group how many ads we get like this\n",
    "data_test = data_goldset_depart_code[data_goldset_depart_code.region_id == 240].copy()\n",
    "data_test"
   ]
  },
  {
   "cell_type": "code",
   "execution_count": null,
   "metadata": {
    "ExecuteTime": {
     "end_time": "2020-02-24T14:12:20.938946Z",
     "start_time": "2020-02-24T14:12:18.416551Z"
    }
   },
   "outputs": [],
   "source": [
    "price_matrix= np.zeros((data_test.shape[0], data_test.shape[0]))\n",
    "for i in range(data_test.shape[0]):\n",
    "    id_groups = np.where((data_test.px >= data_test.iloc[i]['min_px']) & (data_test.px <= data_test.iloc[i]['max_px']))\n",
    "    price_matrix[i, id_groups] = 1"
   ]
  },
  {
   "cell_type": "code",
   "execution_count": null,
   "metadata": {
    "ExecuteTime": {
     "end_time": "2020-02-24T14:13:13.802117Z",
     "start_time": "2020-02-24T14:13:12.686835Z"
    }
   },
   "outputs": [],
   "source": [
    "%matplotlib notebook\n",
    "import matplotlib.pyplot as plt\n",
    "plt.matshow(price_matrix)"
   ]
  },
  {
   "cell_type": "markdown",
   "metadata": {},
   "source": [
    "### Surface"
   ]
  },
  {
   "cell_type": "code",
   "execution_count": null,
   "metadata": {
    "ExecuteTime": {
     "end_time": "2020-02-24T14:16:45.387238Z",
     "start_time": "2020-02-24T14:16:45.380539Z"
    }
   },
   "outputs": [],
   "source": [
    "# Delta price of 5%\n",
    "delta_surface = 5\n",
    "# Create max and min bound for each price\n",
    "data_goldset_depart_code['min_surface'] = data_goldset_depart_code.surface*(1-delta_surface/100)\n",
    "data_goldset_depart_code['max_surface'] = data_goldset_depart_code.surface*(1+delta_surface/100)\n",
    "\n",
    "# Test for ads of one group how many ads we get like this\n",
    "data_test = data_goldset_depart_code[data_goldset_depart_code.region_id == 240].copy()"
   ]
  },
  {
   "cell_type": "code",
   "execution_count": null,
   "metadata": {
    "ExecuteTime": {
     "end_time": "2020-02-24T14:16:49.539678Z",
     "start_time": "2020-02-24T14:16:47.068266Z"
    }
   },
   "outputs": [],
   "source": [
    "surface_matrix= np.zeros((data_test.shape[0], data_test.shape[0]))\n",
    "for i in range(data_test.shape[0]):\n",
    "    id_groups = np.where((data_test.surface >= data_test.iloc[i]['min_surface']) & (data_test.surface <= data_test.iloc[i]['max_surface']))\n",
    "    surface_matrix[i, id_groups] = 1"
   ]
  },
  {
   "cell_type": "code",
   "execution_count": null,
   "metadata": {
    "ExecuteTime": {
     "end_time": "2020-02-24T14:16:59.379111Z",
     "start_time": "2020-02-24T14:16:59.338954Z"
    }
   },
   "outputs": [],
   "source": [
    "%matplotlib notebook\n",
    "import matplotlib.pyplot as plt\n",
    "plt.matshow(surface_matrix)"
   ]
  },
  {
   "cell_type": "markdown",
   "metadata": {},
   "source": [
    "### Nb pieces"
   ]
  },
  {
   "cell_type": "code",
   "execution_count": null,
   "metadata": {
    "ExecuteTime": {
     "end_time": "2020-02-24T14:35:59.541399Z",
     "start_time": "2020-02-24T14:35:59.534703Z"
    }
   },
   "outputs": [],
   "source": [
    "# Delta price of 5%\n",
    "delta_nbpiece = 1\n",
    "# Create max and min bound for each price\n",
    "data_goldset_depart_code['min_nbpiece'] = data_goldset_depart_code.nb_pieces-delta_nbpiece\n",
    "data_goldset_depart_code['max_nbpiece'] = data_goldset_depart_code.nb_pieces+delta_nbpiece\n",
    "\n",
    "# Test for ads of one group how many ads we get like this\n",
    "data_test = data_goldset_depart_code[data_goldset_depart_code.region_id == 240].copy()"
   ]
  },
  {
   "cell_type": "code",
   "execution_count": null,
   "metadata": {
    "ExecuteTime": {
     "end_time": "2020-02-24T14:24:41.576559Z",
     "start_time": "2020-02-24T14:24:39.095087Z"
    }
   },
   "outputs": [],
   "source": [
    "piece_matrix= np.zeros((data_test.shape[0], data_test.shape[0]))\n",
    "for i in range(data_test.shape[0]):\n",
    "    id_groups = np.where((data_test.nb_pieces >= data_test.iloc[i]['min_nbpiece']) & (data_test.nb_pieces <= data_test.iloc[i]['max_nbpiece']))\n",
    "    piece_matrix[i, id_groups] = 1"
   ]
  },
  {
   "cell_type": "code",
   "execution_count": null,
   "metadata": {
    "ExecuteTime": {
     "end_time": "2020-02-24T14:24:45.214662Z",
     "start_time": "2020-02-24T14:24:45.173760Z"
    }
   },
   "outputs": [],
   "source": [
    "%matplotlib notebook\n",
    "import matplotlib.pyplot as plt\n",
    "plt.matshow(piece_matrix)"
   ]
  },
  {
   "cell_type": "markdown",
   "metadata": {},
   "source": [
    "### Combine Price/Surface/Nb Pieces"
   ]
  },
  {
   "cell_type": "code",
   "execution_count": null,
   "metadata": {
    "ExecuteTime": {
     "end_time": "2020-02-24T14:25:30.254188Z",
     "start_time": "2020-02-24T14:25:30.229944Z"
    }
   },
   "outputs": [],
   "source": [
    "combined_matrix = np.multiply(np.multiply(piece_matrix, surface_matrix), price_matrix)"
   ]
  },
  {
   "cell_type": "code",
   "execution_count": null,
   "metadata": {
    "ExecuteTime": {
     "end_time": "2020-02-24T14:25:39.288241Z",
     "start_time": "2020-02-24T14:25:39.249861Z"
    }
   },
   "outputs": [],
   "source": [
    "%matplotlib notebook\n",
    "import matplotlib.pyplot as plt\n",
    "plt.matshow(combined_matrix)"
   ]
  },
  {
   "cell_type": "code",
   "execution_count": null,
   "metadata": {
    "ExecuteTime": {
     "end_time": "2020-02-24T14:38:57.132444Z",
     "start_time": "2020-02-24T14:38:55.608273Z"
    }
   },
   "outputs": [],
   "source": [
    "data_test['groups'] = 'nan'\n",
    "data_test['len_group'] = 0\n",
    "# Get groups\n",
    "for i in range(combined_matrix.shape[0]):\n",
    "    index_list = data_test.index[np.where(combined_matrix[i,:])[0].tolist()].tolist()\n",
    "    get_index = data_test.index[i]\n",
    "    if get_index in index_list:\n",
    "        index_list.remove(get_index)\n",
    "    id_annoncegroup = data_test.loc[index_list]['idannonce'].values.tolist()\n",
    "    data_test.at[get_index, 'groups'] = str(id_annoncegroup)\n",
    "    data_test.at[get_index, 'len_group'] = len(id_annoncegroup)\n",
    "    "
   ]
  },
  {
   "cell_type": "code",
   "execution_count": null,
   "metadata": {
    "ExecuteTime": {
     "end_time": "2020-02-24T14:41:56.350101Z",
     "start_time": "2020-02-24T14:41:56.343218Z"
    }
   },
   "outputs": [],
   "source": [
    "data_test[(data_test.len_group>5) & (data_test.len_group<10)].shape"
   ]
  },
  {
   "cell_type": "code",
   "execution_count": 112,
   "metadata": {
    "ExecuteTime": {
     "end_time": "2020-02-24T14:51:54.345763Z",
     "start_time": "2020-02-24T14:51:54.334477Z"
    }
   },
   "outputs": [],
   "source": [
    "def group_function(df, delta_price, delta_surface, delta_piece):\n",
    "    # Delta price of 5%\n",
    "    # Create max and min bound for each price\n",
    "    df['min_px'] = df.px*(1-(delta_price/100))\n",
    "    df['max_px'] = df.px*(1+(delta_price/100))\n",
    "    \n",
    "    # Create max and min bound for each price\n",
    "    df['min_surface'] = df.surface*(1-(delta_surface/100))\n",
    "    df['max_surface'] = df.surface*(1+(delta_surface/100))\n",
    "\n",
    "    df['min_nbpiece'] = df.nb_pieces-delta_nbpiece\n",
    "    df['max_nbpiece'] = df.nb_pieces+delta_nbpiece\n",
    "    \n",
    "    piece_matrix= np.zeros((df.shape[0], df.shape[0]))\n",
    "    surface_matrix= np.zeros((df.shape[0], df.shape[0]))\n",
    "    price_matrix= np.zeros((df.shape[0], df.shape[0]))\n",
    "    \n",
    "    for i in range(df.shape[0]):\n",
    "        id_groups = np.where((df.nb_pieces >= df.iloc[i]['min_nbpiece']) & (df.nb_pieces <= df.iloc[i]['max_nbpiece']))\n",
    "        piece_matrix[i, id_groups] = 1\n",
    "        id_groups = np.where((df.surface >= df.iloc[i]['min_surface']) & (df.surface <= df.iloc[i]['max_surface']))\n",
    "        surface_matrix[i, id_groups] = 1\n",
    "        id_groups = np.where((df.px >= df.iloc[i]['min_px']) & (df.px <= df.iloc[i]['max_px']))\n",
    "        price_matrix[i, id_groups] = 1\n",
    "    \n",
    "    combined_matrix = np.multiply(np.multiply(piece_matrix, surface_matrix), price_matrix)\n",
    "    df['groups'] = 'nan'\n",
    "    df['len_group'] = 0\n",
    "    # Get groups\n",
    "    for i in range(combined_matrix.shape[0]):\n",
    "        index_list = df.index[np.where(combined_matrix[i,:])[0].tolist()].tolist()\n",
    "        get_index = df.index[i]\n",
    "        if get_index in index_list:\n",
    "            index_list.remove(get_index)\n",
    "        id_annoncegroup = df.loc[index_list]['idannonce'].values.tolist()\n",
    "        df.at[get_index, 'groups'] = str(id_annoncegroup)\n",
    "        df.at[get_index, 'len_group'] = len(id_annoncegroup)\n",
    "    return df\n",
    "\n"
   ]
  },
  {
   "cell_type": "code",
   "execution_count": 113,
   "metadata": {
    "ExecuteTime": {
     "end_time": "2020-02-24T14:48:17.045934Z",
     "start_time": "2020-02-24T14:48:17.037997Z"
    }
   },
   "outputs": [],
   "source": [
    "df_montpellier = data_goldset_depart_code[data_goldset_depart_code.region_id == 240].copy()\n",
    "df_paris18 = data_goldset_depart_code[data_goldset_depart_code.region_id == 239].copy()\n",
    "df_grenoble= data_goldset_depart_code[data_goldset_depart_code.region_id == 252].copy()"
   ]
  },
  {
   "cell_type": "code",
   "execution_count": 114,
   "metadata": {
    "ExecuteTime": {
     "end_time": "2020-02-24T14:52:14.358784Z",
     "start_time": "2020-02-24T14:51:56.045714Z"
    }
   },
   "outputs": [],
   "source": [
    "delta_price = 5\n",
    "delta_surface = 5\n",
    "delta_nbpiece = 1\n",
    "\n",
    "groupped_montpellier = group_function(df_montpellier, delta_price, delta_surface, delta_piece)\n",
    "groupped_paris18 = group_function(df_paris18, delta_price, delta_surface, delta_piece)\n",
    "groupped_grenoble = group_function(df_grenoble, delta_price, delta_surface, delta_piece)"
   ]
  },
  {
   "cell_type": "code",
   "execution_count": 115,
   "metadata": {
    "ExecuteTime": {
     "end_time": "2020-02-24T14:53:06.824592Z",
     "start_time": "2020-02-24T14:53:06.818314Z"
    }
   },
   "outputs": [
    {
     "data": {
      "text/plain": [
       "(251, 25)"
      ]
     },
     "execution_count": 115,
     "metadata": {},
     "output_type": "execute_result"
    }
   ],
   "source": [
    "groupped_paris18[(groupped_paris18.len_group >= 4) & (groupped_paris18.len_group <= 8)].shape"
   ]
  },
  {
   "cell_type": "code",
   "execution_count": 116,
   "metadata": {
    "ExecuteTime": {
     "end_time": "2020-02-24T15:06:43.353498Z",
     "start_time": "2020-02-24T15:06:43.349491Z"
    }
   },
   "outputs": [],
   "source": [
    "def get_group_list(df, min_len, max_len):\n",
    "    df_filtered = df[(df.len_group >= min_len) & (df.len_group <= max_len)].copy()\n",
    "    list_group = []\n",
    "    for _, row in df_filtered.iterrows():\n",
    "        group = [row.idannonce] + eval(row.groups)\n",
    "        list_group.append(group)\n",
    "    return list_group\n",
    "    "
   ]
  },
  {
   "cell_type": "code",
   "execution_count": 117,
   "metadata": {
    "ExecuteTime": {
     "end_time": "2020-02-24T15:11:36.790031Z",
     "start_time": "2020-02-24T15:11:36.746682Z"
    }
   },
   "outputs": [
    {
     "data": {
      "text/plain": [
       "'440 idannonce in Paris'"
      ]
     },
     "execution_count": 117,
     "metadata": {},
     "output_type": "execute_result"
    }
   ],
   "source": [
    "# Groups on Paris\n",
    "list_of_groups = get_group_list(groupped_paris18, 4, 8)\n",
    "list_idannonce_flat = [item for sublist in list_of_groups for item in sublist]\n",
    "list_ids_paris = list(set(list_idannonce_flat))\n",
    "f'{len(list_ids_paris)} idannonce in Paris'"
   ]
  },
  {
   "cell_type": "code",
   "execution_count": 118,
   "metadata": {
    "ExecuteTime": {
     "end_time": "2020-02-24T15:11:34.808480Z",
     "start_time": "2020-02-24T15:11:34.741452Z"
    }
   },
   "outputs": [
    {
     "data": {
      "text/plain": [
       "'892 idannonce in Montpellier'"
      ]
     },
     "execution_count": 118,
     "metadata": {},
     "output_type": "execute_result"
    }
   ],
   "source": [
    "# Groups on Motnpellier\n",
    "list_of_groups = get_group_list(groupped_montpellier, 4, 8)\n",
    "list_idannonce_flat = [item for sublist in list_of_groups for item in sublist]\n",
    "list_ids_montpellier = list(set(list_idannonce_flat))\n",
    "f'{len(list_ids_montpellier)} idannonce in Montpellier'"
   ]
  },
  {
   "cell_type": "code",
   "execution_count": 119,
   "metadata": {
    "ExecuteTime": {
     "end_time": "2020-02-24T15:11:32.081431Z",
     "start_time": "2020-02-24T15:11:32.031697Z"
    }
   },
   "outputs": [
    {
     "data": {
      "text/plain": [
       "'517 idannonce in Grenoble'"
      ]
     },
     "execution_count": 119,
     "metadata": {},
     "output_type": "execute_result"
    }
   ],
   "source": [
    "# Groups on Motnpellier\n",
    "list_of_groups = get_group_list(groupped_grenoble, 4, 8)\n",
    "list_idannonce_flat = [item for sublist in list_of_groups for item in sublist]\n",
    "list_ids_grenoble = list(set(list_idannonce_flat))\n",
    "f'{len(list_ids_grenoble)} idannonce in Grenoble'"
   ]
  },
  {
   "cell_type": "code",
   "execution_count": 120,
   "metadata": {
    "ExecuteTime": {
     "end_time": "2020-02-24T15:12:26.410681Z",
     "start_time": "2020-02-24T15:12:26.406827Z"
    },
    "scrolled": true
   },
   "outputs": [
    {
     "data": {
      "text/plain": [
       "1849"
      ]
     },
     "execution_count": 120,
     "metadata": {},
     "output_type": "execute_result"
    }
   ],
   "source": [
    "list_ids_annotation = list_ids_paris + list_ids_montpellier + list_ids_grenoble\n",
    "len(list_ids_annotation)"
   ]
  },
  {
   "cell_type": "code",
   "execution_count": 121,
   "metadata": {},
   "outputs": [],
   "source": [
    "def get_len(row):\n",
    "    return len(eval(row['groups']))"
   ]
  },
  {
   "cell_type": "code",
   "execution_count": 122,
   "metadata": {
    "scrolled": true
   },
   "outputs": [
    {
     "data": {
      "text/plain": [
       "0       4\n",
       "1      10\n",
       "2       1\n",
       "3       1\n",
       "4       5\n",
       "       ..\n",
       "963     8\n",
       "964    11\n",
       "965     9\n",
       "966     1\n",
       "967     9\n",
       "Length: 968, dtype: int64"
      ]
     },
     "execution_count": 122,
     "metadata": {},
     "output_type": "execute_result"
    }
   ],
   "source": [
    "groupped_paris18.apply(get_len, axis = 1)"
   ]
  },
  {
   "cell_type": "code",
   "execution_count": 123,
   "metadata": {},
   "outputs": [
    {
     "data": {
      "text/plain": [
       "18"
      ]
     },
     "execution_count": 123,
     "metadata": {},
     "output_type": "execute_result"
    }
   ],
   "source": [
    "max(groupped_paris18.apply(get_len, axis = 1))"
   ]
  },
  {
   "cell_type": "code",
   "execution_count": 124,
   "metadata": {
    "scrolled": true
   },
   "outputs": [
    {
     "data": {
      "text/plain": [
       "3.419421487603306"
      ]
     },
     "execution_count": 124,
     "metadata": {},
     "output_type": "execute_result"
    }
   ],
   "source": [
    "np.mean(groupped_paris18.apply(get_len, axis = 1))"
   ]
  },
  {
   "cell_type": "code",
   "execution_count": 125,
   "metadata": {},
   "outputs": [
    {
     "data": {
      "text/plain": [
       "200"
      ]
     },
     "execution_count": 125,
     "metadata": {},
     "output_type": "execute_result"
    }
   ],
   "source": [
    "np.sum(groupped_paris18.apply(get_len, axis = 1) == 0)"
   ]
  },
  {
   "cell_type": "code",
   "execution_count": 126,
   "metadata": {},
   "outputs": [
    {
     "data": {
      "text/plain": [
       "<matplotlib.axes._subplots.AxesSubplot at 0x7fb8bd2be9d0>"
      ]
     },
     "execution_count": 126,
     "metadata": {},
     "output_type": "execute_result"
    },
    {
     "data": {
      "image/png": "[encoded data removed]",
      "text/plain": [
       "<Figure size 432x288 with 1 Axes>"
      ]
     },
     "metadata": {
      "needs_background": "light"
     },
     "output_type": "display_data"
    }
   ],
   "source": [
    "groupped_paris18.apply(get_len, axis = 1).hist()"
   ]
  },
  {
   "cell_type": "code",
   "execution_count": null,
   "metadata": {},
   "outputs": [],
   "source": []
  },
  {
   "cell_type": "markdown",
   "metadata": {},
   "source": [
    "### Smaller treshold for surface, higher on price"
   ]
  },
  {
   "cell_type": "code",
   "execution_count": 133,
   "metadata": {},
   "outputs": [],
   "source": [
    "delta_price = 7\n",
    "delta_surface = 2.5\n",
    "delta_nbpiece = 1\n",
    "\n",
    "groupped_montpellier = group_function(df_montpellier, delta_price, delta_surface, delta_piece)\n",
    "groupped_paris18 = group_function(df_paris18, delta_price, delta_surface, delta_piece)\n",
    "groupped_grenoble = group_function(df_grenoble, delta_price, delta_surface, delta_piece)"
   ]
  },
  {
   "cell_type": "code",
   "execution_count": 134,
   "metadata": {},
   "outputs": [
    {
     "data": {
      "text/plain": [
       "16"
      ]
     },
     "execution_count": 134,
     "metadata": {},
     "output_type": "execute_result"
    }
   ],
   "source": [
    "max(groupped_paris18.apply(get_len, axis = 1))"
   ]
  },
  {
   "cell_type": "code",
   "execution_count": 135,
   "metadata": {},
   "outputs": [
    {
     "data": {
      "text/plain": [
       "2.4607438016528924"
      ]
     },
     "execution_count": 135,
     "metadata": {},
     "output_type": "execute_result"
    }
   ],
   "source": [
    "np.mean(groupped_paris18.apply(get_len, axis = 1))"
   ]
  },
  {
   "cell_type": "code",
   "execution_count": 136,
   "metadata": {},
   "outputs": [
    {
     "data": {
      "text/plain": [
       "292"
      ]
     },
     "execution_count": 136,
     "metadata": {},
     "output_type": "execute_result"
    }
   ],
   "source": [
    "np.sum(groupped_paris18.apply(get_len, axis = 1) == 0)"
   ]
  },
  {
   "cell_type": "code",
   "execution_count": 137,
   "metadata": {},
   "outputs": [
    {
     "data": {
      "text/plain": [
       "<matplotlib.axes._subplots.AxesSubplot at 0x7fb8bcacf690>"
      ]
     },
     "execution_count": 137,
     "metadata": {},
     "output_type": "execute_result"
    },
    {
     "data": {
      "image/png": "[encoded data removed]",
      "text/plain": [
       "<Figure size 432x288 with 1 Axes>"
      ]
     },
     "metadata": {
      "needs_background": "light"
     },
     "output_type": "display_data"
    }
   ],
   "source": [
    "groupped_paris18.apply(get_len, axis = 1).hist()"
   ]
  },
  {
   "cell_type": "markdown",
   "metadata": {},
   "source": [
    "### Smaller treshold for surface and on price"
   ]
  },
  {
   "cell_type": "code",
   "execution_count": 138,
   "metadata": {},
   "outputs": [],
   "source": [
    "delta_price = 2.5\n",
    "delta_surface = 2.5\n",
    "delta_nbpiece = 1\n",
    "\n",
    "groupped_montpellier = group_function(df_montpellier, delta_price, delta_surface, delta_piece)\n",
    "groupped_paris18 = group_function(df_paris18, delta_price, delta_surface, delta_piece)\n",
    "groupped_grenoble = group_function(df_grenoble, delta_price, delta_surface, delta_piece)"
   ]
  },
  {
   "cell_type": "code",
   "execution_count": 139,
   "metadata": {},
   "outputs": [
    {
     "data": {
      "text/plain": [
       "9"
      ]
     },
     "execution_count": 139,
     "metadata": {},
     "output_type": "execute_result"
    }
   ],
   "source": [
    "max(groupped_paris18.apply(get_len, axis = 1))"
   ]
  },
  {
   "cell_type": "code",
   "execution_count": 140,
   "metadata": {},
   "outputs": [
    {
     "data": {
      "text/plain": [
       "1.0888429752066116"
      ]
     },
     "execution_count": 140,
     "metadata": {},
     "output_type": "execute_result"
    }
   ],
   "source": [
    "np.mean(groupped_paris18.apply(get_len, axis = 1))"
   ]
  },
  {
   "cell_type": "code",
   "execution_count": 141,
   "metadata": {},
   "outputs": [
    {
     "data": {
      "text/plain": [
       "491"
      ]
     },
     "execution_count": 141,
     "metadata": {},
     "output_type": "execute_result"
    }
   ],
   "source": [
    "np.sum(groupped_paris18.apply(get_len, axis = 1) == 0)"
   ]
  },
  {
   "cell_type": "code",
   "execution_count": 142,
   "metadata": {},
   "outputs": [
    {
     "data": {
      "text/plain": [
       "<matplotlib.axes._subplots.AxesSubplot at 0x7fb8bc9f92d0>"
      ]
     },
     "execution_count": 142,
     "metadata": {},
     "output_type": "execute_result"
    },
    {
     "data": {
      "image/png": "[encoded data removed]",
      "text/plain": [
       "<Figure size 432x288 with 1 Axes>"
      ]
     },
     "metadata": {
      "needs_background": "light"
     },
     "output_type": "display_data"
    }
   ],
   "source": [
    "groupped_paris18.apply(get_len, axis = 1).hist()"
   ]
  },
  {
   "cell_type": "code",
   "execution_count": 143,
   "metadata": {},
   "outputs": [],
   "source": [
    "delta_price = 3.5\n",
    "delta_surface = 3\n",
    "delta_nbpiece = 1\n",
    "\n",
    "groupped_montpellier = group_function(df_montpellier, delta_price, delta_surface, delta_piece)\n",
    "groupped_paris18 = group_function(df_paris18, delta_price, delta_surface, delta_piece)\n",
    "groupped_grenoble = group_function(df_grenoble, delta_price, delta_surface, delta_piece)"
   ]
  },
  {
   "cell_type": "code",
   "execution_count": 144,
   "metadata": {},
   "outputs": [
    {
     "data": {
      "text/plain": [
       "<matplotlib.axes._subplots.AxesSubplot at 0x7fb8bc96d890>"
      ]
     },
     "execution_count": 144,
     "metadata": {},
     "output_type": "execute_result"
    },
    {
     "data": {
      "image/png": "[encoded data removed]",
      "text/plain": [
       "<Figure size 432x288 with 1 Axes>"
      ]
     },
     "metadata": {
      "needs_background": "light"
     },
     "output_type": "display_data"
    }
   ],
   "source": [
    "groupped_paris18.apply(get_len, axis = 1).hist()"
   ]
  },
  {
   "cell_type": "code",
   "execution_count": 145,
   "metadata": {},
   "outputs": [
    {
     "data": {
      "text/plain": [
       "378"
      ]
     },
     "execution_count": 145,
     "metadata": {},
     "output_type": "execute_result"
    }
   ],
   "source": [
    "np.sum(groupped_paris18.apply(get_len, axis = 1) == 0)"
   ]
  },
  {
   "cell_type": "code",
   "execution_count": 146,
   "metadata": {},
   "outputs": [
    {
     "data": {
      "text/plain": [
       "1.6167355371900827"
      ]
     },
     "execution_count": 146,
     "metadata": {},
     "output_type": "execute_result"
    }
   ],
   "source": [
    "np.mean(groupped_paris18.apply(get_len, axis = 1))"
   ]
  },
  {
   "cell_type": "code",
   "execution_count": 147,
   "metadata": {},
   "outputs": [
    {
     "data": {
      "text/plain": [
       "11"
      ]
     },
     "execution_count": 147,
     "metadata": {},
     "output_type": "execute_result"
    }
   ],
   "source": [
    "max(groupped_paris18.apply(get_len, axis = 1))"
   ]
  },
  {
   "cell_type": "code",
   "execution_count": null,
   "metadata": {},
   "outputs": [],
   "source": []
  },
  {
   "cell_type": "code",
   "execution_count": null,
   "metadata": {},
   "outputs": [],
   "source": []
  },
  {
   "cell_type": "code",
   "execution_count": null,
   "metadata": {},
   "outputs": [],
   "source": []
  },
  {
   "cell_type": "code",
   "execution_count": null,
   "metadata": {},
   "outputs": [],
   "source": []
  },
  {
   "cell_type": "code",
   "execution_count": null,
   "metadata": {},
   "outputs": [],
   "source": []
  },
  {
   "cell_type": "code",
   "execution_count": null,
   "metadata": {},
   "outputs": [],
   "source": []
  },
  {
   "cell_type": "code",
   "execution_count": null,
   "metadata": {},
   "outputs": [],
   "source": []
  },
  {
   "cell_type": "code",
   "execution_count": null,
   "metadata": {
    "ExecuteTime": {
     "end_time": "2020-02-24T15:17:43.505028Z",
     "start_time": "2020-02-24T15:17:43.500422Z"
    }
   },
   "outputs": [],
   "source": [
    "import json\n",
    "with open('/home/ubuntu/workspace/data/dedup_gold_set/idannonce_dedup.json', 'w') as handle:\n",
    "    json.dump(list_ids_annotation, handle)"
   ]
  },
  {
   "cell_type": "code",
   "execution_count": null,
   "metadata": {
    "ExecuteTime": {
     "end_time": "2020-02-24T15:14:40.277970Z",
     "start_time": "2020-02-24T15:14:40.266417Z"
    }
   },
   "outputs": [],
   "source": [
    "groups_goldataset = pd.concat([groupped_grenoble, groupped_montpellier, groupped_paris18], sort=False)"
   ]
  },
  {
   "cell_type": "code",
   "execution_count": null,
   "metadata": {
    "ExecuteTime": {
     "end_time": "2020-02-24T16:30:31.265375Z",
     "start_time": "2020-02-24T16:30:31.257264Z"
    }
   },
   "outputs": [],
   "source": [
    "groupped_paris18.len_group.describe()"
   ]
  },
  {
   "cell_type": "code",
   "execution_count": null,
   "metadata": {
    "ExecuteTime": {
     "end_time": "2020-02-24T16:29:47.796191Z",
     "start_time": "2020-02-24T16:29:47.787908Z"
    }
   },
   "outputs": [],
   "source": [
    "groups_goldataset.len_group.describe()"
   ]
  },
  {
   "cell_type": "code",
   "execution_count": null,
   "metadata": {
    "ExecuteTime": {
     "end_time": "2020-02-24T15:16:14.634515Z",
     "start_time": "2020-02-24T15:16:14.495556Z"
    }
   },
   "outputs": [],
   "source": [
    "groups_goldataset.to_csv('/home/ubuntu/workspace/data/dedup_gold_set/goldset_dedup_grouped.csv', index=False)"
   ]
  },
  {
   "cell_type": "code",
   "execution_count": null,
   "metadata": {},
   "outputs": [],
   "source": []
  },
  {
   "cell_type": "code",
   "execution_count": null,
   "metadata": {
    "ExecuteTime": {
     "end_time": "2020-02-24T15:57:21.596706Z",
     "start_time": "2020-02-24T15:57:21.590950Z"
    }
   },
   "outputs": [],
   "source": [
    "groupped_paris18.city_name.value_counts()"
   ]
  },
  {
   "cell_type": "code",
   "execution_count": null,
   "metadata": {
    "ExecuteTime": {
     "end_time": "2020-02-24T16:20:54.880622Z",
     "start_time": "2020-02-24T16:20:54.876949Z"
    }
   },
   "outputs": [],
   "source": [
    "190_000*1.05"
   ]
  },
  {
   "cell_type": "markdown",
   "metadata": {},
   "source": [
    "# Check image access"
   ]
  },
  {
   "cell_type": "code",
   "execution_count": null,
   "metadata": {
    "ExecuteTime": {
     "end_time": "2020-03-27T10:33:33.901704Z",
     "start_time": "2020-03-27T10:33:33.898054Z"
    }
   },
   "outputs": [],
   "source": [
    "import json\n",
    "with open('/home/ubuntu/workspace/data/dedup_gold_set/idannonce_dedup.json', 'r') as handle:\n",
    "    selected_id_annonce = json.load(handle)"
   ]
  },
  {
   "cell_type": "code",
   "execution_count": null,
   "metadata": {
    "ExecuteTime": {
     "end_time": "2020-03-27T10:42:07.629427Z",
     "start_time": "2020-03-27T10:42:03.471770Z"
    }
   },
   "outputs": [],
   "source": [
    "import pandas as pd\n",
    "id_photo = pd.read_excel('/home/ubuntu/workspace/data/dedup_gold_set/visuels_Nico.xlsx')"
   ]
  },
  {
   "cell_type": "code",
   "execution_count": null,
   "metadata": {},
   "outputs": [],
   "source": [
    "id_photo"
   ]
  },
  {
   "cell_type": "code",
   "execution_count": null,
   "metadata": {},
   "outputs": [],
   "source": []
  },
  {
   "cell_type": "code",
   "execution_count": null,
   "metadata": {},
   "outputs": [],
   "source": []
  },
  {
   "cell_type": "markdown",
   "metadata": {},
   "source": [
    "# Archives"
   ]
  },
  {
   "cell_type": "code",
   "execution_count": null,
   "metadata": {
    "ExecuteTime": {
     "end_time": "2020-02-17T11:06:47.223026Z",
     "start_time": "2020-02-17T11:06:47.216163Z"
    }
   },
   "outputs": [],
   "source": [
    "interest_column = ['surface','nb_pieces','nb_chambres','px','latitude','longitude']\n",
    "# Select only columns of interest\n",
    "df_montpellier_data = df_montpellier_blacklist[interest_column]\n",
    "# Remove NaN\n",
    "df_montpellier_data_no_nan = df_montpellier_data.dropna(axis=0)\n"
   ]
  },
  {
   "cell_type": "code",
   "execution_count": null,
   "metadata": {
    "ExecuteTime": {
     "end_time": "2020-02-17T11:06:48.617040Z",
     "start_time": "2020-02-17T11:06:48.604519Z"
    }
   },
   "outputs": [],
   "source": [
    "df_montpellier_data_no_nan"
   ]
  },
  {
   "cell_type": "markdown",
   "metadata": {},
   "source": [
    "## Euclidian distance"
   ]
  },
  {
   "cell_type": "code",
   "execution_count": null,
   "metadata": {
    "ExecuteTime": {
     "end_time": "2020-02-17T11:06:52.463229Z",
     "start_time": "2020-02-17T11:06:50.468721Z"
    }
   },
   "outputs": [],
   "source": [
    "from sklearn.metrics.pairwise import euclidean_distances\n",
    "euclidian_dist = euclidean_distances(df_montpellier_data_no_nan.values, df_montpellier_data_no_nan.values)\n",
    "np.fill_diagonal(euclidian_dist, np.NaN)"
   ]
  },
  {
   "cell_type": "markdown",
   "metadata": {},
   "source": [
    "## Check ads with a null distance for columns of interest"
   ]
  },
  {
   "cell_type": "code",
   "execution_count": null,
   "metadata": {
    "ExecuteTime": {
     "end_time": "2020-02-17T11:06:54.478166Z",
     "start_time": "2020-02-17T11:06:53.808782Z"
    }
   },
   "outputs": [],
   "source": [
    "# Get ads index for which there is a null euclidian distance\n",
    "ad_index_1, ad_index_2 = np.where(euclidian_dist==0)"
   ]
  },
  {
   "cell_type": "code",
   "execution_count": null,
   "metadata": {
    "ExecuteTime": {
     "end_time": "2020-02-17T11:06:55.832330Z",
     "start_time": "2020-02-17T11:06:55.822960Z"
    }
   },
   "outputs": [],
   "source": [
    "# Index to Id Annonce\n",
    "ad_id_1 = df_montpellier.loc[df_montpellier_data_no_nan.iloc[ad_index_1].index].idannonce\n",
    "ad_id_2 = df_montpellier.loc[df_montpellier_data_no_nan.iloc[ad_index_2].index].idannonce"
   ]
  },
  {
   "cell_type": "code",
   "execution_count": null,
   "metadata": {
    "ExecuteTime": {
     "end_time": "2020-02-17T11:06:57.180713Z",
     "start_time": "2020-02-17T11:06:57.174613Z"
    }
   },
   "outputs": [],
   "source": [
    "similar_ads = np.array([ad_id_1, ad_id_2]).transpose()\n",
    "df_similar_ads = pd.DataFrame(similar_ads)\n",
    "df_similar_ads.columns = ['idannonce_1', 'idannonce_2']"
   ]
  },
  {
   "cell_type": "code",
   "execution_count": null,
   "metadata": {
    "ExecuteTime": {
     "end_time": "2020-02-17T11:07:11.860313Z",
     "start_time": "2020-02-17T11:07:11.476656Z"
    }
   },
   "outputs": [],
   "source": [
    "df_group_list = df_similar_ads.groupby('idannonce_1')['idannonce_2'].apply(list).reset_index()"
   ]
  },
  {
   "cell_type": "code",
   "execution_count": null,
   "metadata": {
    "ExecuteTime": {
     "end_time": "2020-02-17T11:07:13.197560Z",
     "start_time": "2020-02-17T11:07:13.190900Z"
    }
   },
   "outputs": [],
   "source": [
    "df_group_list['idannonce_1'] = df_group_list['idannonce_1'].apply(lambda x: [x])\n",
    "df_group_list['combined'] = df_group_list.values.tolist()"
   ]
  },
  {
   "cell_type": "code",
   "execution_count": null,
   "metadata": {
    "ExecuteTime": {
     "end_time": "2020-02-17T11:07:14.547869Z",
     "start_time": "2020-02-17T11:07:14.539771Z"
    }
   },
   "outputs": [],
   "source": [
    "def ravel_list(l):\n",
    "    return [item for sublist in l for item in sublist]\n",
    "df_group_list['groups_similar'] = df_group_list['combined'].apply(ravel_list)\n",
    "df_group_list['groups_size'] = df_group_list['groups_similar'].apply(lambda x: len(x))"
   ]
  },
  {
   "cell_type": "code",
   "execution_count": null,
   "metadata": {
    "ExecuteTime": {
     "end_time": "2020-02-17T11:07:16.832519Z",
     "start_time": "2020-02-17T11:07:16.818436Z"
    }
   },
   "outputs": [],
   "source": [
    "df_group_list[df_group_list['groups_size']>3][['groups_size']].describe()"
   ]
  },
  {
   "cell_type": "code",
   "execution_count": null,
   "metadata": {
    "ExecuteTime": {
     "end_time": "2020-02-17T11:07:18.989916Z",
     "start_time": "2020-02-17T11:07:18.986073Z"
    }
   },
   "outputs": [],
   "source": [
    "list_of_groups = df_group_list['groups_similar'] .values\n",
    "list_of_groups"
   ]
  },
  {
   "cell_type": "markdown",
   "metadata": {},
   "source": [
    "## Get groups of ID annonce"
   ]
  },
  {
   "cell_type": "code",
   "execution_count": null,
   "metadata": {
    "ExecuteTime": {
     "end_time": "2020-02-17T11:09:14.370359Z",
     "start_time": "2020-02-17T11:09:14.362854Z"
    }
   },
   "outputs": [],
   "source": [
    "df_groups = df_group_list.copy()[['groups_similar','groups_size']]\n",
    "df_groups.groups_size.value_counts()"
   ]
  },
  {
   "cell_type": "markdown",
   "metadata": {},
   "source": [
    "## Volume to export"
   ]
  },
  {
   "cell_type": "code",
   "execution_count": null,
   "metadata": {
    "ExecuteTime": {
     "end_time": "2020-02-17T11:13:24.054097Z",
     "start_time": "2020-02-17T11:13:24.047568Z"
    }
   },
   "outputs": [],
   "source": [
    "# CHeck Volume\n",
    "minimum_number_in_group = 5 \n",
    "nb_ads = df_groups[df_groups['groups_size']>=minimum_number_in_group].groups_size.sum()\n",
    "print(f'{nb_ads}')\n",
    "df_group_filtered = df_groups[df_groups['groups_size']>=minimum_number_in_group]"
   ]
  },
  {
   "cell_type": "code",
   "execution_count": null,
   "metadata": {
    "ExecuteTime": {
     "end_time": "2020-02-17T13:35:23.557491Z",
     "start_time": "2020-02-17T13:35:23.524459Z"
    }
   },
   "outputs": [],
   "source": [
    "# Get list of Id Annonce to export\n",
    "list_idannonce = []\n",
    "for index, row in df_group_filtered.iterrows():\n",
    "    for idannonce in row['groups_similar']:\n",
    "        list_idannonce.append([idannonce, index])\n",
    "idannonce_table = np.array(list_idannonce)\n",
    "idannonce_table"
   ]
  },
  {
   "cell_type": "markdown",
   "metadata": {},
   "source": [
    "## Check some examples"
   ]
  },
  {
   "cell_type": "code",
   "execution_count": null,
   "metadata": {
    "ExecuteTime": {
     "end_time": "2020-02-17T17:15:06.754502Z",
     "start_time": "2020-02-17T17:15:06.748489Z"
    }
   },
   "outputs": [],
   "source": [
    "example = df_groups[df_groups['groups_size']>5].iloc[70]['groups_similar']\n",
    "example"
   ]
  },
  {
   "cell_type": "code",
   "execution_count": null,
   "metadata": {
    "ExecuteTime": {
     "end_time": "2020-02-17T17:15:07.521156Z",
     "start_time": "2020-02-17T17:15:07.490565Z"
    }
   },
   "outputs": [],
   "source": [
    "df_montpellier[df_montpellier.idannonce.isin(example)].sort_values('dt_crea', ascending=False)"
   ]
  },
  {
   "cell_type": "code",
   "execution_count": null,
   "metadata": {
    "ExecuteTime": {
     "end_time": "2020-02-17T17:17:47.350932Z",
     "start_time": "2020-02-17T17:17:46.977333Z"
    }
   },
   "outputs": [],
   "source": [
    "a = []\n",
    "for i in range(100):\n",
    "    example = df_groups[df_groups['groups_size']>5].iloc[i]['groups_similar']\n",
    "    ll = df_montpellier[df_montpellier.idannonce.isin(example)].sort_values('dt_crea', ascending=False)\n",
    "    if ll['dt_crea'].iloc[0] > '2019-12-01':\n",
    "        a.append(example)"
   ]
  },
  {
   "cell_type": "code",
   "execution_count": null,
   "metadata": {
    "ExecuteTime": {
     "end_time": "2020-02-17T17:17:56.789592Z",
     "start_time": "2020-02-17T17:17:56.758636Z"
    }
   },
   "outputs": [],
   "source": [
    "df_montpellier[df_montpellier.idannonce.isin(a[1])].sort_values('dt_crea', ascending=False)"
   ]
  },
  {
   "cell_type": "code",
   "execution_count": null,
   "metadata": {},
   "outputs": [],
   "source": []
  }
 ],
 "metadata": {
  "kernelspec": {
   "display_name": "doublons3.7",
   "language": "python",
   "name": "doublons3.7"
  },
  "language_info": {
   "codemirror_mode": {
    "name": "ipython",
    "version": 3
   },
   "file_extension": ".py",
   "mimetype": "text/x-python",
   "name": "python",
   "nbconvert_exporter": "python",
   "pygments_lexer": "ipython3",
   "version": "3.7.7"
  },
  "toc": {
   "base_numbering": 1,
   "nav_menu": {},
   "number_sections": true,
   "sideBar": true,
   "skip_h1_title": false,
   "title_cell": "Table of Contents",
   "title_sidebar": "Contents",
   "toc_cell": false,
   "toc_position": {
    "height": "calc(100% - 180px)",
    "left": "10px",
    "top": "150px",
    "width": "258.075px"
   },
   "toc_section_display": true,
   "toc_window_display": true
  },
  "varInspector": {
   "cols": {
    "lenName": 16,
    "lenType": 16,
    "lenVar": 40
   },
   "kernels_config": {
    "python": {
     "delete_cmd_postfix": "",
     "delete_cmd_prefix": "del ",
     "library": "var_list.py",
     "varRefreshCmd": "print(var_dic_list())"
    },
    "r": {
     "delete_cmd_postfix": ") ",
     "delete_cmd_prefix": "rm(",
     "library": "var_list.r",
     "varRefreshCmd": "cat(var_dic_list()) "
    }
   },
   "position": {
    "height": "408.4px",
    "left": "1164.6px",
    "right": "20px",
    "top": "120px",
    "width": "351.4px"
   },
   "types_to_exclude": [
    "module",
    "function",
    "builtin_function_or_method",
    "instance",
    "_Feature"
   ],
   "window_display": false
  }
 },
 "nbformat": 4,
 "nbformat_minor": 4
}
