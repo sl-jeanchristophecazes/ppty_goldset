{
 "cells": [
  {
   "cell_type": "markdown",
   "metadata": {},
   "source": [
    "# Get data"
   ]
  },
  {
   "cell_type": "code",
   "execution_count": 2,
   "metadata": {},
   "outputs": [],
   "source": [
    "import warnings \n",
    "import numpy as np\n",
    "\n",
    "warnings.filterwarnings(\"ignore\")"
   ]
  },
  {
   "cell_type": "markdown",
   "metadata": {},
   "source": [
    "## Retrieve the data from S3"
   ]
  },
  {
   "cell_type": "code",
   "execution_count": 3,
   "metadata": {
    "ExecuteTime": {
     "end_time": "2020-02-24T12:58:16.057228Z",
     "start_time": "2020-02-24T12:58:15.656132Z"
    }
   },
   "outputs": [],
   "source": [
    "from common_tools.aws.s3 import S3Client\n",
    "import pandas as pd \n",
    "s3_client = S3Client()\n",
    "data_path = s3_client.download_file('seloger-data-developers-dev','alaborde/data/data_query_20200220.csv')\n",
    "data = pd.read_csv(data_path)"
   ]
  },
  {
   "cell_type": "markdown",
   "metadata": {},
   "source": [
    "## Retrieve the ref_geo from S3"
   ]
  },
  {
   "cell_type": "code",
   "execution_count": null,
   "metadata": {
    "ExecuteTime": {
     "end_time": "2020-02-24T12:58:30.396109Z",
     "start_time": "2020-02-24T12:58:26.495690Z"
    },
    "scrolled": true
   },
   "outputs": [],
   "source": [
    "from common_tools.aws.s3 import S3Client\n",
    "import pandas as pd\n",
    "s3_client = S3Client()\n",
    "ref_geo_path = s3_client.download_file('seloger-data-developers-dev','alaborde/data/ref_geo.csv')\n",
    "ref_geo = pd.read_csv(ref_geo_path)"
   ]
  },
  {
   "cell_type": "markdown",
   "metadata": {},
   "source": [
    "# Prepare data"
   ]
  },
  {
   "cell_type": "code",
   "execution_count": null,
   "metadata": {
    "ExecuteTime": {
     "end_time": "2020-02-24T12:59:16.845816Z",
     "start_time": "2020-02-24T12:59:16.828597Z"
    }
   },
   "outputs": [],
   "source": [
    "data_prep = data[['idannonce','cp','ville','codeinsee','descriptif_fr',\n",
    "             'px', 'surface','annee_construct','nb_pieces', 'latitude', 'longitude']].copy()"
   ]
  },
  {
   "cell_type": "markdown",
   "metadata": {},
   "source": [
    "## Ads localization"
   ]
  },
  {
   "cell_type": "markdown",
   "metadata": {},
   "source": [
    "### Geo mapper CP --> City"
   ]
  },
  {
   "cell_type": "code",
   "execution_count": null,
   "metadata": {
    "ExecuteTime": {
     "end_time": "2020-02-24T13:20:20.990269Z",
     "start_time": "2020-02-24T13:20:20.849411Z"
    }
   },
   "outputs": [],
   "source": [
    "key_city = ['city_name','city_id','city_code_insee_sl']\n",
    "geomap_cp = ref_geo.drop_duplicates(subset=key_city).dropna(subset=key_city)[key_city]\n",
    "geomap_cp = geomap_cp.rename(columns={'city_code_insee_sl': 'codeinsee'})"
   ]
  },
  {
   "cell_type": "code",
   "execution_count": null,
   "metadata": {
    "ExecuteTime": {
     "end_time": "2020-02-24T13:03:03.224573Z",
     "start_time": "2020-02-24T13:03:03.141801Z"
    }
   },
   "outputs": [],
   "source": [
    "data_prep_code_insee = data_prep.merge(geomap_cp, how='left',on=['codeinsee'])\n",
    "data_prep_code_insee = data_prep_code_insee.rename(columns={\n",
    "    \"city_name\": \"city_name_by_code_insee\",\n",
    "    \"city_id\": 'city_id_by_code_insee'\n",
    "})"
   ]
  },
  {
   "cell_type": "markdown",
   "metadata": {},
   "source": [
    "### Project in Polygon"
   ]
  },
  {
   "cell_type": "code",
   "execution_count": null,
   "metadata": {
    "ExecuteTime": {
     "end_time": "2020-02-24T13:06:05.952083Z",
     "start_time": "2020-02-24T13:06:05.948394Z"
    }
   },
   "outputs": [],
   "source": [
    "import sys\n",
    "sys.path.append('/home/jeanchristophe/codeFolder/sl_data-science-models/pricemap/src')\n",
    "sys.path.append('/home/jeanchristophe/codeFolder/sl_data-science-models/priceml/src')\n",
    "from pricemap.localization.looker import PolygonLookup\n",
    "from pricemap.localization.utils import looker_dict, build_geo_mapper\n",
    "from pricemap.filter.filters import lat_long_filter\n",
    "\n",
    "iris_dict, _, _ = looker_dict(ref_geo)\n",
    "iris_lookup = PolygonLookup(iris_dict)"
   ]
  },
  {
   "cell_type": "code",
   "execution_count": null,
   "metadata": {},
   "outputs": [],
   "source": [
    "def localize(df: pd.DataFrame,\n",
    "             looker_iris: PolygonLookup,\n",
    "             ref_geo: pd.DataFrame) -> pd.DataFrame:\n",
    "    df_to_localize = df.copy()\n",
    "    df_to_localize.index.name = 'index'\n",
    "    geo_map_iris, _, geo_map_city = build_geo_mapper(ref_geo)\n",
    "    # Get dataframe with lat/lon information\n",
    "    df_with_latlon = df_to_localize.dropna(subset=['latitude', 'longitude']).copy()\n",
    "\n",
    "    # Look at the IRIS level\n",
    "    iris_id_from_latlon = looker_iris.lookup(df_with_latlon[['latitude', 'longitude']])\n",
    "    # Get projection table iris_id => dataframe index\n",
    "    index_to_id_iris = iris_id_from_latlon.to_frame().dropna()\n",
    "    index_to_id_iris.columns = ['iris_id']\n",
    "    index_to_id_iris.index.name = 'index'\n",
    "    # Merge dataframe with district id\n",
    "    dataframe_with_idiris = df_to_localize.merge(index_to_id_iris, how='right', on='index')\n",
    "    # And add the geo info\n",
    "    geo_map_iris['iris_id'] = geo_map_iris['iris_id'].astype(int)\n",
    "    dataframe_with_idiris = dataframe_with_idiris.merge(geo_map_iris, how='left', on='iris_id')\n",
    "    return dataframe_with_idiris"
   ]
  },
  {
   "cell_type": "code",
   "execution_count": null,
   "metadata": {},
   "outputs": [],
   "source": [
    "data_prep_code_insee_filt = lat_long_filter(data_prep_code_insee, 'latitude', 'longitude', False)\n",
    "data_loc = localize(data_prep_code_insee_filt, iris_lookup, ref_geo)"
   ]
  },
  {
   "cell_type": "code",
   "execution_count": null,
   "metadata": {
    "ExecuteTime": {
     "end_time": "2020-02-24T13:21:14.316124Z",
     "start_time": "2020-02-24T13:21:14.304397Z"
    }
   },
   "outputs": [],
   "source": [
    "geomap_cp_bis = geomap_cp.rename(columns={\"codeinsee\": \"city_code_insee_sl\",\n",
    "                                         'city_id': 'city_id_from_latlon'})\n",
    "data_loc = data_loc.merge(geomap_cp_bis, how='left', on=['city_code_insee_sl'])"
   ]
  },
  {
   "cell_type": "code",
   "execution_count": null,
   "metadata": {
    "ExecuteTime": {
     "end_time": "2020-02-24T13:25:47.906421Z",
     "start_time": "2020-02-24T13:25:47.801730Z"
    }
   },
   "outputs": [],
   "source": [
    "data_localized = pd.concat([data_loc, data_prep_code_insee_filt], sort=False).drop_duplicates(subset=['idannonce'], keep='first')"
   ]
  },
  {
   "cell_type": "code",
   "execution_count": null,
   "metadata": {
    "ExecuteTime": {
     "end_time": "2020-02-24T13:38:55.575421Z",
     "start_time": "2020-02-24T13:38:55.510865Z"
    }
   },
   "outputs": [],
   "source": [
    "districts_mapper = ref_geo.dropna(subset=['districts_id','districts_name']).drop_duplicates(subset=['districts_id','districts_name'])\n",
    "districts_mapper = districts_mapper[['districts_id','districts_name']].copy()"
   ]
  },
  {
   "cell_type": "code",
   "execution_count": null,
   "metadata": {
    "ExecuteTime": {
     "end_time": "2020-02-24T13:39:43.214818Z",
     "start_time": "2020-02-24T13:39:43.056443Z"
    }
   },
   "outputs": [],
   "source": [
    "data_localized_keep = data_localized[(data_localized['city_id_by_code_insee'] ==data_localized['city_id_from_latlon'])\n",
    "              | (data_localized['city_id_from_latlon'].isna())]\n",
    "data_localized_keep = data_localized_keep.merge(districts_mapper, how='left', on=['districts_id'])\n",
    "data_localized_keep = data_localized_keep.drop(columns=['city_name', 'city_id_from_latlon','iris_id',\n",
    "                                                       'department_id','region_id','country_id'])\n",
    "data_loc = data_localized_keep.rename(columns={\n",
    "    \"city_name_by_code_insee\": 'city_name',\n",
    "    'city_id_by_code_insee': 'city_id',\n",
    "    \n",
    "}).copy()"
   ]
  },
  {
   "cell_type": "code",
   "execution_count": null,
   "metadata": {
    "scrolled": true
   },
   "outputs": [],
   "source": [
    "data_loc"
   ]
  },
  {
   "cell_type": "markdown",
   "metadata": {},
   "source": [
    "## Save it locally"
   ]
  },
  {
   "cell_type": "code",
   "execution_count": null,
   "metadata": {
    "ExecuteTime": {
     "end_time": "2020-02-24T13:40:43.950530Z",
     "start_time": "2020-02-24T13:40:39.613954Z"
    }
   },
   "outputs": [],
   "source": [
    "import pickle\n",
    "with open('/home/jeanchristophe/dataFolder/ppty_goldset/request_ads_2019_2020_iris_localized.pickle','wb') as handle:\n",
    "    pickle.dump(data_loc, handle)"
   ]
  },
  {
   "cell_type": "markdown",
   "metadata": {},
   "source": [
    "# Load it locally"
   ]
  },
  {
   "cell_type": "code",
   "execution_count": null,
   "metadata": {
    "ExecuteTime": {
     "start_time": "2020-02-24T10:57:22.341Z"
    }
   },
   "outputs": [],
   "source": [
    "import pickle\n",
    "with open('/home/jeanchristophe/dataFolder/ppty_goldset/request_ads_2019_2020_iris_localized.pickle','rb') as handle:\n",
    "    data_loc = pickle.load(handle)"
   ]
  },
  {
   "cell_type": "code",
   "execution_count": null,
   "metadata": {
    "ExecuteTime": {
     "end_time": "2020-02-24T13:41:44.634582Z",
     "start_time": "2020-02-24T13:41:44.630295Z"
    }
   },
   "outputs": [],
   "source": [
    "data_loc.columns"
   ]
  },
  {
   "cell_type": "markdown",
   "metadata": {},
   "source": [
    "## Focus on Montpellier area"
   ]
  },
  {
   "cell_type": "code",
   "execution_count": null,
   "metadata": {
    "ExecuteTime": {
     "end_time": "2020-02-24T13:41:15.153938Z",
     "start_time": "2020-02-24T13:41:15.127574Z"
    }
   },
   "outputs": [],
   "source": [
    "# Get department id\n",
    "ref_geo[ref_geo.department_name=='Hérault'].dropna(subset=['department_id']).drop_duplicates('department_name')\\\n",
    "[['department_id','department_name']]"
   ]
  },
  {
   "cell_type": "code",
   "execution_count": null,
   "metadata": {
    "ExecuteTime": {
     "end_time": "2020-02-24T13:41:16.525651Z",
     "start_time": "2020-02-24T13:41:16.486830Z"
    }
   },
   "outputs": [],
   "source": [
    "# Get bordering cities\n",
    "list_id_bordering_montpellier = eval(ref_geo[ref_geo.city_name=='Montpellier'].dropna(subset=['city_id']).drop_duplicates('city_id')\\\n",
    "['city_bordering'].values[0])\n",
    "list_id_montpellier = list_id_bordering_montpellier + list(ref_geo[ref_geo.city_name=='Montpellier'].dropna(subset=['city_id']).drop_duplicates('city_id')\\\n",
    "[['city_id']].values[0])\n",
    "list_id_montpellier"
   ]
  },
  {
   "cell_type": "code",
   "execution_count": null,
   "metadata": {
    "ExecuteTime": {
     "end_time": "2020-02-24T13:45:00.721320Z",
     "start_time": "2020-02-24T13:45:00.712028Z"
    }
   },
   "outputs": [],
   "source": [
    "# Filter in Montpellier\n",
    "df_montpellier = data_loc[data_loc.city_id.isin(list_id_montpellier)].copy()\n",
    "f'{df_montpellier.shape[0]} ads for Montpellier area'"
   ]
  },
  {
   "cell_type": "markdown",
   "metadata": {},
   "source": [
    "## Focus on Grenoble area"
   ]
  },
  {
   "cell_type": "code",
   "execution_count": null,
   "metadata": {
    "ExecuteTime": {
     "end_time": "2020-02-24T13:47:59.833342Z",
     "start_time": "2020-02-24T13:47:59.795515Z"
    }
   },
   "outputs": [],
   "source": [
    "# Get bordering cities\n",
    "list_id_bordering_grenoble= eval(ref_geo[ref_geo.city_name=='Grenoble'].dropna(subset=['city_id']).drop_duplicates('city_id')\\\n",
    "['city_bordering'].values[0])\n",
    "list_id_grenoble = list_id_bordering_grenoble + list(ref_geo[ref_geo.city_name=='Grenoble'].dropna(subset=['city_id']).drop_duplicates('city_id')\\\n",
    "[['city_id']].values[0])\n",
    "list_id_grenoble"
   ]
  },
  {
   "cell_type": "code",
   "execution_count": null,
   "metadata": {
    "ExecuteTime": {
     "end_time": "2020-02-24T13:48:01.785586Z",
     "start_time": "2020-02-24T13:48:01.777024Z"
    }
   },
   "outputs": [],
   "source": [
    "# Filter in Grenoble\n",
    "df_grenoble = data_loc[data_loc.city_id.isin(list_id_grenoble)].copy()\n",
    "f'{df_grenoble.shape[0]} ads for Grenoble area'"
   ]
  },
  {
   "cell_type": "markdown",
   "metadata": {},
   "source": [
    "## Focus on Paris"
   ]
  },
  {
   "cell_type": "code",
   "execution_count": null,
   "metadata": {
    "ExecuteTime": {
     "end_time": "2020-02-24T13:48:13.653763Z",
     "start_time": "2020-02-24T13:48:13.616102Z"
    }
   },
   "outputs": [],
   "source": [
    "# Get bordering cities\n",
    "list_id_bordering_paris18 = eval(ref_geo[ref_geo.city_name=='Paris 18ème'].dropna(subset=['city_id']).drop_duplicates('city_id')\\\n",
    "['city_bordering'].values[0])\n",
    "list_id_paris18 = list_id_bordering_paris18 + list(ref_geo[ref_geo.city_name=='Paris 18ème'].dropna(subset=['city_id']).drop_duplicates('city_id')\\\n",
    "[['city_id']].values[0])\n",
    "list_id_paris18"
   ]
  },
  {
   "cell_type": "code",
   "execution_count": null,
   "metadata": {
    "ExecuteTime": {
     "end_time": "2020-02-24T13:49:53.860736Z",
     "start_time": "2020-02-24T13:49:53.852725Z"
    }
   },
   "outputs": [],
   "source": [
    "# Filter in Paris 18eme\n",
    "df_paris18 = data_loc[data_loc.city_id.isin(list_id_paris18)].copy()\n",
    "f'{df_paris18.shape[0]} ads for Paris 18eme area'"
   ]
  },
  {
   "cell_type": "markdown",
   "metadata": {},
   "source": [
    "# Gold set"
   ]
  },
  {
   "cell_type": "code",
   "execution_count": null,
   "metadata": {
    "ExecuteTime": {
     "end_time": "2020-02-24T13:51:07.461590Z",
     "start_time": "2020-02-24T13:51:07.450066Z"
    }
   },
   "outputs": [],
   "source": [
    "goldset = pd.concat([df_paris18, df_grenoble, df_montpellier], sort=False)"
   ]
  },
  {
   "cell_type": "markdown",
   "metadata": {},
   "source": [
    "## Export goldset"
   ]
  },
  {
   "cell_type": "code",
   "execution_count": null,
   "metadata": {
    "ExecuteTime": {
     "end_time": "2020-02-24T13:52:12.863020Z",
     "start_time": "2020-02-24T13:52:12.748926Z"
    }
   },
   "outputs": [],
   "source": [
    "goldset.to_csv('/home/jeanchristophe/dataFolder/ppty_goldset/dedup_goldset.csv', index=False)"
   ]
  },
  {
   "cell_type": "markdown",
   "metadata": {},
   "source": [
    "# Text preprocessing "
   ]
  },
  {
   "cell_type": "code",
   "execution_count": null,
   "metadata": {},
   "outputs": [],
   "source": [
    "import pandas as pd\n",
    "goldset = pd.read_csv('/home/jeanchristophe/dataFolder/ppty_goldset/dedup_goldset.csv')"
   ]
  },
  {
   "cell_type": "code",
   "execution_count": null,
   "metadata": {},
   "outputs": [],
   "source": [
    "from pricemap.filter.filters import simple_text\n",
    "df_goldset_simpletxt = simple_text(goldset, 'descriptif_fr')"
   ]
  },
  {
   "cell_type": "code",
   "execution_count": null,
   "metadata": {},
   "outputs": [],
   "source": [
    "data_goldset = df_goldset_simpletxt.copy()"
   ]
  },
  {
   "cell_type": "markdown",
   "metadata": {},
   "source": [
    "# Find similar ads"
   ]
  },
  {
   "cell_type": "code",
   "execution_count": null,
   "metadata": {},
   "outputs": [],
   "source": [
    "# Group ads that are around the three targeted area\n",
    "# Method: project in ref geo to get the department and group the ads\n",
    "\n",
    "group_mapper= ['city_id','region_id']\n",
    "depart_mapper = ref_geo.drop_duplicates(subset=group_mapper).dropna(subset=group_mapper)[group_mapper]"
   ]
  },
  {
   "cell_type": "code",
   "execution_count": null,
   "metadata": {},
   "outputs": [],
   "source": [
    "data_goldset_depart_code = data_goldset.merge(depart_mapper, how='left', on=['city_id'])\n",
    "data_goldset_depart_code.region_id.value_counts()                      "
   ]
  },
  {
   "cell_type": "code",
   "execution_count": null,
   "metadata": {
    "ExecuteTime": {
     "end_time": "2020-02-24T14:51:54.345763Z",
     "start_time": "2020-02-24T14:51:54.334477Z"
    }
   },
   "outputs": [],
   "source": [
    "def group_function(df, delta_price, delta_surface, delta_piece):\n",
    "    # Delta price of 5%\n",
    "    # Create max and min bound for each price\n",
    "    df['min_px'] = df.px*(1-(delta_price/100))\n",
    "    df['max_px'] = df.px*(1+(delta_price/100))\n",
    "    \n",
    "    # Create max and min bound for each price\n",
    "    df['min_surface'] = df.surface*(1-(delta_surface/100))\n",
    "    df['max_surface'] = df.surface*(1+(delta_surface/100))\n",
    "\n",
    "    df['min_nbpiece'] = df.nb_pieces-delta_nbpiece\n",
    "    df['max_nbpiece'] = df.nb_pieces+delta_nbpiece\n",
    "    \n",
    "    piece_matrix= np.zeros((df.shape[0], df.shape[0]))\n",
    "    surface_matrix= np.zeros((df.shape[0], df.shape[0]))\n",
    "    price_matrix= np.zeros((df.shape[0], df.shape[0]))\n",
    "    \n",
    "    for i in range(df.shape[0]):\n",
    "        id_groups = np.where((df.nb_pieces >= df.iloc[i]['min_nbpiece']) & (df.nb_pieces <= df.iloc[i]['max_nbpiece']))\n",
    "        piece_matrix[i, id_groups] = 1\n",
    "        id_groups = np.where((df.surface >= df.iloc[i]['min_surface']) & (df.surface <= df.iloc[i]['max_surface']))\n",
    "        surface_matrix[i, id_groups] = 1\n",
    "        id_groups = np.where((df.px >= df.iloc[i]['min_px']) & (df.px <= df.iloc[i]['max_px']))\n",
    "        price_matrix[i, id_groups] = 1\n",
    "    \n",
    "    combined_matrix = np.multiply(np.multiply(piece_matrix, surface_matrix), price_matrix)\n",
    "    df['groups'] = 'nan'\n",
    "    df['len_group'] = 0\n",
    "    # Get groups\n",
    "    for i in range(combined_matrix.shape[0]):\n",
    "        index_list = df.index[np.where(combined_matrix[i,:])[0].tolist()].tolist()\n",
    "        get_index = df.index[i]\n",
    "        if get_index in index_list:\n",
    "            index_list.remove(get_index)\n",
    "        id_annoncegroup = df.loc[index_list]['idannonce'].values.tolist()\n",
    "        df.at[get_index, 'groups'] = str(id_annoncegroup)\n",
    "        df.at[get_index, 'len_group'] = len(id_annoncegroup)\n",
    "    return df\n",
    "\n"
   ]
  },
  {
   "cell_type": "code",
   "execution_count": null,
   "metadata": {
    "ExecuteTime": {
     "end_time": "2020-02-24T14:48:17.045934Z",
     "start_time": "2020-02-24T14:48:17.037997Z"
    }
   },
   "outputs": [],
   "source": [
    "df_montpellier = data_goldset_depart_code[data_goldset_depart_code.region_id == 240].copy()\n",
    "df_paris18 = data_goldset_depart_code[data_goldset_depart_code.region_id == 239].copy()\n",
    "df_grenoble= data_goldset_depart_code[data_goldset_depart_code.region_id == 252].copy()"
   ]
  },
  {
   "cell_type": "markdown",
   "metadata": {},
   "source": [
    "### Paris"
   ]
  },
  {
   "cell_type": "code",
   "execution_count": null,
   "metadata": {},
   "outputs": [],
   "source": [
    "def get_len(row):\n",
    "    return len(eval(row['groups']))"
   ]
  },
  {
   "cell_type": "code",
   "execution_count": null,
   "metadata": {},
   "outputs": [],
   "source": [
    "delta_price = 3.5\n",
    "delta_surface = 3\n",
    "delta_nbpiece = 1\n",
    "\n",
    "groupped_paris18 = group_function(df_paris18, delta_price, delta_surface, delta_nbpiece)\n"
   ]
  },
  {
   "cell_type": "code",
   "execution_count": null,
   "metadata": {},
   "outputs": [],
   "source": [
    "groupped_paris18.apply(get_len, axis = 1).hist()"
   ]
  },
  {
   "cell_type": "code",
   "execution_count": null,
   "metadata": {},
   "outputs": [],
   "source": [
    "print(np.sum(groupped_paris18.apply(get_len, axis = 1) == 0), 'idannonce in paris18 has 0 propositions')\n",
    "print(np.mean(groupped_paris18.apply(get_len, axis = 1)), 'mean number of propositions in paris18')\n",
    "print(max(groupped_paris18.apply(get_len, axis = 1)), 'max number of proposition in paris18')"
   ]
  },
  {
   "cell_type": "code",
   "execution_count": null,
   "metadata": {
    "scrolled": false
   },
   "outputs": [],
   "source": [
    "groupped_paris18.head()"
   ]
  },
  {
   "cell_type": "markdown",
   "metadata": {},
   "source": [
    "### Montpellier"
   ]
  },
  {
   "cell_type": "code",
   "execution_count": null,
   "metadata": {},
   "outputs": [],
   "source": [
    "delta_price = 3.5\n",
    "delta_surface = 3\n",
    "delta_nbpiece = 1\n",
    "\n",
    "groupped_montpellier = group_function(df_montpellier, delta_price, delta_surface, delta_nbpiece)"
   ]
  },
  {
   "cell_type": "code",
   "execution_count": 53,
   "metadata": {},
   "outputs": [
    {
     "name": "stdout",
     "output_type": "stream",
     "text": [
      "228 idannonce in montpellier has 0 propositions\n",
      "5.92672858617131 mean number of propositions in montpellier\n",
      "32 max number of proposition in montpellier\n"
     ]
    }
   ],
   "source": [
    "print(np.sum(groupped_montpellier.apply(get_len, axis = 1) == 0), 'idannonce in Montpellier has 0 propositions')\n",
    "print(np.mean(groupped_montpellier.apply(get_len, axis = 1)), 'mean number of propositions in Montpellier')\n",
    "print(max(groupped_montpellier.apply(get_len, axis = 1)), 'max number of proposition in Montpellier')"
   ]
  },
  {
   "cell_type": "code",
   "execution_count": 54,
   "metadata": {
    "scrolled": true
   },
   "outputs": [
    {
     "data": {
      "text/html": [
       "<div>\n",
       "<style scoped>\n",
       "    .dataframe tbody tr th:only-of-type {\n",
       "        vertical-align: middle;\n",
       "    }\n",
       "\n",
       "    .dataframe tbody tr th {\n",
       "        vertical-align: top;\n",
       "    }\n",
       "\n",
       "    .dataframe thead th {\n",
       "        text-align: right;\n",
       "    }\n",
       "</style>\n",
       "<table border=\"1\" class=\"dataframe\">\n",
       "  <thead>\n",
       "    <tr style=\"text-align: right;\">\n",
       "      <th></th>\n",
       "      <th>idannonce</th>\n",
       "      <th>cp</th>\n",
       "      <th>ville</th>\n",
       "      <th>codeinsee</th>\n",
       "      <th>descriptif_fr</th>\n",
       "      <th>px</th>\n",
       "      <th>surface</th>\n",
       "      <th>annee_construct</th>\n",
       "      <th>nb_pieces</th>\n",
       "      <th>latitude</th>\n",
       "      <th>...</th>\n",
       "      <th>districts_name</th>\n",
       "      <th>region_id</th>\n",
       "      <th>min_px</th>\n",
       "      <th>max_px</th>\n",
       "      <th>min_surface</th>\n",
       "      <th>max_surface</th>\n",
       "      <th>min_nbpiece</th>\n",
       "      <th>max_nbpiece</th>\n",
       "      <th>groups</th>\n",
       "      <th>len_group</th>\n",
       "    </tr>\n",
       "  </thead>\n",
       "  <tbody>\n",
       "    <tr>\n",
       "      <th>1850</th>\n",
       "      <td>153882117</td>\n",
       "      <td>34000</td>\n",
       "      <td>Montpellier</td>\n",
       "      <td>340172.0</td>\n",
       "      <td>pres d arenes t de m a deux pas du centre hist...</td>\n",
       "      <td>196000.0</td>\n",
       "      <td>49.0</td>\n",
       "      <td>NaN</td>\n",
       "      <td>2.0</td>\n",
       "      <td>43.604727</td>\n",
       "      <td>...</td>\n",
       "      <td>Port Marianne</td>\n",
       "      <td>240</td>\n",
       "      <td>189140.00</td>\n",
       "      <td>202860.00</td>\n",
       "      <td>47.53</td>\n",
       "      <td>50.47</td>\n",
       "      <td>1.0</td>\n",
       "      <td>3.0</td>\n",
       "      <td>[154505991, 152613925, 145473413, 154043351, 1...</td>\n",
       "      <td>9</td>\n",
       "    </tr>\n",
       "    <tr>\n",
       "      <th>1851</th>\n",
       "      <td>137167811</td>\n",
       "      <td>34000</td>\n",
       "      <td>Montpellier</td>\n",
       "      <td>340172.0</td>\n",
       "      <td>au premier etage d une residence securisee t d...</td>\n",
       "      <td>138112.0</td>\n",
       "      <td>46.0</td>\n",
       "      <td>NaN</td>\n",
       "      <td>2.0</td>\n",
       "      <td>43.604727</td>\n",
       "      <td>...</td>\n",
       "      <td>Port Marianne</td>\n",
       "      <td>240</td>\n",
       "      <td>133278.08</td>\n",
       "      <td>142945.92</td>\n",
       "      <td>44.62</td>\n",
       "      <td>47.38</td>\n",
       "      <td>1.0</td>\n",
       "      <td>3.0</td>\n",
       "      <td>[146351053, 149451371, 154220755]</td>\n",
       "      <td>3</td>\n",
       "    </tr>\n",
       "    <tr>\n",
       "      <th>1852</th>\n",
       "      <td>153356669</td>\n",
       "      <td>34000</td>\n",
       "      <td>Montpellier</td>\n",
       "      <td>340172.0</td>\n",
       "      <td>herault a vendre a montpellier dans le secteur...</td>\n",
       "      <td>229000.0</td>\n",
       "      <td>106.0</td>\n",
       "      <td>1970.0</td>\n",
       "      <td>4.0</td>\n",
       "      <td>43.604727</td>\n",
       "      <td>...</td>\n",
       "      <td>Port Marianne</td>\n",
       "      <td>240</td>\n",
       "      <td>220985.00</td>\n",
       "      <td>237015.00</td>\n",
       "      <td>102.82</td>\n",
       "      <td>109.18</td>\n",
       "      <td>3.0</td>\n",
       "      <td>5.0</td>\n",
       "      <td>[153217207, 151328671]</td>\n",
       "      <td>2</td>\n",
       "    </tr>\n",
       "    <tr>\n",
       "      <th>1853</th>\n",
       "      <td>154506007</td>\n",
       "      <td>34000</td>\n",
       "      <td>Montpellier</td>\n",
       "      <td>340172.0</td>\n",
       "      <td>appartement d exception dans residence haut de...</td>\n",
       "      <td>650000.0</td>\n",
       "      <td>93.0</td>\n",
       "      <td>NaN</td>\n",
       "      <td>4.0</td>\n",
       "      <td>43.604727</td>\n",
       "      <td>...</td>\n",
       "      <td>Port Marianne</td>\n",
       "      <td>240</td>\n",
       "      <td>627250.00</td>\n",
       "      <td>672750.00</td>\n",
       "      <td>90.21</td>\n",
       "      <td>95.79</td>\n",
       "      <td>3.0</td>\n",
       "      <td>5.0</td>\n",
       "      <td>[153207129, 146798901, 151359923, 142369085, 1...</td>\n",
       "      <td>5</td>\n",
       "    </tr>\n",
       "    <tr>\n",
       "      <th>1854</th>\n",
       "      <td>153597569</td>\n",
       "      <td>34430</td>\n",
       "      <td>Saint Jean de Vedas</td>\n",
       "      <td>340270.0</td>\n",
       "      <td>st jean de vedas proche de l a de la station d...</td>\n",
       "      <td>399000.0</td>\n",
       "      <td>110.0</td>\n",
       "      <td>2018.0</td>\n",
       "      <td>4.0</td>\n",
       "      <td>43.568759</td>\n",
       "      <td>...</td>\n",
       "      <td>Sud</td>\n",
       "      <td>240</td>\n",
       "      <td>385035.00</td>\n",
       "      <td>412965.00</td>\n",
       "      <td>106.70</td>\n",
       "      <td>113.30</td>\n",
       "      <td>3.0</td>\n",
       "      <td>5.0</td>\n",
       "      <td>[]</td>\n",
       "      <td>0</td>\n",
       "    </tr>\n",
       "  </tbody>\n",
       "</table>\n",
       "<p>5 rows × 25 columns</p>\n",
       "</div>"
      ],
      "text/plain": [
       "      idannonce     cp                ville  codeinsee  \\\n",
       "1850  153882117  34000          Montpellier   340172.0   \n",
       "1851  137167811  34000          Montpellier   340172.0   \n",
       "1852  153356669  34000          Montpellier   340172.0   \n",
       "1853  154506007  34000          Montpellier   340172.0   \n",
       "1854  153597569  34430  Saint Jean de Vedas   340270.0   \n",
       "\n",
       "                                          descriptif_fr        px  surface  \\\n",
       "1850  pres d arenes t de m a deux pas du centre hist...  196000.0     49.0   \n",
       "1851  au premier etage d une residence securisee t d...  138112.0     46.0   \n",
       "1852  herault a vendre a montpellier dans le secteur...  229000.0    106.0   \n",
       "1853  appartement d exception dans residence haut de...  650000.0     93.0   \n",
       "1854  st jean de vedas proche de l a de la station d...  399000.0    110.0   \n",
       "\n",
       "      annee_construct  nb_pieces   latitude  ...  districts_name region_id  \\\n",
       "1850              NaN        2.0  43.604727  ...   Port Marianne       240   \n",
       "1851              NaN        2.0  43.604727  ...   Port Marianne       240   \n",
       "1852           1970.0        4.0  43.604727  ...   Port Marianne       240   \n",
       "1853              NaN        4.0  43.604727  ...   Port Marianne       240   \n",
       "1854           2018.0        4.0  43.568759  ...             Sud       240   \n",
       "\n",
       "         min_px     max_px  min_surface max_surface  min_nbpiece  max_nbpiece  \\\n",
       "1850  189140.00  202860.00        47.53       50.47          1.0          3.0   \n",
       "1851  133278.08  142945.92        44.62       47.38          1.0          3.0   \n",
       "1852  220985.00  237015.00       102.82      109.18          3.0          5.0   \n",
       "1853  627250.00  672750.00        90.21       95.79          3.0          5.0   \n",
       "1854  385035.00  412965.00       106.70      113.30          3.0          5.0   \n",
       "\n",
       "                                                 groups  len_group  \n",
       "1850  [154505991, 152613925, 145473413, 154043351, 1...          9  \n",
       "1851                  [146351053, 149451371, 154220755]          3  \n",
       "1852                             [153217207, 151328671]          2  \n",
       "1853  [153207129, 146798901, 151359923, 142369085, 1...          5  \n",
       "1854                                                 []          0  \n",
       "\n",
       "[5 rows x 25 columns]"
      ]
     },
     "execution_count": 54,
     "metadata": {},
     "output_type": "execute_result"
    }
   ],
   "source": [
    "groupped_montpellier.head()"
   ]
  },
  {
   "cell_type": "markdown",
   "metadata": {},
   "source": [
    "### Grenoble"
   ]
  },
  {
   "cell_type": "code",
   "execution_count": null,
   "metadata": {},
   "outputs": [],
   "source": [
    "delta_price = 3.5\n",
    "delta_surface = 3\n",
    "delta_nbpiece = 1\n",
    "\n",
    "groupped_grenoble = group_function(df_grenoble, delta_price, delta_surface, delta_nbpiece)"
   ]
  },
  {
   "cell_type": "code",
   "execution_count": 58,
   "metadata": {
    "scrolled": true
   },
   "outputs": [
    {
     "name": "stdout",
     "output_type": "stream",
     "text": [
      "173 idannonce in Grenoble has 0 propositions\n",
      "3.2607709750566896 mean number of propositions in Grenoble\n",
      "18 max number of proposition in Grenoble\n"
     ]
    }
   ],
   "source": [
    "print(np.sum(groupped_grenoble.apply(get_len, axis = 1) == 0), 'idannonce in Grenoble has 0 propositions')\n",
    "print(np.mean(groupped_grenoble.apply(get_len, axis = 1)), 'mean number of propositions in Grenoble')\n",
    "print(max(groupped_grenoble.apply(get_len, axis = 1)), 'max number of proposition in Grenoble')"
   ]
  },
  {
   "cell_type": "code",
   "execution_count": 59,
   "metadata": {
    "scrolled": true
   },
   "outputs": [
    {
     "data": {
      "text/html": [
       "<div>\n",
       "<style scoped>\n",
       "    .dataframe tbody tr th:only-of-type {\n",
       "        vertical-align: middle;\n",
       "    }\n",
       "\n",
       "    .dataframe tbody tr th {\n",
       "        vertical-align: top;\n",
       "    }\n",
       "\n",
       "    .dataframe thead th {\n",
       "        text-align: right;\n",
       "    }\n",
       "</style>\n",
       "<table border=\"1\" class=\"dataframe\">\n",
       "  <thead>\n",
       "    <tr style=\"text-align: right;\">\n",
       "      <th></th>\n",
       "      <th>idannonce</th>\n",
       "      <th>cp</th>\n",
       "      <th>ville</th>\n",
       "      <th>codeinsee</th>\n",
       "      <th>descriptif_fr</th>\n",
       "      <th>px</th>\n",
       "      <th>surface</th>\n",
       "      <th>annee_construct</th>\n",
       "      <th>nb_pieces</th>\n",
       "      <th>latitude</th>\n",
       "      <th>...</th>\n",
       "      <th>districts_name</th>\n",
       "      <th>region_id</th>\n",
       "      <th>min_px</th>\n",
       "      <th>max_px</th>\n",
       "      <th>min_surface</th>\n",
       "      <th>max_surface</th>\n",
       "      <th>min_nbpiece</th>\n",
       "      <th>max_nbpiece</th>\n",
       "      <th>groups</th>\n",
       "      <th>len_group</th>\n",
       "    </tr>\n",
       "  </thead>\n",
       "  <tbody>\n",
       "    <tr>\n",
       "      <th>968</th>\n",
       "      <td>152917265</td>\n",
       "      <td>38100</td>\n",
       "      <td>Grenoble</td>\n",
       "      <td>380185.0</td>\n",
       "      <td>grenoble allee de la pelouse en bordure du par...</td>\n",
       "      <td>88000.0</td>\n",
       "      <td>80.08</td>\n",
       "      <td>NaN</td>\n",
       "      <td>4.0</td>\n",
       "      <td>45.162621</td>\n",
       "      <td>...</td>\n",
       "      <td>Arlequin</td>\n",
       "      <td>252</td>\n",
       "      <td>84920.00</td>\n",
       "      <td>91080.00</td>\n",
       "      <td>77.6776</td>\n",
       "      <td>82.4824</td>\n",
       "      <td>3.0</td>\n",
       "      <td>5.0</td>\n",
       "      <td>[152715315, 137918345, 152656465, 154105923]</td>\n",
       "      <td>4</td>\n",
       "    </tr>\n",
       "    <tr>\n",
       "      <th>969</th>\n",
       "      <td>151210099</td>\n",
       "      <td>38100</td>\n",
       "      <td>Grenoble</td>\n",
       "      <td>380185.0</td>\n",
       "      <td>era immobilier gresivaudan a trouve pour vous ...</td>\n",
       "      <td>158970.0</td>\n",
       "      <td>70.00</td>\n",
       "      <td>1960.0</td>\n",
       "      <td>3.0</td>\n",
       "      <td>45.180660</td>\n",
       "      <td>...</td>\n",
       "      <td>Allies-Clos d'Or</td>\n",
       "      <td>252</td>\n",
       "      <td>153406.05</td>\n",
       "      <td>164533.95</td>\n",
       "      <td>67.9000</td>\n",
       "      <td>72.1000</td>\n",
       "      <td>2.0</td>\n",
       "      <td>4.0</td>\n",
       "      <td>[150604827, 147897763, 142827435, 145299099, 1...</td>\n",
       "      <td>5</td>\n",
       "    </tr>\n",
       "    <tr>\n",
       "      <th>970</th>\n",
       "      <td>150907823</td>\n",
       "      <td>38130</td>\n",
       "      <td>Échirolles</td>\n",
       "      <td>380151.0</td>\n",
       "      <td>iad france sophie armand vous propose echiroll...</td>\n",
       "      <td>125000.0</td>\n",
       "      <td>63.00</td>\n",
       "      <td>1970.0</td>\n",
       "      <td>4.0</td>\n",
       "      <td>45.147226</td>\n",
       "      <td>...</td>\n",
       "      <td>Comboire</td>\n",
       "      <td>252</td>\n",
       "      <td>120625.00</td>\n",
       "      <td>129375.00</td>\n",
       "      <td>61.1100</td>\n",
       "      <td>64.8900</td>\n",
       "      <td>3.0</td>\n",
       "      <td>5.0</td>\n",
       "      <td>[151785547, 152595879, 154223735, 152288085]</td>\n",
       "      <td>4</td>\n",
       "    </tr>\n",
       "    <tr>\n",
       "      <th>971</th>\n",
       "      <td>148550245</td>\n",
       "      <td>38000</td>\n",
       "      <td>Grenoble</td>\n",
       "      <td>380185.0</td>\n",
       "      <td>appartement residence etudiante marie curie de...</td>\n",
       "      <td>67000.0</td>\n",
       "      <td>18.00</td>\n",
       "      <td>NaN</td>\n",
       "      <td>1.0</td>\n",
       "      <td>45.194349</td>\n",
       "      <td>...</td>\n",
       "      <td>Berriat-Ampere</td>\n",
       "      <td>252</td>\n",
       "      <td>64655.00</td>\n",
       "      <td>69345.00</td>\n",
       "      <td>17.4600</td>\n",
       "      <td>18.5400</td>\n",
       "      <td>0.0</td>\n",
       "      <td>2.0</td>\n",
       "      <td>[]</td>\n",
       "      <td>0</td>\n",
       "    </tr>\n",
       "    <tr>\n",
       "      <th>972</th>\n",
       "      <td>152658935</td>\n",
       "      <td>38400</td>\n",
       "      <td>Saint Martin d Heres</td>\n",
       "      <td>380421.0</td>\n",
       "      <td>secteur parc jo blanchon au calme et proche tr...</td>\n",
       "      <td>199000.0</td>\n",
       "      <td>99.00</td>\n",
       "      <td>NaN</td>\n",
       "      <td>6.0</td>\n",
       "      <td>45.173628</td>\n",
       "      <td>...</td>\n",
       "      <td>Renaudie-La Plaine</td>\n",
       "      <td>252</td>\n",
       "      <td>192035.00</td>\n",
       "      <td>205965.00</td>\n",
       "      <td>96.0300</td>\n",
       "      <td>101.9700</td>\n",
       "      <td>5.0</td>\n",
       "      <td>7.0</td>\n",
       "      <td>[151928147]</td>\n",
       "      <td>1</td>\n",
       "    </tr>\n",
       "  </tbody>\n",
       "</table>\n",
       "<p>5 rows × 25 columns</p>\n",
       "</div>"
      ],
      "text/plain": [
       "     idannonce     cp                 ville  codeinsee  \\\n",
       "968  152917265  38100              Grenoble   380185.0   \n",
       "969  151210099  38100              Grenoble   380185.0   \n",
       "970  150907823  38130            Échirolles   380151.0   \n",
       "971  148550245  38000              Grenoble   380185.0   \n",
       "972  152658935  38400  Saint Martin d Heres   380421.0   \n",
       "\n",
       "                                         descriptif_fr        px  surface  \\\n",
       "968  grenoble allee de la pelouse en bordure du par...   88000.0    80.08   \n",
       "969  era immobilier gresivaudan a trouve pour vous ...  158970.0    70.00   \n",
       "970  iad france sophie armand vous propose echiroll...  125000.0    63.00   \n",
       "971  appartement residence etudiante marie curie de...   67000.0    18.00   \n",
       "972  secteur parc jo blanchon au calme et proche tr...  199000.0    99.00   \n",
       "\n",
       "     annee_construct  nb_pieces   latitude  ...      districts_name region_id  \\\n",
       "968              NaN        4.0  45.162621  ...            Arlequin       252   \n",
       "969           1960.0        3.0  45.180660  ...    Allies-Clos d'Or       252   \n",
       "970           1970.0        4.0  45.147226  ...            Comboire       252   \n",
       "971              NaN        1.0  45.194349  ...      Berriat-Ampere       252   \n",
       "972              NaN        6.0  45.173628  ...  Renaudie-La Plaine       252   \n",
       "\n",
       "        min_px     max_px  min_surface max_surface  min_nbpiece  max_nbpiece  \\\n",
       "968   84920.00   91080.00      77.6776     82.4824          3.0          5.0   \n",
       "969  153406.05  164533.95      67.9000     72.1000          2.0          4.0   \n",
       "970  120625.00  129375.00      61.1100     64.8900          3.0          5.0   \n",
       "971   64655.00   69345.00      17.4600     18.5400          0.0          2.0   \n",
       "972  192035.00  205965.00      96.0300    101.9700          5.0          7.0   \n",
       "\n",
       "                                                groups  len_group  \n",
       "968       [152715315, 137918345, 152656465, 154105923]          4  \n",
       "969  [150604827, 147897763, 142827435, 145299099, 1...          5  \n",
       "970       [151785547, 152595879, 154223735, 152288085]          4  \n",
       "971                                                 []          0  \n",
       "972                                        [151928147]          1  \n",
       "\n",
       "[5 rows x 25 columns]"
      ]
     },
     "execution_count": 59,
     "metadata": {},
     "output_type": "execute_result"
    }
   ],
   "source": [
    "groupped_grenoble.head()"
   ]
  },
  {
   "cell_type": "markdown",
   "metadata": {},
   "source": [
    "### Checks if idannonce is unique"
   ]
  },
  {
   "cell_type": "code",
   "execution_count": 67,
   "metadata": {
    "scrolled": true
   },
   "outputs": [
    {
     "name": "stdout",
     "output_type": "stream",
     "text": [
      "True\n",
      "True\n",
      "True\n"
     ]
    }
   ],
   "source": [
    "print(groupped_paris18.set_index('idannonce').index.is_unique)\n",
    "print(groupped_montpellier.set_index('idannonce').index.is_unique)\n",
    "print(groupped_grenoble.set_index('idannonce').index.is_unique)"
   ]
  },
  {
   "cell_type": "markdown",
   "metadata": {},
   "source": [
    "### Saving"
   ]
  },
  {
   "cell_type": "code",
   "execution_count": 70,
   "metadata": {},
   "outputs": [],
   "source": [
    "def get_group_list(df, min_len, max_len):\n",
    "    df_filtered = df[(df.len_group >= min_len) & (df.len_group <= max_len)].copy()\n",
    "    list_group = []\n",
    "    for _, row in df_filtered.iterrows():\n",
    "        group = [row.idannonce] + eval(row.groups)\n",
    "        list_group.append(group)\n",
    "    return list_group\n",
    "    "
   ]
  },
  {
   "cell_type": "code",
   "execution_count": 76,
   "metadata": {},
   "outputs": [
    {
     "data": {
      "text/plain": [
       "'224 idannonce in Paris'"
      ]
     },
     "execution_count": 76,
     "metadata": {},
     "output_type": "execute_result"
    }
   ],
   "source": [
    "# Groups on Paris\n",
    "list_of_groups = get_group_list(groupped_paris18, 4, 20)\n",
    "list_idannonce_flat = [item for sublist in list_of_groups for item in sublist]\n",
    "list_ids_paris = list(set(list_idannonce_flat))\n",
    "f'{len(list_ids_paris)} idannonce in Paris'"
   ]
  },
  {
   "cell_type": "code",
   "execution_count": 77,
   "metadata": {},
   "outputs": [
    {
     "data": {
      "text/plain": [
       "'1396 idannonce in Montpellier'"
      ]
     },
     "execution_count": 77,
     "metadata": {},
     "output_type": "execute_result"
    }
   ],
   "source": [
    "# Groups on Motnpellier\n",
    "list_of_groups = get_group_list(groupped_montpellier, 4, 20)\n",
    "list_idannonce_flat = [item for sublist in list_of_groups for item in sublist]\n",
    "list_ids_montpellier = list(set(list_idannonce_flat))\n",
    "f'{len(list_ids_montpellier)} idannonce in Montpellier'"
   ]
  },
  {
   "cell_type": "code",
   "execution_count": 78,
   "metadata": {
    "scrolled": true
   },
   "outputs": [
    {
     "data": {
      "text/plain": [
       "'433 idannonce in Grenoble'"
      ]
     },
     "execution_count": 78,
     "metadata": {},
     "output_type": "execute_result"
    }
   ],
   "source": [
    "# Groups on Motnpellier\n",
    "list_of_groups = get_group_list(groupped_grenoble, 4, 20)\n",
    "list_idannonce_flat = [item for sublist in list_of_groups for item in sublist]\n",
    "list_ids_grenoble = list(set(list_idannonce_flat))\n",
    "f'{len(list_ids_grenoble)} idannonce in Grenoble'"
   ]
  },
  {
   "cell_type": "code",
   "execution_count": 80,
   "metadata": {},
   "outputs": [
    {
     "data": {
      "text/plain": [
       "2053"
      ]
     },
     "execution_count": 80,
     "metadata": {},
     "output_type": "execute_result"
    }
   ],
   "source": [
    "list_ids_annotation = list_ids_paris + list_ids_montpellier + list_ids_grenoble\n",
    "len(list_ids_annotation)"
   ]
  },
  {
   "cell_type": "code",
   "execution_count": 81,
   "metadata": {
    "ExecuteTime": {
     "end_time": "2020-02-24T15:17:43.505028Z",
     "start_time": "2020-02-24T15:17:43.500422Z"
    },
    "scrolled": true
   },
   "outputs": [],
   "source": [
    "import json\n",
    "with open('/home/jeanchristophe/dataFolder/ppty_goldset/idannonce_dedup.json', 'w') as handle:\n",
    "    json.dump(list_ids_annotation, handle)"
   ]
  },
  {
   "cell_type": "code",
   "execution_count": 82,
   "metadata": {
    "ExecuteTime": {
     "end_time": "2020-02-24T15:14:40.277970Z",
     "start_time": "2020-02-24T15:14:40.266417Z"
    }
   },
   "outputs": [],
   "source": [
    "groups_goldataset = pd.concat([groupped_grenoble, groupped_montpellier, groupped_paris18], sort=False)"
   ]
  },
  {
   "cell_type": "code",
   "execution_count": 83,
   "metadata": {
    "ExecuteTime": {
     "end_time": "2020-02-24T16:30:31.265375Z",
     "start_time": "2020-02-24T16:30:31.257264Z"
    }
   },
   "outputs": [
    {
     "data": {
      "text/plain": [
       "count    968.000000\n",
       "mean       1.616736\n",
       "std        2.065326\n",
       "min        0.000000\n",
       "25%        0.000000\n",
       "50%        1.000000\n",
       "75%        2.000000\n",
       "max       11.000000\n",
       "Name: len_group, dtype: float64"
      ]
     },
     "execution_count": 83,
     "metadata": {},
     "output_type": "execute_result"
    }
   ],
   "source": [
    "groupped_paris18.len_group.describe()"
   ]
  },
  {
   "cell_type": "code",
   "execution_count": 84,
   "metadata": {
    "ExecuteTime": {
     "end_time": "2020-02-24T16:29:47.796191Z",
     "start_time": "2020-02-24T16:29:47.787908Z"
    }
   },
   "outputs": [
    {
     "data": {
      "text/plain": [
       "count    3788.000000\n",
       "mean        4.204593\n",
       "std         4.616089\n",
       "min         0.000000\n",
       "25%         1.000000\n",
       "50%         3.000000\n",
       "75%         6.000000\n",
       "max        32.000000\n",
       "Name: len_group, dtype: float64"
      ]
     },
     "execution_count": 84,
     "metadata": {},
     "output_type": "execute_result"
    }
   ],
   "source": [
    "groups_goldataset.len_group.describe()"
   ]
  },
  {
   "cell_type": "code",
   "execution_count": 86,
   "metadata": {
    "ExecuteTime": {
     "end_time": "2020-02-24T15:16:14.634515Z",
     "start_time": "2020-02-24T15:16:14.495556Z"
    }
   },
   "outputs": [],
   "source": [
    "groups_goldataset.to_csv('/home/jeanchristophe/dataFolder/ppty_goldset/goldset_dedup_grouped.csv', index=False)"
   ]
  },
  {
   "cell_type": "markdown",
   "metadata": {},
   "source": [
    "# Check image access"
   ]
  },
  {
   "cell_type": "code",
   "execution_count": 87,
   "metadata": {
    "ExecuteTime": {
     "end_time": "2020-03-27T10:33:33.901704Z",
     "start_time": "2020-03-27T10:33:33.898054Z"
    }
   },
   "outputs": [],
   "source": [
    "import json\n",
    "with open('/home/jeanchristophe/dataFolder/ppty_goldset/idannonce_dedup.json', 'r') as handle:\n",
    "    selected_id_annonce = json.load(handle)"
   ]
  },
  {
   "cell_type": "code",
   "execution_count": 90,
   "metadata": {
    "ExecuteTime": {
     "end_time": "2020-03-27T10:42:07.629427Z",
     "start_time": "2020-03-27T10:42:03.471770Z"
    }
   },
   "outputs": [],
   "source": [
    "import pandas as pd\n",
    "id_photo = pd.read_excel('/home/jeanchristophe/codeFolder/ppty_goldset/data/mapping_id_tag.xlsx')"
   ]
  },
  {
   "cell_type": "code",
   "execution_count": 91,
   "metadata": {},
   "outputs": [
    {
     "data": {
      "text/html": [
       "<div>\n",
       "<style scoped>\n",
       "    .dataframe tbody tr th:only-of-type {\n",
       "        vertical-align: middle;\n",
       "    }\n",
       "\n",
       "    .dataframe tbody tr th {\n",
       "        vertical-align: top;\n",
       "    }\n",
       "\n",
       "    .dataframe thead th {\n",
       "        text-align: right;\n",
       "    }\n",
       "</style>\n",
       "<table border=\"1\" class=\"dataframe\">\n",
       "  <thead>\n",
       "    <tr style=\"text-align: right;\">\n",
       "      <th></th>\n",
       "      <th>idvisuel</th>\n",
       "      <th>idannonce</th>\n",
       "      <th>dt</th>\n",
       "      <th>ordre</th>\n",
       "      <th>width</th>\n",
       "      <th>height</th>\n",
       "      <th>idtypevisuel</th>\n",
       "      <th>url</th>\n",
       "      <th>fichier</th>\n",
       "      <th>thumb_url</th>\n",
       "      <th>...</th>\n",
       "      <th>si_plan</th>\n",
       "      <th>codif_plan</th>\n",
       "      <th>si_censure_descriptif</th>\n",
       "      <th>idTypeSource</th>\n",
       "      <th>idEtatVisuel</th>\n",
       "      <th>si_censure</th>\n",
       "      <th>b600_width</th>\n",
       "      <th>b600_height</th>\n",
       "      <th>tagphoto</th>\n",
       "      <th>tagfile</th>\n",
       "    </tr>\n",
       "  </thead>\n",
       "  <tbody>\n",
       "    <tr>\n",
       "      <th>0</th>\n",
       "      <td>828278883</td>\n",
       "      <td>126755075</td>\n",
       "      <td>2019-01-22 21:21:00</td>\n",
       "      <td>0</td>\n",
       "      <td>300.0</td>\n",
       "      <td>225.0</td>\n",
       "      <td>1</td>\n",
       "      <td>NaN</td>\n",
       "      <td>NaN</td>\n",
       "      <td>NaN</td>\n",
       "      <td>...</td>\n",
       "      <td>0.0</td>\n",
       "      <td>NaN</td>\n",
       "      <td>0</td>\n",
       "      <td>2</td>\n",
       "      <td>1</td>\n",
       "      <td>0</td>\n",
       "      <td>NaN</td>\n",
       "      <td>NaN</td>\n",
       "      <td>0lsge31naiqxuipdpbu7i0j1x02t2nz4qe2kwwxnc</td>\n",
       "      <td>NaN</td>\n",
       "    </tr>\n",
       "    <tr>\n",
       "      <th>1</th>\n",
       "      <td>828278885</td>\n",
       "      <td>126755075</td>\n",
       "      <td>2019-01-22 21:21:00</td>\n",
       "      <td>1</td>\n",
       "      <td>300.0</td>\n",
       "      <td>225.0</td>\n",
       "      <td>1</td>\n",
       "      <td>NaN</td>\n",
       "      <td>NaN</td>\n",
       "      <td>NaN</td>\n",
       "      <td>...</td>\n",
       "      <td>0.0</td>\n",
       "      <td>NaN</td>\n",
       "      <td>0</td>\n",
       "      <td>2</td>\n",
       "      <td>1</td>\n",
       "      <td>0</td>\n",
       "      <td>NaN</td>\n",
       "      <td>NaN</td>\n",
       "      <td>0c2l4rd5hhvxn9jtiigaoot7ivh8wc69cagglgxg8</td>\n",
       "      <td>NaN</td>\n",
       "    </tr>\n",
       "    <tr>\n",
       "      <th>2</th>\n",
       "      <td>828278887</td>\n",
       "      <td>126755075</td>\n",
       "      <td>2019-01-22 21:21:00</td>\n",
       "      <td>2</td>\n",
       "      <td>300.0</td>\n",
       "      <td>225.0</td>\n",
       "      <td>1</td>\n",
       "      <td>NaN</td>\n",
       "      <td>NaN</td>\n",
       "      <td>NaN</td>\n",
       "      <td>...</td>\n",
       "      <td>0.0</td>\n",
       "      <td>NaN</td>\n",
       "      <td>0</td>\n",
       "      <td>2</td>\n",
       "      <td>1</td>\n",
       "      <td>0</td>\n",
       "      <td>NaN</td>\n",
       "      <td>NaN</td>\n",
       "      <td>0vrmyps5fyspy86fb00bsjaiadr2ge61q76bd2c0o</td>\n",
       "      <td>NaN</td>\n",
       "    </tr>\n",
       "    <tr>\n",
       "      <th>3</th>\n",
       "      <td>828278889</td>\n",
       "      <td>126755075</td>\n",
       "      <td>2019-01-22 21:21:00</td>\n",
       "      <td>3</td>\n",
       "      <td>300.0</td>\n",
       "      <td>225.0</td>\n",
       "      <td>1</td>\n",
       "      <td>NaN</td>\n",
       "      <td>NaN</td>\n",
       "      <td>NaN</td>\n",
       "      <td>...</td>\n",
       "      <td>0.0</td>\n",
       "      <td>NaN</td>\n",
       "      <td>0</td>\n",
       "      <td>2</td>\n",
       "      <td>1</td>\n",
       "      <td>0</td>\n",
       "      <td>NaN</td>\n",
       "      <td>NaN</td>\n",
       "      <td>0xtvuw00vzbonxbo57dfcxkgpszcn8la4l0n2njvc</td>\n",
       "      <td>NaN</td>\n",
       "    </tr>\n",
       "    <tr>\n",
       "      <th>4</th>\n",
       "      <td>828278891</td>\n",
       "      <td>126755075</td>\n",
       "      <td>2019-01-22 21:21:00</td>\n",
       "      <td>4</td>\n",
       "      <td>300.0</td>\n",
       "      <td>225.0</td>\n",
       "      <td>1</td>\n",
       "      <td>NaN</td>\n",
       "      <td>NaN</td>\n",
       "      <td>NaN</td>\n",
       "      <td>...</td>\n",
       "      <td>0.0</td>\n",
       "      <td>NaN</td>\n",
       "      <td>0</td>\n",
       "      <td>2</td>\n",
       "      <td>1</td>\n",
       "      <td>0</td>\n",
       "      <td>NaN</td>\n",
       "      <td>NaN</td>\n",
       "      <td>0zcana0tan6fkt3lznpraujersd3kcwk6sbqpme6w</td>\n",
       "      <td>NaN</td>\n",
       "    </tr>\n",
       "    <tr>\n",
       "      <th>...</th>\n",
       "      <td>...</td>\n",
       "      <td>...</td>\n",
       "      <td>...</td>\n",
       "      <td>...</td>\n",
       "      <td>...</td>\n",
       "      <td>...</td>\n",
       "      <td>...</td>\n",
       "      <td>...</td>\n",
       "      <td>...</td>\n",
       "      <td>...</td>\n",
       "      <td>...</td>\n",
       "      <td>...</td>\n",
       "      <td>...</td>\n",
       "      <td>...</td>\n",
       "      <td>...</td>\n",
       "      <td>...</td>\n",
       "      <td>...</td>\n",
       "      <td>...</td>\n",
       "      <td>...</td>\n",
       "      <td>...</td>\n",
       "      <td>...</td>\n",
       "    </tr>\n",
       "    <tr>\n",
       "      <th>12605</th>\n",
       "      <td>967479613</td>\n",
       "      <td>154787717</td>\n",
       "      <td>2020-01-06 23:30:00</td>\n",
       "      <td>4</td>\n",
       "      <td>300.0</td>\n",
       "      <td>225.0</td>\n",
       "      <td>1</td>\n",
       "      <td>NaN</td>\n",
       "      <td>NaN</td>\n",
       "      <td>NaN</td>\n",
       "      <td>...</td>\n",
       "      <td>0.0</td>\n",
       "      <td>NaN</td>\n",
       "      <td>0</td>\n",
       "      <td>2</td>\n",
       "      <td>1</td>\n",
       "      <td>0</td>\n",
       "      <td>NaN</td>\n",
       "      <td>NaN</td>\n",
       "      <td>0a4nadtvcy5e5pfmwp14mejdyqhkkyz9g76kaxf5s</td>\n",
       "      <td>NaN</td>\n",
       "    </tr>\n",
       "    <tr>\n",
       "      <th>12606</th>\n",
       "      <td>965551425</td>\n",
       "      <td>154787717</td>\n",
       "      <td>2019-12-31 13:59:00</td>\n",
       "      <td>5</td>\n",
       "      <td>300.0</td>\n",
       "      <td>225.0</td>\n",
       "      <td>1</td>\n",
       "      <td>NaN</td>\n",
       "      <td>NaN</td>\n",
       "      <td>NaN</td>\n",
       "      <td>...</td>\n",
       "      <td>0.0</td>\n",
       "      <td>NaN</td>\n",
       "      <td>0</td>\n",
       "      <td>2</td>\n",
       "      <td>1</td>\n",
       "      <td>0</td>\n",
       "      <td>NaN</td>\n",
       "      <td>NaN</td>\n",
       "      <td>0dq28nnwgma7k4a03i8u8v28sv3n1lry3zc3brmww</td>\n",
       "      <td>NaN</td>\n",
       "    </tr>\n",
       "    <tr>\n",
       "      <th>12607</th>\n",
       "      <td>965551427</td>\n",
       "      <td>154787717</td>\n",
       "      <td>2019-12-31 13:59:00</td>\n",
       "      <td>6</td>\n",
       "      <td>300.0</td>\n",
       "      <td>225.0</td>\n",
       "      <td>1</td>\n",
       "      <td>NaN</td>\n",
       "      <td>NaN</td>\n",
       "      <td>NaN</td>\n",
       "      <td>...</td>\n",
       "      <td>0.0</td>\n",
       "      <td>NaN</td>\n",
       "      <td>0</td>\n",
       "      <td>2</td>\n",
       "      <td>1</td>\n",
       "      <td>0</td>\n",
       "      <td>NaN</td>\n",
       "      <td>NaN</td>\n",
       "      <td>23vllbd93239vdk9zc22avps9o3f23myh1dcjk3wc</td>\n",
       "      <td>NaN</td>\n",
       "    </tr>\n",
       "    <tr>\n",
       "      <th>12608</th>\n",
       "      <td>967479617</td>\n",
       "      <td>154787717</td>\n",
       "      <td>2020-01-06 23:30:00</td>\n",
       "      <td>7</td>\n",
       "      <td>300.0</td>\n",
       "      <td>225.0</td>\n",
       "      <td>1</td>\n",
       "      <td>NaN</td>\n",
       "      <td>NaN</td>\n",
       "      <td>NaN</td>\n",
       "      <td>...</td>\n",
       "      <td>0.0</td>\n",
       "      <td>NaN</td>\n",
       "      <td>0</td>\n",
       "      <td>2</td>\n",
       "      <td>1</td>\n",
       "      <td>0</td>\n",
       "      <td>NaN</td>\n",
       "      <td>NaN</td>\n",
       "      <td>0xe3vnnpwh40o3srff931xlv9vrekk5tt9ess4pa8</td>\n",
       "      <td>NaN</td>\n",
       "    </tr>\n",
       "    <tr>\n",
       "      <th>12609</th>\n",
       "      <td>967479621</td>\n",
       "      <td>154787717</td>\n",
       "      <td>2020-01-06 23:30:00</td>\n",
       "      <td>8</td>\n",
       "      <td>300.0</td>\n",
       "      <td>225.0</td>\n",
       "      <td>1</td>\n",
       "      <td>NaN</td>\n",
       "      <td>NaN</td>\n",
       "      <td>NaN</td>\n",
       "      <td>...</td>\n",
       "      <td>0.0</td>\n",
       "      <td>NaN</td>\n",
       "      <td>0</td>\n",
       "      <td>2</td>\n",
       "      <td>1</td>\n",
       "      <td>0</td>\n",
       "      <td>NaN</td>\n",
       "      <td>NaN</td>\n",
       "      <td>27ikh82h8rzkrijmlmmafxp81ui0mkadr9ni5uf40</td>\n",
       "      <td>NaN</td>\n",
       "    </tr>\n",
       "  </tbody>\n",
       "</table>\n",
       "<p>12610 rows × 31 columns</p>\n",
       "</div>"
      ],
      "text/plain": [
       "        idvisuel  idannonce                  dt  ordre  width  height  \\\n",
       "0      828278883  126755075 2019-01-22 21:21:00      0  300.0   225.0   \n",
       "1      828278885  126755075 2019-01-22 21:21:00      1  300.0   225.0   \n",
       "2      828278887  126755075 2019-01-22 21:21:00      2  300.0   225.0   \n",
       "3      828278889  126755075 2019-01-22 21:21:00      3  300.0   225.0   \n",
       "4      828278891  126755075 2019-01-22 21:21:00      4  300.0   225.0   \n",
       "...          ...        ...                 ...    ...    ...     ...   \n",
       "12605  967479613  154787717 2020-01-06 23:30:00      4  300.0   225.0   \n",
       "12606  965551425  154787717 2019-12-31 13:59:00      5  300.0   225.0   \n",
       "12607  965551427  154787717 2019-12-31 13:59:00      6  300.0   225.0   \n",
       "12608  967479617  154787717 2020-01-06 23:30:00      7  300.0   225.0   \n",
       "12609  967479621  154787717 2020-01-06 23:30:00      8  300.0   225.0   \n",
       "\n",
       "       idtypevisuel  url fichier  thumb_url  ...  si_plan  codif_plan  \\\n",
       "0                 1  NaN     NaN        NaN  ...      0.0         NaN   \n",
       "1                 1  NaN     NaN        NaN  ...      0.0         NaN   \n",
       "2                 1  NaN     NaN        NaN  ...      0.0         NaN   \n",
       "3                 1  NaN     NaN        NaN  ...      0.0         NaN   \n",
       "4                 1  NaN     NaN        NaN  ...      0.0         NaN   \n",
       "...             ...  ...     ...        ...  ...      ...         ...   \n",
       "12605             1  NaN     NaN        NaN  ...      0.0         NaN   \n",
       "12606             1  NaN     NaN        NaN  ...      0.0         NaN   \n",
       "12607             1  NaN     NaN        NaN  ...      0.0         NaN   \n",
       "12608             1  NaN     NaN        NaN  ...      0.0         NaN   \n",
       "12609             1  NaN     NaN        NaN  ...      0.0         NaN   \n",
       "\n",
       "       si_censure_descriptif  idTypeSource idEtatVisuel  si_censure  \\\n",
       "0                          0             2            1           0   \n",
       "1                          0             2            1           0   \n",
       "2                          0             2            1           0   \n",
       "3                          0             2            1           0   \n",
       "4                          0             2            1           0   \n",
       "...                      ...           ...          ...         ...   \n",
       "12605                      0             2            1           0   \n",
       "12606                      0             2            1           0   \n",
       "12607                      0             2            1           0   \n",
       "12608                      0             2            1           0   \n",
       "12609                      0             2            1           0   \n",
       "\n",
       "      b600_width  b600_height                                   tagphoto  \\\n",
       "0            NaN          NaN  0lsge31naiqxuipdpbu7i0j1x02t2nz4qe2kwwxnc   \n",
       "1            NaN          NaN  0c2l4rd5hhvxn9jtiigaoot7ivh8wc69cagglgxg8   \n",
       "2            NaN          NaN  0vrmyps5fyspy86fb00bsjaiadr2ge61q76bd2c0o   \n",
       "3            NaN          NaN  0xtvuw00vzbonxbo57dfcxkgpszcn8la4l0n2njvc   \n",
       "4            NaN          NaN  0zcana0tan6fkt3lznpraujersd3kcwk6sbqpme6w   \n",
       "...          ...          ...                                        ...   \n",
       "12605        NaN          NaN  0a4nadtvcy5e5pfmwp14mejdyqhkkyz9g76kaxf5s   \n",
       "12606        NaN          NaN  0dq28nnwgma7k4a03i8u8v28sv3n1lry3zc3brmww   \n",
       "12607        NaN          NaN  23vllbd93239vdk9zc22avps9o3f23myh1dcjk3wc   \n",
       "12608        NaN          NaN  0xe3vnnpwh40o3srff931xlv9vrekk5tt9ess4pa8   \n",
       "12609        NaN          NaN  27ikh82h8rzkrijmlmmafxp81ui0mkadr9ni5uf40   \n",
       "\n",
       "       tagfile  \n",
       "0          NaN  \n",
       "1          NaN  \n",
       "2          NaN  \n",
       "3          NaN  \n",
       "4          NaN  \n",
       "...        ...  \n",
       "12605      NaN  \n",
       "12606      NaN  \n",
       "12607      NaN  \n",
       "12608      NaN  \n",
       "12609      NaN  \n",
       "\n",
       "[12610 rows x 31 columns]"
      ]
     },
     "execution_count": 91,
     "metadata": {},
     "output_type": "execute_result"
    }
   ],
   "source": [
    "id_photo"
   ]
  }
 ],
 "metadata": {
  "kernelspec": {
   "display_name": "doublons3.7",
   "language": "python",
   "name": "doublons3.7"
  },
  "language_info": {
   "codemirror_mode": {
    "name": "ipython",
    "version": 3
   },
   "file_extension": ".py",
   "mimetype": "text/x-python",
   "name": "python",
   "nbconvert_exporter": "python",
   "pygments_lexer": "ipython3",
   "version": "3.7.7"
  },
  "toc": {
   "base_numbering": 1,
   "nav_menu": {},
   "number_sections": true,
   "sideBar": true,
   "skip_h1_title": false,
   "title_cell": "Table of Contents",
   "title_sidebar": "Contents",
   "toc_cell": false,
   "toc_position": {
    "height": "calc(100% - 180px)",
    "left": "10px",
    "top": "150px",
    "width": "258.075px"
   },
   "toc_section_display": true,
   "toc_window_display": true
  },
  "varInspector": {
   "cols": {
    "lenName": 16,
    "lenType": 16,
    "lenVar": 40
   },
   "kernels_config": {
    "python": {
     "delete_cmd_postfix": "",
     "delete_cmd_prefix": "del ",
     "library": "var_list.py",
     "varRefreshCmd": "print(var_dic_list())"
    },
    "r": {
     "delete_cmd_postfix": ") ",
     "delete_cmd_prefix": "rm(",
     "library": "var_list.r",
     "varRefreshCmd": "cat(var_dic_list()) "
    }
   },
   "position": {
    "height": "408.4px",
    "left": "1164.6px",
    "right": "20px",
    "top": "120px",
    "width": "351.4px"
   },
   "types_to_exclude": [
    "module",
    "function",
    "builtin_function_or_method",
    "instance",
    "_Feature"
   ],
   "window_display": false
  }
 },
 "nbformat": 4,
 "nbformat_minor": 4
}
