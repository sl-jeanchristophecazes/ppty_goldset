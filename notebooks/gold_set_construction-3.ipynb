{
 "cells": [
  {
   "cell_type": "markdown",
   "metadata": {},
   "source": [
    "# Get data"
   ]
  },
  {
   "cell_type": "code",
   "execution_count": 2,
   "metadata": {},
   "outputs": [],
   "source": [
    "import warnings \n",
    "import numpy as np\n",
    "\n",
    "warnings.filterwarnings(\"ignore\")"
   ]
  },
  {
   "cell_type": "markdown",
   "metadata": {},
   "source": [
    "## Retrieve the data from S3"
   ]
  },
  {
   "cell_type": "code",
   "execution_count": 3,
   "metadata": {
    "ExecuteTime": {
     "end_time": "2020-02-24T12:58:16.057228Z",
     "start_time": "2020-02-24T12:58:15.656132Z"
    }
   },
   "outputs": [],
   "source": [
    "from common_tools.aws.s3 import S3Client\n",
    "import pandas as pd \n",
    "s3_client = S3Client()\n",
    "data_path = s3_client.download_file('seloger-data-developers-dev','alaborde/data/data_query_20200220.csv')\n",
    "data = pd.read_csv(data_path)"
   ]
  },
  {
   "cell_type": "markdown",
   "metadata": {},
   "source": [
    "## Retrieve the ref_geo from S3"
   ]
  },
  {
   "cell_type": "code",
   "execution_count": 4,
   "metadata": {
    "ExecuteTime": {
     "end_time": "2020-02-24T12:58:30.396109Z",
     "start_time": "2020-02-24T12:58:26.495690Z"
    },
    "scrolled": true
   },
   "outputs": [],
   "source": [
    "from common_tools.aws.s3 import S3Client\n",
    "import pandas as pd\n",
    "s3_client = S3Client()\n",
    "ref_geo_path = s3_client.download_file('seloger-data-developers-dev','alaborde/data/ref_geo.csv')\n",
    "ref_geo = pd.read_csv(ref_geo_path)"
   ]
  },
  {
   "cell_type": "markdown",
   "metadata": {},
   "source": [
    "# Prepare data"
   ]
  },
  {
   "cell_type": "code",
   "execution_count": 5,
   "metadata": {
    "ExecuteTime": {
     "end_time": "2020-02-24T12:59:16.845816Z",
     "start_time": "2020-02-24T12:59:16.828597Z"
    }
   },
   "outputs": [],
   "source": [
    "data_prep = data[['idannonce','cp','ville','codeinsee','descriptif_fr',\n",
    "             'px', 'surface','annee_construct','nb_pieces', 'latitude', 'longitude']].copy()"
   ]
  },
  {
   "cell_type": "markdown",
   "metadata": {},
   "source": [
    "## Ads localization"
   ]
  },
  {
   "cell_type": "markdown",
   "metadata": {},
   "source": [
    "### Geo mapper CP --> City"
   ]
  },
  {
   "cell_type": "code",
   "execution_count": 6,
   "metadata": {
    "ExecuteTime": {
     "end_time": "2020-02-24T13:20:20.990269Z",
     "start_time": "2020-02-24T13:20:20.849411Z"
    }
   },
   "outputs": [],
   "source": [
    "key_city = ['city_name','city_id','city_code_insee_sl']\n",
    "geomap_cp = ref_geo.drop_duplicates(subset=key_city).dropna(subset=key_city)[key_city]\n",
    "geomap_cp = geomap_cp.rename(columns={'city_code_insee_sl': 'codeinsee'})"
   ]
  },
  {
   "cell_type": "code",
   "execution_count": 7,
   "metadata": {
    "ExecuteTime": {
     "end_time": "2020-02-24T13:03:03.224573Z",
     "start_time": "2020-02-24T13:03:03.141801Z"
    }
   },
   "outputs": [],
   "source": [
    "data_prep_code_insee = data_prep.merge(geomap_cp, how='left',on=['codeinsee'])\n",
    "data_prep_code_insee = data_prep_code_insee.rename(columns={\n",
    "    \"city_name\": \"city_name_by_code_insee\",\n",
    "    \"city_id\": 'city_id_by_code_insee'\n",
    "})"
   ]
  },
  {
   "cell_type": "markdown",
   "metadata": {},
   "source": [
    "### Project in Polygon"
   ]
  },
  {
   "cell_type": "code",
   "execution_count": 8,
   "metadata": {
    "ExecuteTime": {
     "end_time": "2020-02-24T13:06:05.952083Z",
     "start_time": "2020-02-24T13:06:05.948394Z"
    }
   },
   "outputs": [],
   "source": [
    "import sys\n",
    "sys.path.append('/home/jeanchristophe/codeFolder/sl_data-science-models/pricemap/src')\n",
    "sys.path.append('/home/jeanchristophe/codeFolder/sl_data-science-models/priceml/src')\n",
    "from pricemap.localization.looker import PolygonLookup\n",
    "from pricemap.localization.utils import looker_dict, build_geo_mapper\n",
    "from pricemap.filter.filters import lat_long_filter\n",
    "\n",
    "iris_dict, _, _ = looker_dict(ref_geo)\n",
    "iris_lookup = PolygonLookup(iris_dict)"
   ]
  },
  {
   "cell_type": "code",
   "execution_count": 9,
   "metadata": {},
   "outputs": [],
   "source": [
    "def localize(df: pd.DataFrame,\n",
    "             looker_iris: PolygonLookup,\n",
    "             ref_geo: pd.DataFrame) -> pd.DataFrame:\n",
    "    df_to_localize = df.copy()\n",
    "    df_to_localize.index.name = 'index'\n",
    "    geo_map_iris, _, geo_map_city = build_geo_mapper(ref_geo)\n",
    "    # Get dataframe with lat/lon information\n",
    "    df_with_latlon = df_to_localize.dropna(subset=['latitude', 'longitude']).copy()\n",
    "\n",
    "    # Look at the IRIS level\n",
    "    iris_id_from_latlon = looker_iris.lookup(df_with_latlon[['latitude', 'longitude']])\n",
    "    # Get projection table iris_id => dataframe index\n",
    "    index_to_id_iris = iris_id_from_latlon.to_frame().dropna()\n",
    "    index_to_id_iris.columns = ['iris_id']\n",
    "    index_to_id_iris.index.name = 'index'\n",
    "    # Merge dataframe with district id\n",
    "    dataframe_with_idiris = df_to_localize.merge(index_to_id_iris, how='right', on='index')\n",
    "    # And add the geo info\n",
    "    geo_map_iris['iris_id'] = geo_map_iris['iris_id'].astype(int)\n",
    "    dataframe_with_idiris = dataframe_with_idiris.merge(geo_map_iris, how='left', on='iris_id')\n",
    "    return dataframe_with_idiris"
   ]
  },
  {
   "cell_type": "code",
   "execution_count": 10,
   "metadata": {},
   "outputs": [],
   "source": [
    "data_prep_code_insee_filt = lat_long_filter(data_prep_code_insee, 'latitude', 'longitude', False)\n",
    "data_loc = localize(data_prep_code_insee_filt, iris_lookup, ref_geo)"
   ]
  },
  {
   "cell_type": "code",
   "execution_count": 11,
   "metadata": {
    "ExecuteTime": {
     "end_time": "2020-02-24T13:21:14.316124Z",
     "start_time": "2020-02-24T13:21:14.304397Z"
    }
   },
   "outputs": [],
   "source": [
    "geomap_cp_bis = geomap_cp.rename(columns={\"codeinsee\": \"city_code_insee_sl\",\n",
    "                                         'city_id': 'city_id_from_latlon'})\n",
    "data_loc = data_loc.merge(geomap_cp_bis, how='left', on=['city_code_insee_sl'])"
   ]
  },
  {
   "cell_type": "code",
   "execution_count": 12,
   "metadata": {
    "ExecuteTime": {
     "end_time": "2020-02-24T13:25:47.906421Z",
     "start_time": "2020-02-24T13:25:47.801730Z"
    }
   },
   "outputs": [],
   "source": [
    "data_localized = pd.concat([data_loc, data_prep_code_insee_filt], sort=False).drop_duplicates(subset=['idannonce'], keep='first')"
   ]
  },
  {
   "cell_type": "code",
   "execution_count": 13,
   "metadata": {
    "ExecuteTime": {
     "end_time": "2020-02-24T13:38:55.575421Z",
     "start_time": "2020-02-24T13:38:55.510865Z"
    }
   },
   "outputs": [],
   "source": [
    "districts_mapper = ref_geo.dropna(subset=['districts_id','districts_name']).drop_duplicates(subset=['districts_id','districts_name'])\n",
    "districts_mapper = districts_mapper[['districts_id','districts_name']].copy()"
   ]
  },
  {
   "cell_type": "code",
   "execution_count": 14,
   "metadata": {
    "ExecuteTime": {
     "end_time": "2020-02-24T13:39:43.214818Z",
     "start_time": "2020-02-24T13:39:43.056443Z"
    }
   },
   "outputs": [],
   "source": [
    "data_localized_keep = data_localized[(data_localized['city_id_by_code_insee'] ==data_localized['city_id_from_latlon'])\n",
    "              | (data_localized['city_id_from_latlon'].isna())]\n",
    "data_localized_keep = data_localized_keep.merge(districts_mapper, how='left', on=['districts_id'])\n",
    "data_localized_keep = data_localized_keep.drop(columns=['city_name', 'city_id_from_latlon','iris_id',\n",
    "                                                       'department_id','region_id','country_id'])\n",
    "data_loc = data_localized_keep.rename(columns={\n",
    "    \"city_name_by_code_insee\": 'city_name',\n",
    "    'city_id_by_code_insee': 'city_id',\n",
    "    \n",
    "}).copy()"
   ]
  },
  {
   "cell_type": "code",
   "execution_count": 15,
   "metadata": {
    "scrolled": true
   },
   "outputs": [
    {
     "data": {
      "text/html": [
       "<div>\n",
       "<style scoped>\n",
       "    .dataframe tbody tr th:only-of-type {\n",
       "        vertical-align: middle;\n",
       "    }\n",
       "\n",
       "    .dataframe tbody tr th {\n",
       "        vertical-align: top;\n",
       "    }\n",
       "\n",
       "    .dataframe thead th {\n",
       "        text-align: right;\n",
       "    }\n",
       "</style>\n",
       "<table border=\"1\" class=\"dataframe\">\n",
       "  <thead>\n",
       "    <tr style=\"text-align: right;\">\n",
       "      <th></th>\n",
       "      <th>idannonce</th>\n",
       "      <th>cp</th>\n",
       "      <th>ville</th>\n",
       "      <th>codeinsee</th>\n",
       "      <th>descriptif_fr</th>\n",
       "      <th>px</th>\n",
       "      <th>surface</th>\n",
       "      <th>annee_construct</th>\n",
       "      <th>nb_pieces</th>\n",
       "      <th>latitude</th>\n",
       "      <th>longitude</th>\n",
       "      <th>city_name</th>\n",
       "      <th>city_id</th>\n",
       "      <th>districts_id</th>\n",
       "      <th>city_code_insee_sl</th>\n",
       "      <th>districts_name</th>\n",
       "    </tr>\n",
       "  </thead>\n",
       "  <tbody>\n",
       "    <tr>\n",
       "      <th>0</th>\n",
       "      <td>153921147</td>\n",
       "      <td>83270</td>\n",
       "      <td>Saint Cyr sur Mer</td>\n",
       "      <td>830112.0</td>\n",
       "      <td>Les Lecques - en première ligne - proche mer e...</td>\n",
       "      <td>300000.0</td>\n",
       "      <td>37.70</td>\n",
       "      <td>NaN</td>\n",
       "      <td>2.0</td>\n",
       "      <td>43.179253</td>\n",
       "      <td>5.688592</td>\n",
       "      <td>Saint-Cyr-sur-Mer</td>\n",
       "      <td>35973.0</td>\n",
       "      <td>46103.0</td>\n",
       "      <td>830112.0</td>\n",
       "      <td>Les Lecques-Banette-Bourrasque-Pradeaux</td>\n",
       "    </tr>\n",
       "    <tr>\n",
       "      <th>1</th>\n",
       "      <td>149065527</td>\n",
       "      <td>83700</td>\n",
       "      <td>Saint Raphael</td>\n",
       "      <td>830118.0</td>\n",
       "      <td>L'agence WF KING de Valescure vous propose dan...</td>\n",
       "      <td>277000.0</td>\n",
       "      <td>55.00</td>\n",
       "      <td>2018.0</td>\n",
       "      <td>2.0</td>\n",
       "      <td>43.418758</td>\n",
       "      <td>6.796278</td>\n",
       "      <td>Saint-Raphaël</td>\n",
       "      <td>35979.0</td>\n",
       "      <td>46123.0</td>\n",
       "      <td>830118.0</td>\n",
       "      <td>Boulouris</td>\n",
       "    </tr>\n",
       "    <tr>\n",
       "      <th>2</th>\n",
       "      <td>146323453</td>\n",
       "      <td>78610</td>\n",
       "      <td>Saint-Leger-en-Yvelines</td>\n",
       "      <td>780562.0</td>\n",
       "      <td>Venez découvrir à mes côtés ce bien rare et at...</td>\n",
       "      <td>170000.0</td>\n",
       "      <td>57.00</td>\n",
       "      <td>1800.0</td>\n",
       "      <td>3.0</td>\n",
       "      <td>48.721718</td>\n",
       "      <td>1.764741</td>\n",
       "      <td>Saint-Léger-en-Yvelines</td>\n",
       "      <td>34117.0</td>\n",
       "      <td>NaN</td>\n",
       "      <td>780562.0</td>\n",
       "      <td>NaN</td>\n",
       "    </tr>\n",
       "    <tr>\n",
       "      <th>3</th>\n",
       "      <td>152749001</td>\n",
       "      <td>93140</td>\n",
       "      <td>Bondy</td>\n",
       "      <td>930010.0</td>\n",
       "      <td>Situé dans le nouvel éco quartier de Bondy en ...</td>\n",
       "      <td>213218.0</td>\n",
       "      <td>43.00</td>\n",
       "      <td>NaN</td>\n",
       "      <td>2.0</td>\n",
       "      <td>48.903725</td>\n",
       "      <td>2.485260</td>\n",
       "      <td>Bondy</td>\n",
       "      <td>38353.0</td>\n",
       "      <td>47200.0</td>\n",
       "      <td>930010.0</td>\n",
       "      <td>Le Saule Blanc</td>\n",
       "    </tr>\n",
       "    <tr>\n",
       "      <th>4</th>\n",
       "      <td>154493689</td>\n",
       "      <td>69100</td>\n",
       "      <td>Villeurbanne</td>\n",
       "      <td>690266.0</td>\n",
       "      <td>Château Gaillard, en étage élevé d'une future ...</td>\n",
       "      <td>498000.0</td>\n",
       "      <td>95.82</td>\n",
       "      <td>2021.0</td>\n",
       "      <td>4.0</td>\n",
       "      <td>45.773087</td>\n",
       "      <td>4.889020</td>\n",
       "      <td>Villeurbanne</td>\n",
       "      <td>30327.0</td>\n",
       "      <td>44571.0</td>\n",
       "      <td>690266.0</td>\n",
       "      <td>Les Poulettes</td>\n",
       "    </tr>\n",
       "    <tr>\n",
       "      <th>...</th>\n",
       "      <td>...</td>\n",
       "      <td>...</td>\n",
       "      <td>...</td>\n",
       "      <td>...</td>\n",
       "      <td>...</td>\n",
       "      <td>...</td>\n",
       "      <td>...</td>\n",
       "      <td>...</td>\n",
       "      <td>...</td>\n",
       "      <td>...</td>\n",
       "      <td>...</td>\n",
       "      <td>...</td>\n",
       "      <td>...</td>\n",
       "      <td>...</td>\n",
       "      <td>...</td>\n",
       "      <td>...</td>\n",
       "    </tr>\n",
       "    <tr>\n",
       "      <th>95407</th>\n",
       "      <td>152667559</td>\n",
       "      <td>69330</td>\n",
       "      <td>Meyzieu</td>\n",
       "      <td>690282.0</td>\n",
       "      <td>Appartement 4 pièces d'environ 66m² à vendre s...</td>\n",
       "      <td>103000.0</td>\n",
       "      <td>66.00</td>\n",
       "      <td>NaN</td>\n",
       "      <td>4.0</td>\n",
       "      <td>NaN</td>\n",
       "      <td>NaN</td>\n",
       "      <td>Meyzieu</td>\n",
       "      <td>30343.0</td>\n",
       "      <td>NaN</td>\n",
       "      <td>NaN</td>\n",
       "      <td>NaN</td>\n",
       "    </tr>\n",
       "    <tr>\n",
       "      <th>95408</th>\n",
       "      <td>152582881</td>\n",
       "      <td>01200</td>\n",
       "      <td>Lancrans</td>\n",
       "      <td>10205.0</td>\n",
       "      <td>Joli appartement de 84 m² situé au centre de l...</td>\n",
       "      <td>135000.0</td>\n",
       "      <td>84.00</td>\n",
       "      <td>1940.0</td>\n",
       "      <td>3.0</td>\n",
       "      <td>NaN</td>\n",
       "      <td>NaN</td>\n",
       "      <td>Lancrans</td>\n",
       "      <td>559.0</td>\n",
       "      <td>NaN</td>\n",
       "      <td>NaN</td>\n",
       "      <td>NaN</td>\n",
       "    </tr>\n",
       "    <tr>\n",
       "      <th>95409</th>\n",
       "      <td>153475491</td>\n",
       "      <td>33000</td>\n",
       "      <td>Bordeaux</td>\n",
       "      <td>330063.0</td>\n",
       "      <td>Entre Chartrons et Quinconces.Dans petites cop...</td>\n",
       "      <td>560000.0</td>\n",
       "      <td>74.00</td>\n",
       "      <td>NaN</td>\n",
       "      <td>3.0</td>\n",
       "      <td>NaN</td>\n",
       "      <td>NaN</td>\n",
       "      <td>Bordeaux</td>\n",
       "      <td>13950.0</td>\n",
       "      <td>NaN</td>\n",
       "      <td>NaN</td>\n",
       "      <td>NaN</td>\n",
       "    </tr>\n",
       "    <tr>\n",
       "      <th>95410</th>\n",
       "      <td>153486885</td>\n",
       "      <td>78100</td>\n",
       "      <td>St Germain en Laye</td>\n",
       "      <td>780551.0</td>\n",
       "      <td>ST GERMAIN Centre 5'RER, Calme Dans résidence ...</td>\n",
       "      <td>777000.0</td>\n",
       "      <td>97.37</td>\n",
       "      <td>NaN</td>\n",
       "      <td>4.0</td>\n",
       "      <td>NaN</td>\n",
       "      <td>NaN</td>\n",
       "      <td>Saint-Germain-en-Laye</td>\n",
       "      <td>34112.0</td>\n",
       "      <td>NaN</td>\n",
       "      <td>NaN</td>\n",
       "      <td>NaN</td>\n",
       "    </tr>\n",
       "    <tr>\n",
       "      <th>95411</th>\n",
       "      <td>146633713</td>\n",
       "      <td>65200</td>\n",
       "      <td>La Mongie</td>\n",
       "      <td>650901.0</td>\n",
       "      <td>En pied des pistes et proximité de tout commer...</td>\n",
       "      <td>38700.0</td>\n",
       "      <td>22.93</td>\n",
       "      <td>NaN</td>\n",
       "      <td>1.0</td>\n",
       "      <td>NaN</td>\n",
       "      <td>NaN</td>\n",
       "      <td>La Mongie</td>\n",
       "      <td>28840.0</td>\n",
       "      <td>NaN</td>\n",
       "      <td>NaN</td>\n",
       "      <td>NaN</td>\n",
       "    </tr>\n",
       "  </tbody>\n",
       "</table>\n",
       "<p>95412 rows × 16 columns</p>\n",
       "</div>"
      ],
      "text/plain": [
       "       idannonce     cp                    ville  codeinsee  \\\n",
       "0      153921147  83270        Saint Cyr sur Mer   830112.0   \n",
       "1      149065527  83700            Saint Raphael   830118.0   \n",
       "2      146323453  78610  Saint-Leger-en-Yvelines   780562.0   \n",
       "3      152749001  93140                    Bondy   930010.0   \n",
       "4      154493689  69100             Villeurbanne   690266.0   \n",
       "...          ...    ...                      ...        ...   \n",
       "95407  152667559  69330                  Meyzieu   690282.0   \n",
       "95408  152582881  01200                 Lancrans    10205.0   \n",
       "95409  153475491  33000                 Bordeaux   330063.0   \n",
       "95410  153486885  78100       St Germain en Laye   780551.0   \n",
       "95411  146633713  65200                La Mongie   650901.0   \n",
       "\n",
       "                                           descriptif_fr        px  surface  \\\n",
       "0      Les Lecques - en première ligne - proche mer e...  300000.0    37.70   \n",
       "1      L'agence WF KING de Valescure vous propose dan...  277000.0    55.00   \n",
       "2      Venez découvrir à mes côtés ce bien rare et at...  170000.0    57.00   \n",
       "3      Situé dans le nouvel éco quartier de Bondy en ...  213218.0    43.00   \n",
       "4      Château Gaillard, en étage élevé d'une future ...  498000.0    95.82   \n",
       "...                                                  ...       ...      ...   \n",
       "95407  Appartement 4 pièces d'environ 66m² à vendre s...  103000.0    66.00   \n",
       "95408  Joli appartement de 84 m² situé au centre de l...  135000.0    84.00   \n",
       "95409  Entre Chartrons et Quinconces.Dans petites cop...  560000.0    74.00   \n",
       "95410  ST GERMAIN Centre 5'RER, Calme Dans résidence ...  777000.0    97.37   \n",
       "95411  En pied des pistes et proximité de tout commer...   38700.0    22.93   \n",
       "\n",
       "       annee_construct  nb_pieces   latitude  longitude  \\\n",
       "0                  NaN        2.0  43.179253   5.688592   \n",
       "1               2018.0        2.0  43.418758   6.796278   \n",
       "2               1800.0        3.0  48.721718   1.764741   \n",
       "3                  NaN        2.0  48.903725   2.485260   \n",
       "4               2021.0        4.0  45.773087   4.889020   \n",
       "...                ...        ...        ...        ...   \n",
       "95407              NaN        4.0        NaN        NaN   \n",
       "95408           1940.0        3.0        NaN        NaN   \n",
       "95409              NaN        3.0        NaN        NaN   \n",
       "95410              NaN        4.0        NaN        NaN   \n",
       "95411              NaN        1.0        NaN        NaN   \n",
       "\n",
       "                     city_name  city_id  districts_id  city_code_insee_sl  \\\n",
       "0            Saint-Cyr-sur-Mer  35973.0       46103.0            830112.0   \n",
       "1                Saint-Raphaël  35979.0       46123.0            830118.0   \n",
       "2      Saint-Léger-en-Yvelines  34117.0           NaN            780562.0   \n",
       "3                        Bondy  38353.0       47200.0            930010.0   \n",
       "4                 Villeurbanne  30327.0       44571.0            690266.0   \n",
       "...                        ...      ...           ...                 ...   \n",
       "95407                  Meyzieu  30343.0           NaN                 NaN   \n",
       "95408                 Lancrans    559.0           NaN                 NaN   \n",
       "95409                 Bordeaux  13950.0           NaN                 NaN   \n",
       "95410    Saint-Germain-en-Laye  34112.0           NaN                 NaN   \n",
       "95411                La Mongie  28840.0           NaN                 NaN   \n",
       "\n",
       "                                districts_name  \n",
       "0      Les Lecques-Banette-Bourrasque-Pradeaux  \n",
       "1                                    Boulouris  \n",
       "2                                          NaN  \n",
       "3                               Le Saule Blanc  \n",
       "4                                Les Poulettes  \n",
       "...                                        ...  \n",
       "95407                                      NaN  \n",
       "95408                                      NaN  \n",
       "95409                                      NaN  \n",
       "95410                                      NaN  \n",
       "95411                                      NaN  \n",
       "\n",
       "[95412 rows x 16 columns]"
      ]
     },
     "execution_count": 15,
     "metadata": {},
     "output_type": "execute_result"
    }
   ],
   "source": [
    "data_loc"
   ]
  },
  {
   "cell_type": "markdown",
   "metadata": {},
   "source": [
    "## Save it locally"
   ]
  },
  {
   "cell_type": "code",
   "execution_count": 16,
   "metadata": {
    "ExecuteTime": {
     "end_time": "2020-02-24T13:40:43.950530Z",
     "start_time": "2020-02-24T13:40:39.613954Z"
    }
   },
   "outputs": [],
   "source": [
    "import pickle\n",
    "with open('/home/jeanchristophe/dataFolder/ppty_goldset/request_ads_2019_2020_iris_localized.pickle','wb') as handle:\n",
    "    pickle.dump(data_loc, handle)"
   ]
  },
  {
   "cell_type": "markdown",
   "metadata": {},
   "source": [
    "# Load it locally"
   ]
  },
  {
   "cell_type": "code",
   "execution_count": 17,
   "metadata": {
    "ExecuteTime": {
     "start_time": "2020-02-24T10:57:22.341Z"
    }
   },
   "outputs": [],
   "source": [
    "import pickle\n",
    "with open('/home/jeanchristophe/dataFolder/ppty_goldset/request_ads_2019_2020_iris_localized.pickle','rb') as handle:\n",
    "    data_loc = pickle.load(handle)"
   ]
  },
  {
   "cell_type": "code",
   "execution_count": 18,
   "metadata": {
    "ExecuteTime": {
     "end_time": "2020-02-24T13:41:44.634582Z",
     "start_time": "2020-02-24T13:41:44.630295Z"
    }
   },
   "outputs": [
    {
     "data": {
      "text/plain": [
       "Index(['idannonce', 'cp', 'ville', 'codeinsee', 'descriptif_fr', 'px',\n",
       "       'surface', 'annee_construct', 'nb_pieces', 'latitude', 'longitude',\n",
       "       'city_name', 'city_id', 'districts_id', 'city_code_insee_sl',\n",
       "       'districts_name'],\n",
       "      dtype='object')"
      ]
     },
     "execution_count": 18,
     "metadata": {},
     "output_type": "execute_result"
    }
   ],
   "source": [
    "data_loc.columns"
   ]
  },
  {
   "cell_type": "markdown",
   "metadata": {},
   "source": [
    "## Focus on Montpellier area"
   ]
  },
  {
   "cell_type": "code",
   "execution_count": 19,
   "metadata": {
    "ExecuteTime": {
     "end_time": "2020-02-24T13:41:15.153938Z",
     "start_time": "2020-02-24T13:41:15.127574Z"
    }
   },
   "outputs": [
    {
     "data": {
      "text/html": [
       "<div>\n",
       "<style scoped>\n",
       "    .dataframe tbody tr th:only-of-type {\n",
       "        vertical-align: middle;\n",
       "    }\n",
       "\n",
       "    .dataframe tbody tr th {\n",
       "        vertical-align: top;\n",
       "    }\n",
       "\n",
       "    .dataframe thead th {\n",
       "        text-align: right;\n",
       "    }\n",
       "</style>\n",
       "<table border=\"1\" class=\"dataframe\">\n",
       "  <thead>\n",
       "    <tr style=\"text-align: right;\">\n",
       "      <th></th>\n",
       "      <th>department_id</th>\n",
       "      <th>department_name</th>\n",
       "    </tr>\n",
       "  </thead>\n",
       "  <tbody>\n",
       "    <tr>\n",
       "      <th>12488</th>\n",
       "      <td>297</td>\n",
       "      <td>Hérault</td>\n",
       "    </tr>\n",
       "  </tbody>\n",
       "</table>\n",
       "</div>"
      ],
      "text/plain": [
       "       department_id department_name\n",
       "12488            297         Hérault"
      ]
     },
     "execution_count": 19,
     "metadata": {},
     "output_type": "execute_result"
    }
   ],
   "source": [
    "# Get department id\n",
    "ref_geo[ref_geo.department_name=='Hérault'].dropna(subset=['department_id']).drop_duplicates('department_name')\\\n",
    "[['department_id','department_name']]"
   ]
  },
  {
   "cell_type": "code",
   "execution_count": 20,
   "metadata": {
    "ExecuteTime": {
     "end_time": "2020-02-24T13:41:16.525651Z",
     "start_time": "2020-02-24T13:41:16.486830Z"
    }
   },
   "outputs": [
    {
     "data": {
      "text/plain": [
       "[14512,\n",
       " 14532,\n",
       " 14571,\n",
       " 14578,\n",
       " 14584,\n",
       " 14589,\n",
       " 14609,\n",
       " 14624,\n",
       " 14695,\n",
       " 14702,\n",
       " 14725,\n",
       " 14627]"
      ]
     },
     "execution_count": 20,
     "metadata": {},
     "output_type": "execute_result"
    }
   ],
   "source": [
    "# Get bordering cities\n",
    "list_id_bordering_montpellier = eval(ref_geo[ref_geo.city_name=='Montpellier'].dropna(subset=['city_id']).drop_duplicates('city_id')\\\n",
    "['city_bordering'].values[0])\n",
    "list_id_montpellier = list_id_bordering_montpellier + list(ref_geo[ref_geo.city_name=='Montpellier'].dropna(subset=['city_id']).drop_duplicates('city_id')\\\n",
    "[['city_id']].values[0])\n",
    "list_id_montpellier"
   ]
  },
  {
   "cell_type": "code",
   "execution_count": 21,
   "metadata": {
    "ExecuteTime": {
     "end_time": "2020-02-24T13:45:00.721320Z",
     "start_time": "2020-02-24T13:45:00.712028Z"
    }
   },
   "outputs": [
    {
     "data": {
      "text/plain": [
       "'1938 ads for Montpellier area'"
      ]
     },
     "execution_count": 21,
     "metadata": {},
     "output_type": "execute_result"
    }
   ],
   "source": [
    "# Filter in Montpellier\n",
    "df_montpellier = data_loc[data_loc.city_id.isin(list_id_montpellier)].copy()\n",
    "f'{df_montpellier.shape[0]} ads for Montpellier area'"
   ]
  },
  {
   "cell_type": "markdown",
   "metadata": {},
   "source": [
    "## Focus on Grenoble area"
   ]
  },
  {
   "cell_type": "code",
   "execution_count": 22,
   "metadata": {
    "ExecuteTime": {
     "end_time": "2020-02-24T13:47:59.833342Z",
     "start_time": "2020-02-24T13:47:59.795515Z"
    }
   },
   "outputs": [
    {
     "data": {
      "text/plain": [
       "[15838, 15845, 15854, 16058, 16096, 16098, 16146, 16155, 16156, 16182, 15869]"
      ]
     },
     "execution_count": 22,
     "metadata": {},
     "output_type": "execute_result"
    }
   ],
   "source": [
    "# Get bordering cities\n",
    "list_id_bordering_grenoble= eval(ref_geo[ref_geo.city_name=='Grenoble'].dropna(subset=['city_id']).drop_duplicates('city_id')\\\n",
    "['city_bordering'].values[0])\n",
    "list_id_grenoble = list_id_bordering_grenoble + list(ref_geo[ref_geo.city_name=='Grenoble'].dropna(subset=['city_id']).drop_duplicates('city_id')\\\n",
    "[['city_id']].values[0])\n",
    "list_id_grenoble"
   ]
  },
  {
   "cell_type": "code",
   "execution_count": 23,
   "metadata": {
    "ExecuteTime": {
     "end_time": "2020-02-24T13:48:01.785586Z",
     "start_time": "2020-02-24T13:48:01.777024Z"
    }
   },
   "outputs": [
    {
     "data": {
      "text/plain": [
       "'882 ads for Grenoble area'"
      ]
     },
     "execution_count": 23,
     "metadata": {},
     "output_type": "execute_result"
    }
   ],
   "source": [
    "# Filter in Grenoble\n",
    "df_grenoble = data_loc[data_loc.city_id.isin(list_id_grenoble)].copy()\n",
    "f'{df_grenoble.shape[0]} ads for Grenoble area'"
   ]
  },
  {
   "cell_type": "markdown",
   "metadata": {},
   "source": [
    "## Focus on Paris"
   ]
  },
  {
   "cell_type": "code",
   "execution_count": 24,
   "metadata": {
    "ExecuteTime": {
     "end_time": "2020-02-24T13:48:13.653763Z",
     "start_time": "2020-02-24T13:48:13.616102Z"
    }
   },
   "outputs": [
    {
     "data": {
      "text/plain": [
       "[32588, 32589, 32590, 32597, 32599, 38348, 38379, 38380, 32598]"
      ]
     },
     "execution_count": 24,
     "metadata": {},
     "output_type": "execute_result"
    }
   ],
   "source": [
    "# Get bordering cities\n",
    "list_id_bordering_paris18 = eval(ref_geo[ref_geo.city_name=='Paris 18ème'].dropna(subset=['city_id']).drop_duplicates('city_id')\\\n",
    "['city_bordering'].values[0])\n",
    "list_id_paris18 = list_id_bordering_paris18 + list(ref_geo[ref_geo.city_name=='Paris 18ème'].dropna(subset=['city_id']).drop_duplicates('city_id')\\\n",
    "[['city_id']].values[0])\n",
    "list_id_paris18"
   ]
  },
  {
   "cell_type": "code",
   "execution_count": 25,
   "metadata": {
    "ExecuteTime": {
     "end_time": "2020-02-24T13:49:53.860736Z",
     "start_time": "2020-02-24T13:49:53.852725Z"
    }
   },
   "outputs": [
    {
     "data": {
      "text/plain": [
       "'968 ads for Paris 18eme area'"
      ]
     },
     "execution_count": 25,
     "metadata": {},
     "output_type": "execute_result"
    }
   ],
   "source": [
    "# Filter in Paris 18eme\n",
    "df_paris18 = data_loc[data_loc.city_id.isin(list_id_paris18)].copy()\n",
    "f'{df_paris18.shape[0]} ads for Paris 18eme area'"
   ]
  },
  {
   "cell_type": "markdown",
   "metadata": {},
   "source": [
    "# Gold set"
   ]
  },
  {
   "cell_type": "code",
   "execution_count": 26,
   "metadata": {
    "ExecuteTime": {
     "end_time": "2020-02-24T13:51:07.461590Z",
     "start_time": "2020-02-24T13:51:07.450066Z"
    }
   },
   "outputs": [],
   "source": [
    "goldset = pd.concat([df_paris18, df_grenoble, df_montpellier], sort=False)"
   ]
  },
  {
   "cell_type": "markdown",
   "metadata": {},
   "source": [
    "## Export goldset"
   ]
  },
  {
   "cell_type": "code",
   "execution_count": 27,
   "metadata": {
    "ExecuteTime": {
     "end_time": "2020-02-24T13:52:12.863020Z",
     "start_time": "2020-02-24T13:52:12.748926Z"
    }
   },
   "outputs": [],
   "source": [
    "goldset.to_csv('/home/jeanchristophe/dataFolder/ppty_goldset/dedup_goldset.csv', index=False)"
   ]
  },
  {
   "cell_type": "markdown",
   "metadata": {},
   "source": [
    "# Text preprocessing "
   ]
  },
  {
   "cell_type": "code",
   "execution_count": 28,
   "metadata": {},
   "outputs": [],
   "source": [
    "import pandas as pd\n",
    "goldset = pd.read_csv('/home/jeanchristophe/dataFolder/ppty_goldset/dedup_goldset.csv')"
   ]
  },
  {
   "cell_type": "code",
   "execution_count": 29,
   "metadata": {},
   "outputs": [],
   "source": [
    "from pricemap.filter.filters import simple_text\n",
    "df_goldset_simpletxt = simple_text(goldset, 'descriptif_fr')"
   ]
  },
  {
   "cell_type": "code",
   "execution_count": 30,
   "metadata": {},
   "outputs": [],
   "source": [
    "data_goldset = df_goldset_simpletxt.copy()"
   ]
  },
  {
   "cell_type": "markdown",
   "metadata": {},
   "source": [
    "# Find similar ads"
   ]
  },
  {
   "cell_type": "code",
   "execution_count": 31,
   "metadata": {},
   "outputs": [],
   "source": [
    "# Group ads that are around the three targeted area\n",
    "# Method: project in ref geo to get the department and group the ads\n",
    "\n",
    "group_mapper= ['city_id','region_id']\n",
    "depart_mapper = ref_geo.drop_duplicates(subset=group_mapper).dropna(subset=group_mapper)[group_mapper]"
   ]
  },
  {
   "cell_type": "code",
   "execution_count": 32,
   "metadata": {},
   "outputs": [
    {
     "data": {
      "text/plain": [
       "240    1938\n",
       "239     968\n",
       "252     882\n",
       "Name: region_id, dtype: int64"
      ]
     },
     "execution_count": 32,
     "metadata": {},
     "output_type": "execute_result"
    }
   ],
   "source": [
    "data_goldset_depart_code = data_goldset.merge(depart_mapper, how='left', on=['city_id'])\n",
    "data_goldset_depart_code.region_id.value_counts()                      "
   ]
  },
  {
   "cell_type": "code",
   "execution_count": 33,
   "metadata": {
    "ExecuteTime": {
     "end_time": "2020-02-24T14:51:54.345763Z",
     "start_time": "2020-02-24T14:51:54.334477Z"
    }
   },
   "outputs": [],
   "source": [
    "def group_function(df, delta_price, delta_surface, delta_piece):\n",
    "    # Delta price of 5%\n",
    "    # Create max and min bound for each price\n",
    "    df['min_px'] = df.px*(1-(delta_price/100))\n",
    "    df['max_px'] = df.px*(1+(delta_price/100))\n",
    "    \n",
    "    # Create max and min bound for each price\n",
    "    df['min_surface'] = df.surface*(1-(delta_surface/100))\n",
    "    df['max_surface'] = df.surface*(1+(delta_surface/100))\n",
    "\n",
    "    df['min_nbpiece'] = df.nb_pieces-delta_nbpiece\n",
    "    df['max_nbpiece'] = df.nb_pieces+delta_nbpiece\n",
    "    \n",
    "    piece_matrix= np.zeros((df.shape[0], df.shape[0]))\n",
    "    surface_matrix= np.zeros((df.shape[0], df.shape[0]))\n",
    "    price_matrix= np.zeros((df.shape[0], df.shape[0]))\n",
    "    \n",
    "    for i in range(df.shape[0]):\n",
    "        id_groups = np.where((df.nb_pieces >= df.iloc[i]['min_nbpiece']) & (df.nb_pieces <= df.iloc[i]['max_nbpiece']))\n",
    "        piece_matrix[i, id_groups] = 1\n",
    "        id_groups = np.where((df.surface >= df.iloc[i]['min_surface']) & (df.surface <= df.iloc[i]['max_surface']))\n",
    "        surface_matrix[i, id_groups] = 1\n",
    "        id_groups = np.where((df.px >= df.iloc[i]['min_px']) & (df.px <= df.iloc[i]['max_px']))\n",
    "        price_matrix[i, id_groups] = 1\n",
    "    \n",
    "    combined_matrix = np.multiply(np.multiply(piece_matrix, surface_matrix), price_matrix)\n",
    "    df['groups'] = 'nan'\n",
    "    df['len_group'] = 0\n",
    "    # Get groups\n",
    "    for i in range(combined_matrix.shape[0]):\n",
    "        index_list = df.index[np.where(combined_matrix[i,:])[0].tolist()].tolist()\n",
    "        get_index = df.index[i]\n",
    "        if get_index in index_list:\n",
    "            index_list.remove(get_index)\n",
    "        id_annoncegroup = df.loc[index_list]['idannonce'].values.tolist()\n",
    "        df.at[get_index, 'groups'] = str(id_annoncegroup)\n",
    "        df.at[get_index, 'len_group'] = len(id_annoncegroup)\n",
    "    return df\n",
    "\n"
   ]
  },
  {
   "cell_type": "code",
   "execution_count": 34,
   "metadata": {
    "ExecuteTime": {
     "end_time": "2020-02-24T14:48:17.045934Z",
     "start_time": "2020-02-24T14:48:17.037997Z"
    }
   },
   "outputs": [],
   "source": [
    "df_montpellier = data_goldset_depart_code[data_goldset_depart_code.region_id == 240].copy()\n",
    "df_paris18 = data_goldset_depart_code[data_goldset_depart_code.region_id == 239].copy()\n",
    "df_grenoble= data_goldset_depart_code[data_goldset_depart_code.region_id == 252].copy()"
   ]
  },
  {
   "cell_type": "markdown",
   "metadata": {},
   "source": [
    "### Paris"
   ]
  },
  {
   "cell_type": "code",
   "execution_count": 35,
   "metadata": {},
   "outputs": [],
   "source": [
    "def get_len(row):\n",
    "    return len(eval(row['groups']))"
   ]
  },
  {
   "cell_type": "code",
   "execution_count": 36,
   "metadata": {},
   "outputs": [],
   "source": [
    "delta_price = 3.5\n",
    "delta_surface = 3\n",
    "delta_nbpiece = 1\n",
    "\n",
    "groupped_paris18 = group_function(df_paris18, delta_price, delta_surface, delta_nbpiece)\n"
   ]
  },
  {
   "cell_type": "code",
   "execution_count": 37,
   "metadata": {},
   "outputs": [
    {
     "data": {
      "text/plain": [
       "<matplotlib.axes._subplots.AxesSubplot at 0x7f7bce8332d0>"
      ]
     },
     "execution_count": 37,
     "metadata": {},
     "output_type": "execute_result"
    },
    {
     "data": {
      "image/png": "[encoded data removed]",
      "text/plain": [
       "<Figure size 432x288 with 1 Axes>"
      ]
     },
     "metadata": {
      "needs_background": "light"
     },
     "output_type": "display_data"
    }
   ],
   "source": [
    "groupped_paris18.apply(get_len, axis = 1).hist()"
   ]
  },
  {
   "cell_type": "code",
   "execution_count": 38,
   "metadata": {},
   "outputs": [
    {
     "name": "stdout",
     "output_type": "stream",
     "text": [
      "378 idannonce in paris18 has 0 propositions\n",
      "1.6167355371900827 mean number of propositions in paris18\n",
      "11 max number of proposition in paris18\n"
     ]
    }
   ],
   "source": [
    "print(np.sum(groupped_paris18.apply(get_len, axis = 1) == 0), 'idannonce in paris18 has 0 propositions')\n",
    "print(np.mean(groupped_paris18.apply(get_len, axis = 1)), 'mean number of propositions in paris18')\n",
    "print(max(groupped_paris18.apply(get_len, axis = 1)), 'max number of proposition in paris18')"
   ]
  },
  {
   "cell_type": "code",
   "execution_count": 39,
   "metadata": {
    "scrolled": false
   },
   "outputs": [
    {
     "data": {
      "text/html": [
       "<div>\n",
       "<style scoped>\n",
       "    .dataframe tbody tr th:only-of-type {\n",
       "        vertical-align: middle;\n",
       "    }\n",
       "\n",
       "    .dataframe tbody tr th {\n",
       "        vertical-align: top;\n",
       "    }\n",
       "\n",
       "    .dataframe thead th {\n",
       "        text-align: right;\n",
       "    }\n",
       "</style>\n",
       "<table border=\"1\" class=\"dataframe\">\n",
       "  <thead>\n",
       "    <tr style=\"text-align: right;\">\n",
       "      <th></th>\n",
       "      <th>idannonce</th>\n",
       "      <th>cp</th>\n",
       "      <th>ville</th>\n",
       "      <th>codeinsee</th>\n",
       "      <th>descriptif_fr</th>\n",
       "      <th>px</th>\n",
       "      <th>surface</th>\n",
       "      <th>annee_construct</th>\n",
       "      <th>nb_pieces</th>\n",
       "      <th>latitude</th>\n",
       "      <th>...</th>\n",
       "      <th>districts_name</th>\n",
       "      <th>region_id</th>\n",
       "      <th>min_px</th>\n",
       "      <th>max_px</th>\n",
       "      <th>min_surface</th>\n",
       "      <th>max_surface</th>\n",
       "      <th>min_nbpiece</th>\n",
       "      <th>max_nbpiece</th>\n",
       "      <th>groups</th>\n",
       "      <th>len_group</th>\n",
       "    </tr>\n",
       "  </thead>\n",
       "  <tbody>\n",
       "    <tr>\n",
       "      <th>0</th>\n",
       "      <td>149176331</td>\n",
       "      <td>75009</td>\n",
       "      <td>Paris 9ème</td>\n",
       "      <td>750109.0</td>\n",
       "      <td>exclusivite metros st georges notre dame de lo...</td>\n",
       "      <td>550000.0</td>\n",
       "      <td>42.0</td>\n",
       "      <td>1840.0</td>\n",
       "      <td>2.0</td>\n",
       "      <td>48.879756</td>\n",
       "      <td>...</td>\n",
       "      <td>Lorette-Martyrs</td>\n",
       "      <td>239</td>\n",
       "      <td>530750.0</td>\n",
       "      <td>569250.0</td>\n",
       "      <td>40.74</td>\n",
       "      <td>43.26</td>\n",
       "      <td>1.0</td>\n",
       "      <td>3.0</td>\n",
       "      <td>[]</td>\n",
       "      <td>0</td>\n",
       "    </tr>\n",
       "    <tr>\n",
       "      <th>1</th>\n",
       "      <td>145083607</td>\n",
       "      <td>75019</td>\n",
       "      <td>Paris 19ème</td>\n",
       "      <td>750119.0</td>\n",
       "      <td>proche des buttes chaumont avenue mathurin mor...</td>\n",
       "      <td>950000.0</td>\n",
       "      <td>84.0</td>\n",
       "      <td>NaN</td>\n",
       "      <td>4.0</td>\n",
       "      <td>48.878746</td>\n",
       "      <td>...</td>\n",
       "      <td>Secrétan</td>\n",
       "      <td>239</td>\n",
       "      <td>916750.0</td>\n",
       "      <td>983250.0</td>\n",
       "      <td>81.48</td>\n",
       "      <td>86.52</td>\n",
       "      <td>3.0</td>\n",
       "      <td>5.0</td>\n",
       "      <td>[]</td>\n",
       "      <td>0</td>\n",
       "    </tr>\n",
       "    <tr>\n",
       "      <th>2</th>\n",
       "      <td>153334381</td>\n",
       "      <td>75008</td>\n",
       "      <td>Paris 8ème</td>\n",
       "      <td>750108.0</td>\n",
       "      <td>a pas de la gare saint lazare chambre au eme e...</td>\n",
       "      <td>90000.0</td>\n",
       "      <td>6.0</td>\n",
       "      <td>NaN</td>\n",
       "      <td>1.0</td>\n",
       "      <td>48.879645</td>\n",
       "      <td>...</td>\n",
       "      <td>Europe</td>\n",
       "      <td>239</td>\n",
       "      <td>86850.0</td>\n",
       "      <td>93150.0</td>\n",
       "      <td>5.82</td>\n",
       "      <td>6.18</td>\n",
       "      <td>0.0</td>\n",
       "      <td>2.0</td>\n",
       "      <td>[150772943]</td>\n",
       "      <td>1</td>\n",
       "    </tr>\n",
       "    <tr>\n",
       "      <th>3</th>\n",
       "      <td>149940713</td>\n",
       "      <td>75008</td>\n",
       "      <td>Paris 8ème</td>\n",
       "      <td>750108.0</td>\n",
       "      <td>l etoile real estate vous suggeres un appartem...</td>\n",
       "      <td>3150000.0</td>\n",
       "      <td>180.0</td>\n",
       "      <td>NaN</td>\n",
       "      <td>5.0</td>\n",
       "      <td>48.871872</td>\n",
       "      <td>...</td>\n",
       "      <td>Elysées-Madeleine</td>\n",
       "      <td>239</td>\n",
       "      <td>3039750.0</td>\n",
       "      <td>3260250.0</td>\n",
       "      <td>174.60</td>\n",
       "      <td>185.40</td>\n",
       "      <td>4.0</td>\n",
       "      <td>6.0</td>\n",
       "      <td>[150937503]</td>\n",
       "      <td>1</td>\n",
       "    </tr>\n",
       "    <tr>\n",
       "      <th>4</th>\n",
       "      <td>151177031</td>\n",
       "      <td>93200</td>\n",
       "      <td>Saint-Denis</td>\n",
       "      <td>930066.0</td>\n",
       "      <td>au premier etage d un immeuble donnant sur le ...</td>\n",
       "      <td>250000.0</td>\n",
       "      <td>68.0</td>\n",
       "      <td>1978.0</td>\n",
       "      <td>3.0</td>\n",
       "      <td>48.936399</td>\n",
       "      <td>...</td>\n",
       "      <td>Centre Ville-Basilique</td>\n",
       "      <td>239</td>\n",
       "      <td>241250.0</td>\n",
       "      <td>258750.0</td>\n",
       "      <td>65.96</td>\n",
       "      <td>70.04</td>\n",
       "      <td>2.0</td>\n",
       "      <td>4.0</td>\n",
       "      <td>[]</td>\n",
       "      <td>0</td>\n",
       "    </tr>\n",
       "  </tbody>\n",
       "</table>\n",
       "<p>5 rows × 25 columns</p>\n",
       "</div>"
      ],
      "text/plain": [
       "   idannonce     cp        ville  codeinsee  \\\n",
       "0  149176331  75009   Paris 9ème   750109.0   \n",
       "1  145083607  75019  Paris 19ème   750119.0   \n",
       "2  153334381  75008   Paris 8ème   750108.0   \n",
       "3  149940713  75008   Paris 8ème   750108.0   \n",
       "4  151177031  93200  Saint-Denis   930066.0   \n",
       "\n",
       "                                       descriptif_fr         px  surface  \\\n",
       "0  exclusivite metros st georges notre dame de lo...   550000.0     42.0   \n",
       "1  proche des buttes chaumont avenue mathurin mor...   950000.0     84.0   \n",
       "2  a pas de la gare saint lazare chambre au eme e...    90000.0      6.0   \n",
       "3  l etoile real estate vous suggeres un appartem...  3150000.0    180.0   \n",
       "4  au premier etage d un immeuble donnant sur le ...   250000.0     68.0   \n",
       "\n",
       "   annee_construct  nb_pieces   latitude  ...          districts_name  \\\n",
       "0           1840.0        2.0  48.879756  ...         Lorette-Martyrs   \n",
       "1              NaN        4.0  48.878746  ...                Secrétan   \n",
       "2              NaN        1.0  48.879645  ...                  Europe   \n",
       "3              NaN        5.0  48.871872  ...       Elysées-Madeleine   \n",
       "4           1978.0        3.0  48.936399  ...  Centre Ville-Basilique   \n",
       "\n",
       "  region_id     min_px     max_px  min_surface max_surface  min_nbpiece  \\\n",
       "0       239   530750.0   569250.0        40.74       43.26          1.0   \n",
       "1       239   916750.0   983250.0        81.48       86.52          3.0   \n",
       "2       239    86850.0    93150.0         5.82        6.18          0.0   \n",
       "3       239  3039750.0  3260250.0       174.60      185.40          4.0   \n",
       "4       239   241250.0   258750.0        65.96       70.04          2.0   \n",
       "\n",
       "   max_nbpiece       groups  len_group  \n",
       "0          3.0           []          0  \n",
       "1          5.0           []          0  \n",
       "2          2.0  [150772943]          1  \n",
       "3          6.0  [150937503]          1  \n",
       "4          4.0           []          0  \n",
       "\n",
       "[5 rows x 25 columns]"
      ]
     },
     "execution_count": 39,
     "metadata": {},
     "output_type": "execute_result"
    }
   ],
   "source": [
    "groupped_paris18.head()"
   ]
  },
  {
   "cell_type": "markdown",
   "metadata": {},
   "source": [
    "### Montpellier"
   ]
  },
  {
   "cell_type": "code",
   "execution_count": 81,
   "metadata": {},
   "outputs": [],
   "source": [
    "delta_price = 2\n",
    "delta_surface = 2\n",
    "delta_nbpiece = 1\n",
    "\n",
    "groupped_montpellier = group_function(df_montpellier, delta_price, delta_surface, delta_nbpiece)"
   ]
  },
  {
   "cell_type": "code",
   "execution_count": 82,
   "metadata": {},
   "outputs": [
    {
     "name": "stdout",
     "output_type": "stream",
     "text": [
      "1938 idannonce in Montpellier\n",
      "506 idannonce in Montpellier has 0 propositions\n",
      "2.4401444788441693 mean number of propositions in Montpellier\n",
      "18 max number of proposition in Montpellier\n"
     ]
    }
   ],
   "source": [
    "print(len(groupped_montpellier['idannonce'].unique()), 'idannonce in Montpellier')\n",
    "print(np.sum(groupped_montpellier.apply(get_len, axis = 1) == 0), 'idannonce in Montpellier has 0 propositions')\n",
    "print(np.mean(groupped_montpellier.apply(get_len, axis = 1)), 'mean number of propositions in Montpellier')\n",
    "print(max(groupped_montpellier.apply(get_len, axis = 1)), 'max number of proposition in Montpellier')"
   ]
  },
  {
   "cell_type": "code",
   "execution_count": 83,
   "metadata": {
    "scrolled": true
   },
   "outputs": [
    {
     "data": {
      "text/html": [
       "<div>\n",
       "<style scoped>\n",
       "    .dataframe tbody tr th:only-of-type {\n",
       "        vertical-align: middle;\n",
       "    }\n",
       "\n",
       "    .dataframe tbody tr th {\n",
       "        vertical-align: top;\n",
       "    }\n",
       "\n",
       "    .dataframe thead th {\n",
       "        text-align: right;\n",
       "    }\n",
       "</style>\n",
       "<table border=\"1\" class=\"dataframe\">\n",
       "  <thead>\n",
       "    <tr style=\"text-align: right;\">\n",
       "      <th></th>\n",
       "      <th>idannonce</th>\n",
       "      <th>cp</th>\n",
       "      <th>ville</th>\n",
       "      <th>codeinsee</th>\n",
       "      <th>descriptif_fr</th>\n",
       "      <th>px</th>\n",
       "      <th>surface</th>\n",
       "      <th>annee_construct</th>\n",
       "      <th>nb_pieces</th>\n",
       "      <th>latitude</th>\n",
       "      <th>...</th>\n",
       "      <th>districts_name</th>\n",
       "      <th>region_id</th>\n",
       "      <th>min_px</th>\n",
       "      <th>max_px</th>\n",
       "      <th>min_surface</th>\n",
       "      <th>max_surface</th>\n",
       "      <th>min_nbpiece</th>\n",
       "      <th>max_nbpiece</th>\n",
       "      <th>groups</th>\n",
       "      <th>len_group</th>\n",
       "    </tr>\n",
       "  </thead>\n",
       "  <tbody>\n",
       "    <tr>\n",
       "      <th>1850</th>\n",
       "      <td>153882117</td>\n",
       "      <td>34000</td>\n",
       "      <td>Montpellier</td>\n",
       "      <td>340172.0</td>\n",
       "      <td>pres d arenes t de m a deux pas du centre hist...</td>\n",
       "      <td>196000.0</td>\n",
       "      <td>49.0</td>\n",
       "      <td>NaN</td>\n",
       "      <td>2.0</td>\n",
       "      <td>43.604727</td>\n",
       "      <td>...</td>\n",
       "      <td>Port Marianne</td>\n",
       "      <td>240</td>\n",
       "      <td>192080.00</td>\n",
       "      <td>199920.00</td>\n",
       "      <td>48.02</td>\n",
       "      <td>49.98</td>\n",
       "      <td>1.0</td>\n",
       "      <td>3.0</td>\n",
       "      <td>[152838137, 153433453]</td>\n",
       "      <td>2</td>\n",
       "    </tr>\n",
       "    <tr>\n",
       "      <th>1851</th>\n",
       "      <td>137167811</td>\n",
       "      <td>34000</td>\n",
       "      <td>Montpellier</td>\n",
       "      <td>340172.0</td>\n",
       "      <td>au premier etage d une residence securisee t d...</td>\n",
       "      <td>138112.0</td>\n",
       "      <td>46.0</td>\n",
       "      <td>NaN</td>\n",
       "      <td>2.0</td>\n",
       "      <td>43.604727</td>\n",
       "      <td>...</td>\n",
       "      <td>Port Marianne</td>\n",
       "      <td>240</td>\n",
       "      <td>135349.76</td>\n",
       "      <td>140874.24</td>\n",
       "      <td>45.08</td>\n",
       "      <td>46.92</td>\n",
       "      <td>1.0</td>\n",
       "      <td>3.0</td>\n",
       "      <td>[]</td>\n",
       "      <td>0</td>\n",
       "    </tr>\n",
       "    <tr>\n",
       "      <th>1852</th>\n",
       "      <td>153356669</td>\n",
       "      <td>34000</td>\n",
       "      <td>Montpellier</td>\n",
       "      <td>340172.0</td>\n",
       "      <td>herault a vendre a montpellier dans le secteur...</td>\n",
       "      <td>229000.0</td>\n",
       "      <td>106.0</td>\n",
       "      <td>1970.0</td>\n",
       "      <td>4.0</td>\n",
       "      <td>43.604727</td>\n",
       "      <td>...</td>\n",
       "      <td>Port Marianne</td>\n",
       "      <td>240</td>\n",
       "      <td>224420.00</td>\n",
       "      <td>233580.00</td>\n",
       "      <td>103.88</td>\n",
       "      <td>108.12</td>\n",
       "      <td>3.0</td>\n",
       "      <td>5.0</td>\n",
       "      <td>[153217207, 151328671]</td>\n",
       "      <td>2</td>\n",
       "    </tr>\n",
       "    <tr>\n",
       "      <th>1853</th>\n",
       "      <td>154506007</td>\n",
       "      <td>34000</td>\n",
       "      <td>Montpellier</td>\n",
       "      <td>340172.0</td>\n",
       "      <td>appartement d exception dans residence haut de...</td>\n",
       "      <td>650000.0</td>\n",
       "      <td>93.0</td>\n",
       "      <td>NaN</td>\n",
       "      <td>4.0</td>\n",
       "      <td>43.604727</td>\n",
       "      <td>...</td>\n",
       "      <td>Port Marianne</td>\n",
       "      <td>240</td>\n",
       "      <td>637000.00</td>\n",
       "      <td>663000.00</td>\n",
       "      <td>91.14</td>\n",
       "      <td>94.86</td>\n",
       "      <td>3.0</td>\n",
       "      <td>5.0</td>\n",
       "      <td>[153207129]</td>\n",
       "      <td>1</td>\n",
       "    </tr>\n",
       "    <tr>\n",
       "      <th>1854</th>\n",
       "      <td>153597569</td>\n",
       "      <td>34430</td>\n",
       "      <td>Saint Jean de Vedas</td>\n",
       "      <td>340270.0</td>\n",
       "      <td>st jean de vedas proche de l a de la station d...</td>\n",
       "      <td>399000.0</td>\n",
       "      <td>110.0</td>\n",
       "      <td>2018.0</td>\n",
       "      <td>4.0</td>\n",
       "      <td>43.568759</td>\n",
       "      <td>...</td>\n",
       "      <td>Sud</td>\n",
       "      <td>240</td>\n",
       "      <td>391020.00</td>\n",
       "      <td>406980.00</td>\n",
       "      <td>107.80</td>\n",
       "      <td>112.20</td>\n",
       "      <td>3.0</td>\n",
       "      <td>5.0</td>\n",
       "      <td>[]</td>\n",
       "      <td>0</td>\n",
       "    </tr>\n",
       "  </tbody>\n",
       "</table>\n",
       "<p>5 rows × 25 columns</p>\n",
       "</div>"
      ],
      "text/plain": [
       "      idannonce     cp                ville  codeinsee  \\\n",
       "1850  153882117  34000          Montpellier   340172.0   \n",
       "1851  137167811  34000          Montpellier   340172.0   \n",
       "1852  153356669  34000          Montpellier   340172.0   \n",
       "1853  154506007  34000          Montpellier   340172.0   \n",
       "1854  153597569  34430  Saint Jean de Vedas   340270.0   \n",
       "\n",
       "                                          descriptif_fr        px  surface  \\\n",
       "1850  pres d arenes t de m a deux pas du centre hist...  196000.0     49.0   \n",
       "1851  au premier etage d une residence securisee t d...  138112.0     46.0   \n",
       "1852  herault a vendre a montpellier dans le secteur...  229000.0    106.0   \n",
       "1853  appartement d exception dans residence haut de...  650000.0     93.0   \n",
       "1854  st jean de vedas proche de l a de la station d...  399000.0    110.0   \n",
       "\n",
       "      annee_construct  nb_pieces   latitude  ...  districts_name region_id  \\\n",
       "1850              NaN        2.0  43.604727  ...   Port Marianne       240   \n",
       "1851              NaN        2.0  43.604727  ...   Port Marianne       240   \n",
       "1852           1970.0        4.0  43.604727  ...   Port Marianne       240   \n",
       "1853              NaN        4.0  43.604727  ...   Port Marianne       240   \n",
       "1854           2018.0        4.0  43.568759  ...             Sud       240   \n",
       "\n",
       "         min_px     max_px  min_surface max_surface  min_nbpiece  max_nbpiece  \\\n",
       "1850  192080.00  199920.00        48.02       49.98          1.0          3.0   \n",
       "1851  135349.76  140874.24        45.08       46.92          1.0          3.0   \n",
       "1852  224420.00  233580.00       103.88      108.12          3.0          5.0   \n",
       "1853  637000.00  663000.00        91.14       94.86          3.0          5.0   \n",
       "1854  391020.00  406980.00       107.80      112.20          3.0          5.0   \n",
       "\n",
       "                      groups  len_group  \n",
       "1850  [152838137, 153433453]          2  \n",
       "1851                      []          0  \n",
       "1852  [153217207, 151328671]          2  \n",
       "1853             [153207129]          1  \n",
       "1854                      []          0  \n",
       "\n",
       "[5 rows x 25 columns]"
      ]
     },
     "execution_count": 83,
     "metadata": {},
     "output_type": "execute_result"
    }
   ],
   "source": [
    "groupped_montpellier.head()"
   ]
  },
  {
   "cell_type": "code",
   "execution_count": 84,
   "metadata": {},
   "outputs": [
    {
     "data": {
      "text/plain": [
       "<matplotlib.axes._subplots.AxesSubplot at 0x7f7bcdde8450>"
      ]
     },
     "execution_count": 84,
     "metadata": {},
     "output_type": "execute_result"
    },
    {
     "data": {
      "image/png": "[encoded data removed]",
      "text/plain": [
       "<Figure size 432x288 with 1 Axes>"
      ]
     },
     "metadata": {
      "needs_background": "light"
     },
     "output_type": "display_data"
    }
   ],
   "source": [
    "groupped_montpellier.len_group.hist()"
   ]
  },
  {
   "cell_type": "markdown",
   "metadata": {},
   "source": [
    "### Grenoble"
   ]
  },
  {
   "cell_type": "code",
   "execution_count": 77,
   "metadata": {},
   "outputs": [],
   "source": [
    "delta_price = 3\n",
    "delta_surface = 2\n",
    "delta_nbpiece = 1\n",
    "\n",
    "groupped_grenoble = group_function(df_grenoble, delta_price, delta_surface, delta_nbpiece)"
   ]
  },
  {
   "cell_type": "code",
   "execution_count": 78,
   "metadata": {
    "scrolled": true
   },
   "outputs": [
    {
     "name": "stdout",
     "output_type": "stream",
     "text": [
      "882 idannonce in Grenoble\n",
      "253 idannonce in Grenoble has 0 propositions\n",
      "1.9160997732426304 mean number of propositions in Grenoble\n",
      "12 max number of proposition in Grenoble\n"
     ]
    }
   ],
   "source": [
    "print(len(groupped_grenoble['idannonce'].unique()), 'idannonce in Grenoble')\n",
    "print(np.sum(groupped_grenoble.apply(get_len, axis = 1) == 0), 'idannonce in Grenoble has 0 propositions')\n",
    "print(np.mean(groupped_grenoble.apply(get_len, axis = 1)), 'mean number of propositions in Grenoble')\n",
    "print(max(groupped_grenoble.apply(get_len, axis = 1)), 'max number of proposition in Grenoble')"
   ]
  },
  {
   "cell_type": "code",
   "execution_count": 79,
   "metadata": {
    "scrolled": true
   },
   "outputs": [
    {
     "data": {
      "text/html": [
       "<div>\n",
       "<style scoped>\n",
       "    .dataframe tbody tr th:only-of-type {\n",
       "        vertical-align: middle;\n",
       "    }\n",
       "\n",
       "    .dataframe tbody tr th {\n",
       "        vertical-align: top;\n",
       "    }\n",
       "\n",
       "    .dataframe thead th {\n",
       "        text-align: right;\n",
       "    }\n",
       "</style>\n",
       "<table border=\"1\" class=\"dataframe\">\n",
       "  <thead>\n",
       "    <tr style=\"text-align: right;\">\n",
       "      <th></th>\n",
       "      <th>idannonce</th>\n",
       "      <th>cp</th>\n",
       "      <th>ville</th>\n",
       "      <th>codeinsee</th>\n",
       "      <th>descriptif_fr</th>\n",
       "      <th>px</th>\n",
       "      <th>surface</th>\n",
       "      <th>annee_construct</th>\n",
       "      <th>nb_pieces</th>\n",
       "      <th>latitude</th>\n",
       "      <th>...</th>\n",
       "      <th>districts_name</th>\n",
       "      <th>region_id</th>\n",
       "      <th>min_px</th>\n",
       "      <th>max_px</th>\n",
       "      <th>min_surface</th>\n",
       "      <th>max_surface</th>\n",
       "      <th>min_nbpiece</th>\n",
       "      <th>max_nbpiece</th>\n",
       "      <th>groups</th>\n",
       "      <th>len_group</th>\n",
       "    </tr>\n",
       "  </thead>\n",
       "  <tbody>\n",
       "    <tr>\n",
       "      <th>968</th>\n",
       "      <td>152917265</td>\n",
       "      <td>38100</td>\n",
       "      <td>Grenoble</td>\n",
       "      <td>380185.0</td>\n",
       "      <td>grenoble allee de la pelouse en bordure du par...</td>\n",
       "      <td>88000.0</td>\n",
       "      <td>80.08</td>\n",
       "      <td>NaN</td>\n",
       "      <td>4.0</td>\n",
       "      <td>45.162621</td>\n",
       "      <td>...</td>\n",
       "      <td>Arlequin</td>\n",
       "      <td>252</td>\n",
       "      <td>85360.0</td>\n",
       "      <td>90640.0</td>\n",
       "      <td>78.4784</td>\n",
       "      <td>81.6816</td>\n",
       "      <td>3.0</td>\n",
       "      <td>5.0</td>\n",
       "      <td>[137918345, 152656465, 154105923]</td>\n",
       "      <td>3</td>\n",
       "    </tr>\n",
       "    <tr>\n",
       "      <th>969</th>\n",
       "      <td>151210099</td>\n",
       "      <td>38100</td>\n",
       "      <td>Grenoble</td>\n",
       "      <td>380185.0</td>\n",
       "      <td>era immobilier gresivaudan a trouve pour vous ...</td>\n",
       "      <td>158970.0</td>\n",
       "      <td>70.00</td>\n",
       "      <td>1960.0</td>\n",
       "      <td>3.0</td>\n",
       "      <td>45.180660</td>\n",
       "      <td>...</td>\n",
       "      <td>Allies-Clos d'Or</td>\n",
       "      <td>252</td>\n",
       "      <td>154200.9</td>\n",
       "      <td>163739.1</td>\n",
       "      <td>68.6000</td>\n",
       "      <td>71.4000</td>\n",
       "      <td>2.0</td>\n",
       "      <td>4.0</td>\n",
       "      <td>[142827435]</td>\n",
       "      <td>1</td>\n",
       "    </tr>\n",
       "    <tr>\n",
       "      <th>970</th>\n",
       "      <td>150907823</td>\n",
       "      <td>38130</td>\n",
       "      <td>Échirolles</td>\n",
       "      <td>380151.0</td>\n",
       "      <td>iad france sophie armand vous propose echiroll...</td>\n",
       "      <td>125000.0</td>\n",
       "      <td>63.00</td>\n",
       "      <td>1970.0</td>\n",
       "      <td>4.0</td>\n",
       "      <td>45.147226</td>\n",
       "      <td>...</td>\n",
       "      <td>Comboire</td>\n",
       "      <td>252</td>\n",
       "      <td>121250.0</td>\n",
       "      <td>128750.0</td>\n",
       "      <td>61.7400</td>\n",
       "      <td>64.2600</td>\n",
       "      <td>3.0</td>\n",
       "      <td>5.0</td>\n",
       "      <td>[151785547, 152595879, 154223735]</td>\n",
       "      <td>3</td>\n",
       "    </tr>\n",
       "    <tr>\n",
       "      <th>971</th>\n",
       "      <td>148550245</td>\n",
       "      <td>38000</td>\n",
       "      <td>Grenoble</td>\n",
       "      <td>380185.0</td>\n",
       "      <td>appartement residence etudiante marie curie de...</td>\n",
       "      <td>67000.0</td>\n",
       "      <td>18.00</td>\n",
       "      <td>NaN</td>\n",
       "      <td>1.0</td>\n",
       "      <td>45.194349</td>\n",
       "      <td>...</td>\n",
       "      <td>Berriat-Ampere</td>\n",
       "      <td>252</td>\n",
       "      <td>64990.0</td>\n",
       "      <td>69010.0</td>\n",
       "      <td>17.6400</td>\n",
       "      <td>18.3600</td>\n",
       "      <td>0.0</td>\n",
       "      <td>2.0</td>\n",
       "      <td>[]</td>\n",
       "      <td>0</td>\n",
       "    </tr>\n",
       "    <tr>\n",
       "      <th>972</th>\n",
       "      <td>152658935</td>\n",
       "      <td>38400</td>\n",
       "      <td>Saint Martin d Heres</td>\n",
       "      <td>380421.0</td>\n",
       "      <td>secteur parc jo blanchon au calme et proche tr...</td>\n",
       "      <td>199000.0</td>\n",
       "      <td>99.00</td>\n",
       "      <td>NaN</td>\n",
       "      <td>6.0</td>\n",
       "      <td>45.173628</td>\n",
       "      <td>...</td>\n",
       "      <td>Renaudie-La Plaine</td>\n",
       "      <td>252</td>\n",
       "      <td>193030.0</td>\n",
       "      <td>204970.0</td>\n",
       "      <td>97.0200</td>\n",
       "      <td>100.9800</td>\n",
       "      <td>5.0</td>\n",
       "      <td>7.0</td>\n",
       "      <td>[]</td>\n",
       "      <td>0</td>\n",
       "    </tr>\n",
       "  </tbody>\n",
       "</table>\n",
       "<p>5 rows × 25 columns</p>\n",
       "</div>"
      ],
      "text/plain": [
       "     idannonce     cp                 ville  codeinsee  \\\n",
       "968  152917265  38100              Grenoble   380185.0   \n",
       "969  151210099  38100              Grenoble   380185.0   \n",
       "970  150907823  38130            Échirolles   380151.0   \n",
       "971  148550245  38000              Grenoble   380185.0   \n",
       "972  152658935  38400  Saint Martin d Heres   380421.0   \n",
       "\n",
       "                                         descriptif_fr        px  surface  \\\n",
       "968  grenoble allee de la pelouse en bordure du par...   88000.0    80.08   \n",
       "969  era immobilier gresivaudan a trouve pour vous ...  158970.0    70.00   \n",
       "970  iad france sophie armand vous propose echiroll...  125000.0    63.00   \n",
       "971  appartement residence etudiante marie curie de...   67000.0    18.00   \n",
       "972  secteur parc jo blanchon au calme et proche tr...  199000.0    99.00   \n",
       "\n",
       "     annee_construct  nb_pieces   latitude  ...      districts_name region_id  \\\n",
       "968              NaN        4.0  45.162621  ...            Arlequin       252   \n",
       "969           1960.0        3.0  45.180660  ...    Allies-Clos d'Or       252   \n",
       "970           1970.0        4.0  45.147226  ...            Comboire       252   \n",
       "971              NaN        1.0  45.194349  ...      Berriat-Ampere       252   \n",
       "972              NaN        6.0  45.173628  ...  Renaudie-La Plaine       252   \n",
       "\n",
       "       min_px    max_px  min_surface max_surface  min_nbpiece  max_nbpiece  \\\n",
       "968   85360.0   90640.0      78.4784     81.6816          3.0          5.0   \n",
       "969  154200.9  163739.1      68.6000     71.4000          2.0          4.0   \n",
       "970  121250.0  128750.0      61.7400     64.2600          3.0          5.0   \n",
       "971   64990.0   69010.0      17.6400     18.3600          0.0          2.0   \n",
       "972  193030.0  204970.0      97.0200    100.9800          5.0          7.0   \n",
       "\n",
       "                                groups  len_group  \n",
       "968  [137918345, 152656465, 154105923]          3  \n",
       "969                        [142827435]          1  \n",
       "970  [151785547, 152595879, 154223735]          3  \n",
       "971                                 []          0  \n",
       "972                                 []          0  \n",
       "\n",
       "[5 rows x 25 columns]"
      ]
     },
     "execution_count": 79,
     "metadata": {},
     "output_type": "execute_result"
    }
   ],
   "source": [
    "groupped_grenoble.head()"
   ]
  },
  {
   "cell_type": "code",
   "execution_count": 80,
   "metadata": {},
   "outputs": [
    {
     "data": {
      "text/plain": [
       "<matplotlib.axes._subplots.AxesSubplot at 0x7f7bc7df0750>"
      ]
     },
     "execution_count": 80,
     "metadata": {},
     "output_type": "execute_result"
    },
    {
     "data": {
      "image/png": "[encoded data removed]",
      "text/plain": [
       "<Figure size 432x288 with 1 Axes>"
      ]
     },
     "metadata": {
      "needs_background": "light"
     },
     "output_type": "display_data"
    }
   ],
   "source": [
    "groupped_grenoble.len_group.hist()"
   ]
  },
  {
   "cell_type": "markdown",
   "metadata": {},
   "source": [
    "### Checks if idannonce is unique"
   ]
  },
  {
   "cell_type": "code",
   "execution_count": 85,
   "metadata": {
    "scrolled": true
   },
   "outputs": [
    {
     "name": "stdout",
     "output_type": "stream",
     "text": [
      "True\n",
      "True\n",
      "True\n"
     ]
    }
   ],
   "source": [
    "print(groupped_paris18.set_index('idannonce').index.is_unique)\n",
    "print(groupped_montpellier.set_index('idannonce').index.is_unique)\n",
    "print(groupped_grenoble.set_index('idannonce').index.is_unique)"
   ]
  },
  {
   "cell_type": "markdown",
   "metadata": {},
   "source": [
    "### Saving"
   ]
  },
  {
   "cell_type": "code",
   "execution_count": 86,
   "metadata": {},
   "outputs": [],
   "source": [
    "def get_group_list(df, min_len, max_len):\n",
    "    df_filtered = df[(df.len_group >= min_len) & (df.len_group <= max_len)].copy()\n",
    "    list_group = []\n",
    "    for _, row in df_filtered.iterrows():\n",
    "        group = [row.idannonce] + eval(row.groups)\n",
    "        list_group.append(group)\n",
    "    return list_group\n",
    "    "
   ]
  },
  {
   "cell_type": "code",
   "execution_count": 91,
   "metadata": {},
   "outputs": [
    {
     "data": {
      "text/plain": [
       "'422 idannonce in Paris'"
      ]
     },
     "execution_count": 91,
     "metadata": {},
     "output_type": "execute_result"
    }
   ],
   "source": [
    "# Groups on Paris\n",
    "list_of_groups = get_group_list(groupped_paris18, 2, 20)\n",
    "list_idannonce_flat = [item for sublist in list_of_groups for item in sublist]\n",
    "list_ids_paris = list(set(list_idannonce_flat))\n",
    "f'{len(list_ids_paris)} idannonce in Paris'"
   ]
  },
  {
   "cell_type": "code",
   "execution_count": 92,
   "metadata": {},
   "outputs": [
    {
     "data": {
      "text/plain": [
       "'1133 idannonce in Montpellier'"
      ]
     },
     "execution_count": 92,
     "metadata": {},
     "output_type": "execute_result"
    }
   ],
   "source": [
    "# Groups on Motnpellier\n",
    "list_of_groups = get_group_list(groupped_montpellier, 2, 20)\n",
    "list_idannonce_flat = [item for sublist in list_of_groups for item in sublist]\n",
    "list_ids_montpellier = list(set(list_idannonce_flat))\n",
    "f'{len(list_ids_montpellier)} idannonce in Montpellier'"
   ]
  },
  {
   "cell_type": "code",
   "execution_count": 93,
   "metadata": {
    "scrolled": true
   },
   "outputs": [
    {
     "data": {
      "text/plain": [
       "'496 idannonce in Grenoble'"
      ]
     },
     "execution_count": 93,
     "metadata": {},
     "output_type": "execute_result"
    }
   ],
   "source": [
    "# Groups on Motnpellier\n",
    "list_of_groups = get_group_list(groupped_grenoble, 2, 20)\n",
    "list_idannonce_flat = [item for sublist in list_of_groups for item in sublist]\n",
    "list_ids_grenoble = list(set(list_idannonce_flat))\n",
    "f'{len(list_ids_grenoble)} idannonce in Grenoble'"
   ]
  },
  {
   "cell_type": "code",
   "execution_count": 94,
   "metadata": {},
   "outputs": [
    {
     "data": {
      "text/plain": [
       "2051"
      ]
     },
     "execution_count": 94,
     "metadata": {},
     "output_type": "execute_result"
    }
   ],
   "source": [
    "list_ids_annotation = list_ids_paris + list_ids_montpellier + list_ids_grenoble\n",
    "len(list_ids_annotation)"
   ]
  },
  {
   "cell_type": "code",
   "execution_count": 95,
   "metadata": {
    "ExecuteTime": {
     "end_time": "2020-02-24T15:17:43.505028Z",
     "start_time": "2020-02-24T15:17:43.500422Z"
    },
    "scrolled": true
   },
   "outputs": [],
   "source": [
    "import json\n",
    "with open('/home/jeanchristophe/dataFolder/ppty_goldset/idannonce_dedup.json', 'w') as handle:\n",
    "    json.dump(list_ids_annotation, handle)"
   ]
  },
  {
   "cell_type": "code",
   "execution_count": 96,
   "metadata": {
    "ExecuteTime": {
     "end_time": "2020-02-24T15:14:40.277970Z",
     "start_time": "2020-02-24T15:14:40.266417Z"
    }
   },
   "outputs": [],
   "source": [
    "groups_goldataset = pd.concat([groupped_grenoble, groupped_montpellier, groupped_paris18], sort=False)"
   ]
  },
  {
   "cell_type": "code",
   "execution_count": 97,
   "metadata": {
    "ExecuteTime": {
     "end_time": "2020-02-24T16:30:31.265375Z",
     "start_time": "2020-02-24T16:30:31.257264Z"
    }
   },
   "outputs": [
    {
     "data": {
      "text/plain": [
       "count    968.000000\n",
       "mean       1.616736\n",
       "std        2.065326\n",
       "min        0.000000\n",
       "25%        0.000000\n",
       "50%        1.000000\n",
       "75%        2.000000\n",
       "max       11.000000\n",
       "Name: len_group, dtype: float64"
      ]
     },
     "execution_count": 97,
     "metadata": {},
     "output_type": "execute_result"
    }
   ],
   "source": [
    "groupped_paris18.len_group.describe()"
   ]
  },
  {
   "cell_type": "code",
   "execution_count": 98,
   "metadata": {
    "ExecuteTime": {
     "end_time": "2020-02-24T16:29:47.796191Z",
     "start_time": "2020-02-24T16:29:47.787908Z"
    }
   },
   "outputs": [
    {
     "data": {
      "text/plain": [
       "count    3788.000000\n",
       "mean        2.107709\n",
       "std         2.480665\n",
       "min         0.000000\n",
       "25%         0.000000\n",
       "50%         1.000000\n",
       "75%         3.000000\n",
       "max        18.000000\n",
       "Name: len_group, dtype: float64"
      ]
     },
     "execution_count": 98,
     "metadata": {},
     "output_type": "execute_result"
    }
   ],
   "source": [
    "groups_goldataset.len_group.describe()"
   ]
  },
  {
   "cell_type": "code",
   "execution_count": 99,
   "metadata": {
    "ExecuteTime": {
     "end_time": "2020-02-24T15:16:14.634515Z",
     "start_time": "2020-02-24T15:16:14.495556Z"
    }
   },
   "outputs": [],
   "source": [
    "groups_goldataset.to_csv('/home/jeanchristophe/dataFolder/ppty_goldset/goldset_dedup_grouped.csv', index=False)"
   ]
  },
  {
   "cell_type": "markdown",
   "metadata": {},
   "source": [
    "# Check image access"
   ]
  },
  {
   "cell_type": "code",
   "execution_count": 100,
   "metadata": {
    "ExecuteTime": {
     "end_time": "2020-03-27T10:33:33.901704Z",
     "start_time": "2020-03-27T10:33:33.898054Z"
    }
   },
   "outputs": [],
   "source": [
    "import json\n",
    "with open('/home/jeanchristophe/dataFolder/ppty_goldset/idannonce_dedup.json', 'r') as handle:\n",
    "    selected_id_annonce = json.load(handle)"
   ]
  },
  {
   "cell_type": "code",
   "execution_count": null,
   "metadata": {
    "ExecuteTime": {
     "end_time": "2020-03-27T10:42:07.629427Z",
     "start_time": "2020-03-27T10:42:03.471770Z"
    }
   },
   "outputs": [],
   "source": [
    "import pandas as pd\n",
    "id_photo = pd.read_excel('/home/jeanchristophe/codeFolder/ppty_goldset/data/mapping_id_tag.xlsx')"
   ]
  },
  {
   "cell_type": "code",
   "execution_count": null,
   "metadata": {},
   "outputs": [],
   "source": [
    "id_photo"
   ]
  },
  {
   "cell_type": "code",
   "execution_count": null,
   "metadata": {},
   "outputs": [],
   "source": []
  }
 ],
 "metadata": {
  "kernelspec": {
   "display_name": "doublons3.7",
   "language": "python",
   "name": "doublons3.7"
  },
  "language_info": {
   "codemirror_mode": {
    "name": "ipython",
    "version": 3
   },
   "file_extension": ".py",
   "mimetype": "text/x-python",
   "name": "python",
   "nbconvert_exporter": "python",
   "pygments_lexer": "ipython3",
   "version": "3.7.7"
  },
  "toc": {
   "base_numbering": 1,
   "nav_menu": {},
   "number_sections": true,
   "sideBar": true,
   "skip_h1_title": false,
   "title_cell": "Table of Contents",
   "title_sidebar": "Contents",
   "toc_cell": false,
   "toc_position": {
    "height": "calc(100% - 180px)",
    "left": "10px",
    "top": "150px",
    "width": "258.075px"
   },
   "toc_section_display": true,
   "toc_window_display": true
  },
  "varInspector": {
   "cols": {
    "lenName": 16,
    "lenType": 16,
    "lenVar": 40
   },
   "kernels_config": {
    "python": {
     "delete_cmd_postfix": "",
     "delete_cmd_prefix": "del ",
     "library": "var_list.py",
     "varRefreshCmd": "print(var_dic_list())"
    },
    "r": {
     "delete_cmd_postfix": ") ",
     "delete_cmd_prefix": "rm(",
     "library": "var_list.r",
     "varRefreshCmd": "cat(var_dic_list()) "
    }
   },
   "position": {
    "height": "408.4px",
    "left": "1164.6px",
    "right": "20px",
    "top": "120px",
    "width": "351.4px"
   },
   "types_to_exclude": [
    "module",
    "function",
    "builtin_function_or_method",
    "instance",
    "_Feature"
   ],
   "window_display": false
  }
 },
 "nbformat": 4,
 "nbformat_minor": 4
}
